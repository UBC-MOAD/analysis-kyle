{
 "metadata": {
  "name": "",
  "signature": "sha256:59ead3c3b86c7208268cb9760a06ddb44aa90c03e0615b9cd891d95e012329e3"
 },
 "nbformat": 3,
 "nbformat_minor": 0,
 "worksheets": [
  {
   "cells": [
    {
     "cell_type": "code",
     "collapsed": false,
     "input": [],
     "language": "python",
     "metadata": {},
     "outputs": [],
     "prompt_number": 0
    },
    {
     "cell_type": "code",
     "collapsed": false,
     "input": [
      "import glob\n",
      "import scipy.io\n",
      "import numpy as np\n",
      "import netCDF4 as nc\n",
      "from __future__ import print_function"
     ],
     "language": "python",
     "metadata": {},
     "outputs": [],
     "prompt_number": 1
    },
    {
     "cell_type": "heading",
     "level": 1,
     "metadata": {},
     "source": [
      "Create a netCDF file for NEMO"
     ]
    },
    {
     "cell_type": "markdown",
     "metadata": {},
     "source": [
      "Read the data"
     ]
    },
    {
     "cell_type": "code",
     "collapsed": false,
     "input": [
      "rf_name=glob.glob('_data/Exchange/Ba_ORCA2_2deg.mat')\n",
      "print(\"found file: \\n{}\".format(rf_name[0]))\n",
      "Ba_obj=scipy.io.loadmat(rf_name[0])"
     ],
     "language": "python",
     "metadata": {},
     "outputs": [
      {
       "output_type": "stream",
       "stream": "stdout",
       "text": [
        "found file: \n",
        "_data/Exchange/Ba_ORCA2_2deg.mat\n"
       ]
      }
     ],
     "prompt_number": 2
    },
    {
     "cell_type": "code",
     "collapsed": false,
     "input": [
      "Ba_ORCA2_2deg=Ba_obj['Ba_ORCA2_2deg']\n",
      "nav_lon=Ba_obj['nav_lon']\n",
      "nav_lat=Ba_obj['nav_lat']"
     ],
     "language": "python",
     "metadata": {},
     "outputs": [],
     "prompt_number": 3
    },
    {
     "cell_type": "markdown",
     "metadata": {},
     "source": [
      "Get `time_counter` from Xianming's original file."
     ]
    },
    {
     "cell_type": "code",
     "collapsed": false,
     "input": [
      "ANHA4_name=glob.glob('_data/NEMO/ANHA4_runoff_monthly_DaiTrenberth_fewPTs.nc')\n",
      "ANH4_obj=nc.Dataset(ANHA4_name[0])\n",
      "time_counter=ANH4_obj.variables['time_counter'][:]"
     ],
     "language": "python",
     "metadata": {},
     "outputs": [],
     "prompt_number": 4
    },
    {
     "cell_type": "code",
     "collapsed": false,
     "input": [
      "nc_obj = nc.Dataset('_data/Exchange/Ba_ORCA2_2deg_test.nc', 'w', format='NETCDF4')\n",
      "print(nc_obj.file_format)"
     ],
     "language": "python",
     "metadata": {},
     "outputs": [
      {
       "output_type": "stream",
       "stream": "stdout",
       "text": [
        "NETCDF4\n"
       ]
      }
     ],
     "prompt_number": 5
    },
    {
     "cell_type": "code",
     "collapsed": false,
     "input": [
      "Ba_ORCA2_2deg.shape"
     ],
     "language": "python",
     "metadata": {},
     "outputs": [
      {
       "metadata": {},
       "output_type": "pyout",
       "prompt_number": 6,
       "text": [
        "(12L, 149L, 182L)"
       ]
      }
     ],
     "prompt_number": 6
    },
    {
     "cell_type": "markdown",
     "metadata": {},
     "source": [
      "Create dimensions."
     ]
    },
    {
     "cell_type": "code",
     "collapsed": false,
     "input": [
      "level=nc_obj.createDimension('level', 1)\n",
      "time=nc_obj.createDimension('time', 12)\n",
      "lat=nc_obj.createDimension('lat', 149)\n",
      "lon=nc_obj.createDimension('lon', 182)"
     ],
     "language": "python",
     "metadata": {},
     "outputs": [],
     "prompt_number": 7
    },
    {
     "cell_type": "code",
     "collapsed": false,
     "input": [
      "print(level.isunlimited())"
     ],
     "language": "python",
     "metadata": {},
     "outputs": [
      {
       "output_type": "stream",
       "stream": "stdout",
       "text": [
        "False\n"
       ]
      }
     ],
     "prompt_number": 8
    },
    {
     "cell_type": "markdown",
     "metadata": {},
     "source": [
      "Creat variable object."
     ]
    },
    {
     "cell_type": "code",
     "collapsed": false,
     "input": [
      "time_counter_obj=nc_obj.createVariable('time_counter', np.float32, ('time',))\n",
      "BaVar_obj=nc_obj.createVariable('Ba_ORCA2_2deg', np.float64, ('time', 'lat', 'lon'))\n",
      "nav_lat_obj=nc_obj.createVariable('nav_lat', np.float64, ('lat', 'lon'))\n",
      "nav_lon_obj=nc_obj.createVariable('nav_lon', np.float64, ('lat', 'lon'))"
     ],
     "language": "python",
     "metadata": {},
     "outputs": [],
     "prompt_number": 9
    },
    {
     "cell_type": "markdown",
     "metadata": {},
     "source": [
      "Give numbers to the variable object."
     ]
    },
    {
     "cell_type": "code",
     "collapsed": false,
     "input": [
      "time_counter_obj[:]=time_counter\n",
      "BaVar_obj[:]=Ba_ORCA2_2deg\n",
      "nav_lat_obj[:]=nav_lat\n",
      "nav_lon_obj[:]=nav_lon"
     ],
     "language": "python",
     "metadata": {},
     "outputs": [],
     "prompt_number": 10
    },
    {
     "cell_type": "markdown",
     "metadata": {},
     "source": [
      "Add attributes."
     ]
    },
    {
     "cell_type": "code",
     "collapsed": false,
     "input": [
      "BaVar_obj.units='1e-6 mol/L'"
     ],
     "language": "python",
     "metadata": {},
     "outputs": [],
     "prompt_number": 11
    },
    {
     "cell_type": "markdown",
     "metadata": {},
     "source": [
      "Close the file in the end."
     ]
    },
    {
     "cell_type": "code",
     "collapsed": false,
     "input": [
      "nc_obj.close()"
     ],
     "language": "python",
     "metadata": {},
     "outputs": [],
     "prompt_number": 12
    },
    {
     "cell_type": "markdown",
     "metadata": {},
     "source": [
      "Read the nc file for a test."
     ]
    },
    {
     "cell_type": "code",
     "collapsed": false,
     "input": [
      "nc.Dataset('_data/Exchange/Ba_ORCA2_2deg_test.nc', 'r').variables.keys()"
     ],
     "language": "python",
     "metadata": {},
     "outputs": [
      {
       "metadata": {},
       "output_type": "pyout",
       "prompt_number": 13,
       "text": [
        "[u'time_counter', u'Ba_ORCA2_2deg', u'nav_lat', u'nav_lon']"
       ]
      }
     ],
     "prompt_number": 13
    },
    {
     "cell_type": "code",
     "collapsed": false,
     "input": [
      "nc.Dataset('_data/Exchange/Ba_ORCA2_2deg_test.nc', 'r').variables['Ba_ORCA2_2deg'][:].shape"
     ],
     "language": "python",
     "metadata": {},
     "outputs": [
      {
       "metadata": {},
       "output_type": "pyout",
       "prompt_number": 14,
       "text": [
        "(12L, 149L, 182L)"
       ]
      }
     ],
     "prompt_number": 14
    },
    {
     "cell_type": "markdown",
     "metadata": {},
     "source": [
      "The size of `'runoff'`in `river_test.nc` is (1L, 149L, 182L)"
     ]
    }
   ],
   "metadata": {}
  }
 ]
}