{
 "metadata": {
  "name": "",
  "signature": "sha256:65e0e6fe6a5d3890b40d5551f51c24c88c47cd1a461cbd2cb2b7bae7801ad868"
 },
 "nbformat": 3,
 "nbformat_minor": 0,
 "worksheets": [
  {
   "cells": [
    {
     "cell_type": "code",
     "collapsed": false,
     "input": [],
     "language": "python",
     "metadata": {},
     "outputs": [],
     "prompt_number": 0
    },
    {
     "cell_type": "code",
     "collapsed": false,
     "input": [
      "import glob\n",
      "import scipy.io\n",
      "import numpy as np\n",
      "import netCDF4 as nc\n",
      "from __future__ import print_function"
     ],
     "language": "python",
     "metadata": {},
     "outputs": [],
     "prompt_number": 24
    },
    {
     "cell_type": "heading",
     "level": 1,
     "metadata": {},
     "source": [
      "Create a netCDF file for NEMO"
     ]
    },
    {
     "cell_type": "markdown",
     "metadata": {},
     "source": [
      "Read the data"
     ]
    },
    {
     "cell_type": "code",
     "collapsed": false,
     "input": [
      "rf_name=glob.glob('_data/Exchange/Xianming_runoff.mat')\n",
      "print(\"found file: \\n{}\".format(rf_name[0]))\n",
      "rf_obj=scipy.io.loadmat(rf_name[0])"
     ],
     "language": "python",
     "metadata": {},
     "outputs": [
      {
       "output_type": "stream",
       "stream": "stdout",
       "text": [
        "found file: \n",
        "_data/Exchange/Xianming_runoff.mat\n"
       ]
      }
     ],
     "prompt_number": 53
    },
    {
     "cell_type": "code",
     "collapsed": false,
     "input": [
      "runoff=rf_obj['runoff']\n",
      "nav_lon=rf_obj['nav_lon']\n",
      "nav_lat=rf_obj['nav_lat']"
     ],
     "language": "python",
     "metadata": {},
     "outputs": [],
     "prompt_number": 54
    },
    {
     "cell_type": "code",
     "collapsed": false,
     "input": [
      "runoff=np.mean(runoff, 0)\n",
      "runoff[np.isnan(runoff)]=0"
     ],
     "language": "python",
     "metadata": {},
     "outputs": [],
     "prompt_number": 55
    },
    {
     "cell_type": "code",
     "collapsed": false,
     "input": [
      "nc_obj = nc.Dataset('_data/Exchange/river_test.nc', 'w', format='NETCDF4')\n",
      "print(nc_obj.file_format)"
     ],
     "language": "python",
     "metadata": {},
     "outputs": [
      {
       "output_type": "stream",
       "stream": "stdout",
       "text": [
        "NETCDF4\n"
       ]
      }
     ],
     "prompt_number": 56
    },
    {
     "cell_type": "code",
     "collapsed": false,
     "input": [
      "runoff.shape"
     ],
     "language": "python",
     "metadata": {},
     "outputs": [
      {
       "metadata": {},
       "output_type": "pyout",
       "prompt_number": 57,
       "text": [
        "(149L, 182L)"
       ]
      }
     ],
     "prompt_number": 57
    },
    {
     "cell_type": "markdown",
     "metadata": {},
     "source": [
      "Create dimensions."
     ]
    },
    {
     "cell_type": "code",
     "collapsed": false,
     "input": [
      "level=nc_obj.createDimension('level', 1)\n",
      "time=nc_obj.createDimension('time', 1)\n",
      "lat=nc_obj.createDimension('lat', 149)\n",
      "lon=nc_obj.createDimension('lon', 182)"
     ],
     "language": "python",
     "metadata": {},
     "outputs": [],
     "prompt_number": 58
    },
    {
     "cell_type": "code",
     "collapsed": false,
     "input": [
      "print(level.isunlimited())"
     ],
     "language": "python",
     "metadata": {},
     "outputs": [
      {
       "output_type": "stream",
       "stream": "stdout",
       "text": [
        "False\n"
       ]
      }
     ],
     "prompt_number": 59
    },
    {
     "cell_type": "markdown",
     "metadata": {},
     "source": [
      "Creat variable object."
     ]
    },
    {
     "cell_type": "code",
     "collapsed": false,
     "input": [
      "time_counter_obj=nc_obj.createVariable('time_counter', np.float32, ('time',))\n",
      "runoff_obj=nc_obj.createVariable('runoff', np.float64, ('lat', 'lon'))\n",
      "nav_lat_obj=nc_obj.createVariable('nav_lat', np.float64, ('lat', 'lon'))\n",
      "nav_lon_obj=nc_obj.createVariable('nav_lon', np.float64, ('lat', 'lon'))"
     ],
     "language": "python",
     "metadata": {},
     "outputs": [],
     "prompt_number": 60
    },
    {
     "cell_type": "markdown",
     "metadata": {},
     "source": [
      "Give numbers to the variable object."
     ]
    },
    {
     "cell_type": "code",
     "collapsed": false,
     "input": [
      "time_counter_obj[:]=2628000\n",
      "runoff_obj[:]=runoff\n",
      "nav_lat_obj[:]=nav_lat\n",
      "nav_lon_obj[:]=nav_lon"
     ],
     "language": "python",
     "metadata": {},
     "outputs": [],
     "prompt_number": 61
    },
    {
     "cell_type": "markdown",
     "metadata": {},
     "source": [
      "Add attributes."
     ]
    },
    {
     "cell_type": "code",
     "collapsed": false,
     "input": [
      "runoff_obj.units='unit'"
     ],
     "language": "python",
     "metadata": {},
     "outputs": [],
     "prompt_number": 62
    },
    {
     "cell_type": "markdown",
     "metadata": {},
     "source": [
      "Close the file in the end."
     ]
    },
    {
     "cell_type": "code",
     "collapsed": false,
     "input": [
      "nc_obj.close()"
     ],
     "language": "python",
     "metadata": {},
     "outputs": [],
     "prompt_number": 63
    },
    {
     "cell_type": "markdown",
     "metadata": {},
     "source": [
      "Read the nc file for a test."
     ]
    },
    {
     "cell_type": "code",
     "collapsed": false,
     "input": [
      "nc.Dataset('_data/Exchange/river_test.nc', 'r').variables.keys()"
     ],
     "language": "python",
     "metadata": {},
     "outputs": [
      {
       "metadata": {},
       "output_type": "pyout",
       "prompt_number": 68,
       "text": [
        "[u'time_counter', u'runoff', u'nav_lat', u'nav_lon']"
       ]
      }
     ],
     "prompt_number": 68
    },
    {
     "cell_type": "code",
     "collapsed": false,
     "input": [
      "nc.Dataset('_data/Exchange/river_test.nc', 'r').variables['nav_lon'][:].shape"
     ],
     "language": "python",
     "metadata": {},
     "outputs": [
      {
       "metadata": {},
       "output_type": "pyout",
       "prompt_number": 67,
       "text": [
        "(149L, 182L)"
       ]
      }
     ],
     "prompt_number": 67
    },
    {
     "cell_type": "markdown",
     "metadata": {},
     "source": [
      "The size of `'runoff'`in `river_test.nc` is (1L, 149L, 182L)"
     ]
    },
    {
     "cell_type": "heading",
     "level": 1,
     "metadata": {},
     "source": [
      "Read input files in NEMO"
     ]
    },
    {
     "cell_type": "markdown",
     "metadata": {},
     "source": [
      "```fortran\n",
      "cn_dir  = './'\n",
      "!                  !   file       ! frequency !  variable   ! time intep !  clim   ! 'yearly' or ! weights  ! rotation   !\n",
      "!                  !   name       !  (hours)  !   name      !   (T/F)    !  (T/F)  !  'monthly'  ! filename ! pairs      !\n",
      "sn_riverdic = FLD_N( 'river.orca'   ,   -12     ,  'riverdic' ,  .false.   , .true.  ,   'yearly'  , ''       , ''         )\n",
      "! sn_runoff = FLD_N( 'river_test'     ,   -12     ,  'runoff'   ,  .false.   , .true.  ,   'yearly'  , ''       , ''         )\n",
      "\n",
      "ALLOCATE( sf_riverdic(1), STAT=ierr )           !* allocate and fill sf_sst (forcing structure) with sn_sst\n",
      "CALL fld_fill( sf_riverdic, (/ sn_riverdic /), cn_dir, 'trc_sms_my_trc', 'test', 'nampissed' )\n",
      "ALLOCATE( sf_riverdic(1)%fnow(jpi,jpj,1)   )\n",
      "\n",
      "CALL iom_open ( TRIM( sn_riverdic%clname ), numriv )\n",
      "CALL iom_gettime( numriv, zsteps, kntime=ntimes_riv)\n",
      "ALLOCATE( zriverdic(jpi, jpj, ntimes_riv) )\n",
      "DO jm = 1, ntimes_riv\n",
      "       CALL iom_get( numriv, jpdom_data, TRIM( sn_riverdic%clvar ), zriverdic(:,:,jm), jm )\n",
      "END DO\n",
      "CALL iom_close( numriv )\n",
      "!      CALL fld_read(kt, 1, sf_riverdic)\n",
      "!      CALL fld_read(kt, 1, sf_runoff)\n",
      "!      DO jj = 1, jpj\n",
      "!           DO ji = 1, jpi\n",
      "!               cotdep(ji,jj) =   sf_runoff(1)%fnow(ji,jj,1)\n",
      "!           END DO\n",
      "!      END DO\n",
      "  trn(:, :, 1, jpmyt1) = zriverdic(:, :, 1)\n",
      "```"
     ]
    },
    {
     "cell_type": "markdown",
     "metadata": {},
     "source": []
    },
    {
     "cell_type": "code",
     "collapsed": false,
     "input": [],
     "language": "python",
     "metadata": {},
     "outputs": [],
     "prompt_number": 0
    }
   ],
   "metadata": {}
  }
 ]
}