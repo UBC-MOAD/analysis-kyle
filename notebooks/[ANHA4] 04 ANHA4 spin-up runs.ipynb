{
 "cells": [
  {
   "cell_type": "markdown",
   "metadata": {},
   "source": [
    "# ANHA4 Spin-up Runs"
   ]
  },
  {
   "cell_type": "code",
   "execution_count": null,
   "metadata": {
    "collapsed": true
   },
   "outputs": [],
   "source": [
    "import sys\n",
    "sys.path.insert(0, '_libs/')"
   ]
  },
  {
   "cell_type": "code",
   "execution_count": null,
   "metadata": {
    "collapsed": true
   },
   "outputs": [],
   "source": [
    "import glob\n",
    "import scipy.io\n",
    "import numpy as np\n",
    "import netCDF4 as nc\n",
    "import NEMO_tools as Nts\n",
    "import matplotlib.pyplot as plt\n",
    "from mpl_toolkits.basemap import Basemap\n",
    "% matplotlib inline"
   ]
  },
  {
   "cell_type": "code",
   "execution_count": null,
   "metadata": {
    "collapsed": true
   },
   "outputs": [],
   "source": [
    "def plot_Arctic(nav_lon, nav_lat, var, lev, cmap, title, ax):\n",
    "    proj=Basemap(projection='npstere', resolution='l', boundinglat=55, lon_0=90, round=True, ax=ax)\n",
    "    proj.drawmeridians(np.arange(0, 360, 60), labels=[1, 1, 1, 1], fontsize=10, latmax=90,linewidth=0)\n",
    "    proj.fillcontinents(color=[0.5, 0.5, 0.5], lake_color=None)\n",
    "    proj.drawcoastlines(linewidth=1.5, color='k')\n",
    "\n",
    "    x, y=proj(nav_lon, nav_lat)\n",
    "\n",
    "    CS=proj.contourf(x, y, var, lev, cmap=cmap, extend='both')\n",
    "    proj.contour(x, y, var, lev, linewidths=0.5, colors=('gray',))\n",
    "    ax.set_title(title, fontsize=14)\n",
    "    return CS, proj"
   ]
  },
  {
   "cell_type": "code",
   "execution_count": null,
   "metadata": {
    "collapsed": true
   },
   "outputs": [],
   "source": [
    "RB=[0.25, 0.41, 0.88]    # Royal blue\n",
    "AM=[0.90, 0.17, 0.31]    # Amathran\n",
    "SB=[0.06, 0.05, 0.03]    # Smokey Black\n",
    "AFB = [0.36, 0.54, 0.66] # Air Force Blue\n",
    "AG = [0.55, 0.71, 0.0]   # Apple Green\n",
    "AZ = [0.0, 0.5, 1.0]     # Azure\n",
    "CB = [0.37, 0.62, 0.63]  # Cadet blue\n",
    "SP = [1.0, 0.72, 0.77]   # Sakura\n",
    "CamB = [0.64, 0.76, 0.68]# Cambridge blue\n",
    "DC = [0.0, 0.55, 0.55]   # Dark cyan\n",
    "DE = [0.08, 0.38, 0.74]  # Denim\n",
    "BB = [0.54, 0.81, 0.94]  # Baby blue"
   ]
  },
  {
   "cell_type": "markdown",
   "metadata": {},
   "source": [
    "# Spin-up @ 2002 × 3"
   ]
  },
  {
   "cell_type": "code",
   "execution_count": null,
   "metadata": {
    "collapsed": true
   },
   "outputs": [],
   "source": [
    "ptrc_obj = nc.Dataset('/ocean/yingkai/GEOTRACES/NEMO-CODE/NEMOGCM/CONFIG/ANHA4_OFF/EXP00/EXP01_5d_20100101_20100316_ptrc_T.nc')\n",
    "nav_lat=ptrc_obj.variables['nav_lat'][:]\n",
    "nav_lon=ptrc_obj.variables['nav_lon'][:]\n",
    "deptht=ptrc_obj.variables['deptht'][:]"
   ]
  },
  {
   "cell_type": "code",
   "execution_count": null,
   "metadata": {
    "collapsed": true
   },
   "outputs": [],
   "source": [
    "river_name = ['Pechora',\"Ob' + Pur.\", 'Yenisey', 'Olenek', 'Yana', 'Indigirka', 'Kolyma', 'Mackenzie', \\\n",
    "              'Sev. Dvina', 'Lena', 'Khatanga', 'Taimyra', 'Pyasina', 'Yukon']\n",
    "lon_river = np.array([52, 66, 88, 123, 136, 148, 159, -135, 42, 127, 103, 100, 88, -167.3])\n",
    "lat_river = np.array([67, 69, 70, 72, 71, 70, 69, 68, 65, 73, 72, 76, 73, 60])+3\n",
    "\n",
    "strait = ['Bering Strait']\n",
    "lon_strait = np.array([-169])\n",
    "lat_strait = np.array([67])"
   ]
  },
  {
   "cell_type": "code",
   "execution_count": null,
   "metadata": {
    "collapsed": true
   },
   "outputs": [],
   "source": [
    "x_river, y_river = Nts.nearest_search(nav_lon, nav_lat, lon_river, lat_river)\n",
    "x_strait, y_strait = Nts.nearest_search(nav_lon, nav_lat, lon_strait, lat_strait)"
   ]
  },
  {
   "cell_type": "code",
   "execution_count": null,
   "metadata": {
    "collapsed": true
   },
   "outputs": [],
   "source": [
    "ptrc_obj = nc.Dataset('/ocean/yingkai/GEOTRACES/Simulations/raw/NSP01_1m_20020101_20041230_ptrc_T.nc')\n",
    "Ba1 = ptrc_obj.variables['Ba'][-1, :, :, :]\n",
    "Ob_Ba = ptrc_obj.variables['Ba'][:, 0, x_river[1], y_river[1]]\n",
    "MK_Ba = ptrc_obj.variables['Ba'][:, 0, x_river[7], y_river[7]]\n",
    "KO_Ba = ptrc_obj.variables['Ba'][:, 0, x_river[6], y_river[6]]\n",
    "LN_Ba = ptrc_obj.variables['Ba'][:, 0, x_river[9], y_river[9]]\n",
    "YK_Ba = ptrc_obj.variables['Ba'][:, 0, x_river[13], y_river[13]]\n",
    "BeringS_Ba = ptrc_obj.variables['Ba'][:, 0, x_strait[0], y_strait[0]]\n",
    "#Ob_d18O1 = ptrc_obj.variables['d18O'][:, 0, 600, 450]"
   ]
  },
  {
   "cell_type": "code",
   "execution_count": null,
   "metadata": {
    "collapsed": true
   },
   "outputs": [],
   "source": [
    "fig=plt.figure(figsize=(12, 5))\n",
    "ax = fig.gca(); ax.grid()\n",
    "ax.plot(Ob_Ba, 'k-', color='gray', lw=3, label='Ob')\n",
    "ax.plot(MK_Ba, 'k-', color=DC, lw=3, label='Mackenzie')\n",
    "ax.plot(KO_Ba, 'k--', color=DE, lw=3, label='Kolyma')\n",
    "ax.plot(LN_Ba, 'k:', lw=3, label='Lena')\n",
    "ax.plot(BeringS_Ba, 'k--', color=AM, lw=3, label='Bering Strait')\n",
    "#ax.plot(YK_Ba, 'k-', color='r', lw=3, label='Yukon')\n",
    "ax.set_ylim(0, 260)\n",
    "LG=ax.legend(bbox_to_anchor=(1.05, 1), loc=2, borderaxespad=1); LG.draw_frame(False) "
   ]
  },
  {
   "cell_type": "code",
   "execution_count": null,
   "metadata": {
    "collapsed": true
   },
   "outputs": [],
   "source": [
    "# Ba\n",
    "ptrc_obj = nc.Dataset('/ocean/yingkai/GEOTRACES/Simulations/spinup/EXP01_1m_20020101_20021231_ptrc_T.nc')\n",
    "#Ba1 = ptrc_obj.variables['Ba'][-1, :, :, :]\n",
    "Ob_Ba1 = ptrc_obj.variables['Ba'][:, 0, 600, 450]\n",
    "Ob_d18O1 = ptrc_obj.variables['d18O'][:, 0, 600, 450]\n",
    "# Ba\n",
    "ptrc_obj = nc.Dataset('/ocean/yingkai/GEOTRACES/Simulations/spinup/EXP02_1m_20020101_20021231_ptrc_T.nc')\n",
    "#Ba2 = ptrc_obj.variables['Ba'][-1, :, :, :]\n",
    "Ob_Ba2 = ptrc_obj.variables['Ba'][:, 0, 600, 450]\n",
    "Ob_d18O2 = ptrc_obj.variables['d18O'][:, 0, 600, 450]"
   ]
  },
  {
   "cell_type": "code",
   "execution_count": null,
   "metadata": {
    "collapsed": true
   },
   "outputs": [],
   "source": [
    "fig=plt.figure(figsize=(12, 8))\n",
    "ax1 = plt.subplot2grid((2, 2), (0, 0), colspan=1, rowspan=1)\n",
    "ax2 = plt.subplot2grid((2, 2), (0, 1), colspan=1, rowspan=1)\n",
    "ax3 = plt.subplot2grid((2, 2), (1, 0), colspan=2, rowspan=1)\n",
    "\n",
    "ax1.plot(Ob_Ba1, 'k-', lw=3); ax1.grid(); ax1.set_title('Spin-up 01')\n",
    "\n",
    "ax2.plot(Ob_Ba2, 'k-', lw=3); ax2.grid(); ax2.set_title('Spin-up 02')\n",
    "\n",
    "Ob = np.array(list(Ob_Ba1)+list(Ob_Ba2))\n",
    "ax3.plot(Ob, 'b-', lw=3); ax3.grid(); ax3.set_title('Combined')"
   ]
  }
 ],
 "metadata": {
  "kernelspec": {
   "display_name": "Python 2",
   "language": "python",
   "name": "python2"
  },
  "language_info": {
   "codemirror_mode": {
    "name": "ipython",
    "version": 2
   },
   "file_extension": ".py",
   "mimetype": "text/x-python",
   "name": "python",
   "nbconvert_exporter": "python",
   "pygments_lexer": "ipython2",
   "version": "2.7.7"
  }
 },
 "nbformat": 4,
 "nbformat_minor": 0
}
