{
 "cells": [
  {
   "cell_type": "markdown",
   "metadata": {},
   "source": [
    "# Interpolate $\\mathsf{\\delta^{18}O}$ Initial field in NEMO"
   ]
  },
  {
   "cell_type": "code",
   "execution_count": 1,
   "metadata": {
    "collapsed": true
   },
   "outputs": [],
   "source": [
    "import warnings\n",
    "warnings.filterwarnings('ignore')"
   ]
  },
  {
   "cell_type": "code",
   "execution_count": 2,
   "metadata": {
    "collapsed": true
   },
   "outputs": [],
   "source": [
    "import sys\n",
    "sys.path.insert(0, '_libs/')"
   ]
  },
  {
   "cell_type": "code",
   "execution_count": 3,
   "metadata": {
    "collapsed": true
   },
   "outputs": [],
   "source": [
    "import glob\n",
    "#import pyproj\n",
    "import scipy.io\n",
    "import numpy as np\n",
    "import netCDF4 as nc\n",
    "import matplotlib.pyplot as plt\n",
    "from mpl_toolkits.basemap import Basemap, addcyclic\n",
    "% matplotlib inline"
   ]
  },
  {
   "cell_type": "code",
   "execution_count": 4,
   "metadata": {
    "collapsed": true
   },
   "outputs": [],
   "source": [
    "from NEMO_tools import int_profile, bin_profile, find_inland, reporj_NEMOgrid"
   ]
  },
  {
   "cell_type": "code",
   "execution_count": 5,
   "metadata": {
    "collapsed": true
   },
   "outputs": [],
   "source": [
    "from pykrige.ok import OrdinaryKriging\n",
    "import pykrige.kriging_tools as kt"
   ]
  },
  {
   "cell_type": "code",
   "execution_count": null,
   "metadata": {
    "collapsed": true
   },
   "outputs": [],
   "source": [
    "MAT = scipy.io.loadmat('_data/Exchange/Temp_d18O_int.mat')\n",
    "d18O_ini_xy = MAT['d18O_ini_xy'][:]\n",
    "nav_lat = MAT['nav_lat'][:]\n",
    "nav_lon = MAT['nav_lon'][:]"
   ]
  },
  {
   "cell_type": "code",
   "execution_count": null,
   "metadata": {
    "collapsed": true
   },
   "outputs": [],
   "source": [
    "lon_list = np.linspace(-180, 180, 360)\n",
    "lat_list = np.linspace(60, 90, 30)\n",
    "lonxy, latxy = np.meshgrid(lon_list, lat_list)"
   ]
  },
  {
   "cell_type": "code",
   "execution_count": null,
   "metadata": {
    "collapsed": true
   },
   "outputs": [],
   "source": [
    "num_layer = 31\n",
    "curent_layer = 27"
   ]
  },
  {
   "cell_type": "code",
   "execution_count": null,
   "metadata": {
    "collapsed": true
   },
   "outputs": [],
   "source": [
    "d18O_ini_orca = np.empty([num_layer, np.size(nav_lon, 0), np.size(nav_lon, 1)])"
   ]
  },
  {
   "cell_type": "code",
   "execution_count": null,
   "metadata": {
    "collapsed": true
   },
   "outputs": [],
   "source": [
    "for i in range(curent_layer):\n",
    "    int_temp_orca = reporj_NEMOgrid(lonxy, latxy, d18O_ini_xy[:, :, i], nav_lon, nav_lat, method='linear')\n",
    "    d18O_ini_orca[i, :, :] = int_temp_orca"
   ]
  },
  {
   "cell_type": "code",
   "execution_count": null,
   "metadata": {
    "collapsed": true
   },
   "outputs": [],
   "source": [
    "for i in range(curent_layer, num_layer):\n",
    "    d18O_ini_orca[i, :, :] = d18O_ini_orca[curent_layer-1, :, :]"
   ]
  },
  {
   "cell_type": "code",
   "execution_count": null,
   "metadata": {
    "collapsed": true
   },
   "outputs": [],
   "source": [
    "d18O_ini_masked = np.ma.masked_where(np.isnan(d18O_ini_orca), d18O_ini_orca)"
   ]
  },
  {
   "cell_type": "code",
   "execution_count": null,
   "metadata": {
    "collapsed": true
   },
   "outputs": [],
   "source": [
    "ETOPO2_Arctic=scipy.io.loadmat('_libs/ETOPO2_Arctic.mat')\n",
    "lon_arctic=ETOPO2_Arctic['lon_arctic']\n",
    "lat_arctic=ETOPO2_Arctic['lat_arctic']\n",
    "topo_arctic=ETOPO2_Arctic['topo_arctic']"
   ]
  },
  {
   "cell_type": "code",
   "execution_count": null,
   "metadata": {
    "collapsed": true
   },
   "outputs": [],
   "source": [
    "# Adjust resolution\n",
    "res_unit=5\n",
    "lon_arctic=lon_arctic[0:-1:res_unit, 0:-1:res_unit]\n",
    "lat_arctic=lat_arctic[0:-1:res_unit, 0:-1:res_unit]\n",
    "topo_arctic=topo_arctic[0:-1:res_unit, 0:-1:res_unit]*-1"
   ]
  },
  {
   "cell_type": "code",
   "execution_count": null,
   "metadata": {
    "collapsed": true
   },
   "outputs": [],
   "source": [
    "clevs=[1000, 2000, 3000]\n",
    "for num in range(2):\n",
    "    # Figures\n",
    "    fig=plt.figure(figsize=(10, 10)); ax=plt.gca()\n",
    "    proj=Basemap(projection='npstere', resolution='l', boundinglat=55, lon_0=90, round=True, ax=ax)\n",
    "    proj.drawmeridians(np.arange(0, 360, 60), labels=[1, 1, 1, 1], fontsize=10, latmax=90,linewidth=0)\n",
    "    proj.fillcontinents(color=[0.5, 0.5, 0.5], lake_color=None)\n",
    "    proj.drawcoastlines(linewidth=1.5, color='k')\n",
    "    gridx, gridy = proj(nav_lon, nav_lat)\n",
    "    topox, topoy = proj(lon_arctic, lat_arctic)\n",
    "    CS = proj.pcolor(gridx, gridy, d18O_ini_masked[num, :, :], vmin=30, vmax=100, cmap=plt.cm.gist_ncar_r)\n",
    "    CS2 = proj.contour(topox, topoy, topo_arctic, clevs, linestyles='-', linewidths=1, colors=('k',), alpha=0.75)\n",
    "    CS2.collections[0].set_label('1, 2, 3 km bathymetry')\n",
    "    proj.plot(gridx.T, gridy.T, 'k-', lw=0.25)\n",
    "    proj.plot(gridx, gridy, 'k-', lw=0.25)\n",
    "    cbaxes = fig.add_axes([0.975, 0.15, 0.02, 0.5]) \n",
    "    CBar = plt.colorbar(CS, ax=ax, cax=cbaxes) \n",
    "    CBar.set_label('Interpolated d18O', fontsize=12)\n",
    "    CBar.ax.tick_params(axis='y', length=0)\n",
    "    ax.set_title('Initial field in a regular lat/lon frame', fontsize=15, y=1.025)"
   ]
  },
  {
   "cell_type": "code",
   "execution_count": null,
   "metadata": {
    "collapsed": true
   },
   "outputs": [],
   "source": [
    "# Save\n",
    "save_var = { 'd18O_ini_orca': d18O_ini_orca, 'nav_lon': nav_lon, 'nav_lat': nav_lat}\n",
    "scipy.io.savemat('_data/Exchange/NEMO_ORCA2_d18O.mat', mdict=save_var)"
   ]
  },
  {
   "cell_type": "code",
   "execution_count": null,
   "metadata": {
    "collapsed": true
   },
   "outputs": [],
   "source": []
  },
  {
   "cell_type": "code",
   "execution_count": null,
   "metadata": {
    "collapsed": true
   },
   "outputs": [],
   "source": []
  },
  {
   "cell_type": "code",
   "execution_count": null,
   "metadata": {
    "collapsed": true
   },
   "outputs": [],
   "source": []
  },
  {
   "cell_type": "code",
   "execution_count": null,
   "metadata": {
    "collapsed": true
   },
   "outputs": [],
   "source": []
  },
  {
   "cell_type": "code",
   "execution_count": null,
   "metadata": {
    "collapsed": true
   },
   "outputs": [],
   "source": []
  },
  {
   "cell_type": "code",
   "execution_count": null,
   "metadata": {
    "collapsed": true
   },
   "outputs": [],
   "source": []
  },
  {
   "cell_type": "code",
   "execution_count": null,
   "metadata": {
    "collapsed": true
   },
   "outputs": [],
   "source": []
  },
  {
   "cell_type": "code",
   "execution_count": null,
   "metadata": {
    "collapsed": true
   },
   "outputs": [],
   "source": []
  },
  {
   "cell_type": "code",
   "execution_count": null,
   "metadata": {
    "collapsed": true
   },
   "outputs": [],
   "source": []
  },
  {
   "cell_type": "code",
   "execution_count": null,
   "metadata": {
    "collapsed": true
   },
   "outputs": [],
   "source": []
  },
  {
   "cell_type": "code",
   "execution_count": null,
   "metadata": {
    "collapsed": true
   },
   "outputs": [],
   "source": []
  },
  {
   "cell_type": "code",
   "execution_count": null,
   "metadata": {
    "collapsed": true
   },
   "outputs": [],
   "source": []
  },
  {
   "cell_type": "code",
   "execution_count": null,
   "metadata": {
    "collapsed": true
   },
   "outputs": [],
   "source": []
  },
  {
   "cell_type": "code",
   "execution_count": null,
   "metadata": {
    "collapsed": true
   },
   "outputs": [],
   "source": []
  },
  {
   "cell_type": "code",
   "execution_count": null,
   "metadata": {
    "collapsed": true
   },
   "outputs": [],
   "source": []
  },
  {
   "cell_type": "code",
   "execution_count": null,
   "metadata": {
    "collapsed": true
   },
   "outputs": [],
   "source": []
  },
  {
   "cell_type": "code",
   "execution_count": null,
   "metadata": {
    "collapsed": true
   },
   "outputs": [],
   "source": []
  }
 ],
 "metadata": {
  "kernelspec": {
   "display_name": "Python 2",
   "language": "python",
   "name": "python2"
  },
  "language_info": {
   "codemirror_mode": {
    "name": "ipython",
    "version": 2
   },
   "file_extension": ".py",
   "mimetype": "text/x-python",
   "name": "python",
   "nbconvert_exporter": "python",
   "pygments_lexer": "ipython2",
   "version": "2.7.7"
  }
 },
 "nbformat": 4,
 "nbformat_minor": 0
}
