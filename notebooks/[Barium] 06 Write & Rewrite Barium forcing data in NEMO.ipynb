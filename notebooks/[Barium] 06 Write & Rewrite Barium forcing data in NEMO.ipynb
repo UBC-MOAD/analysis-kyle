{
 "cells": [
  {
   "cell_type": "markdown",
   "metadata": {},
   "source": [
    "# Write & Rewrite Barium forcing data in NEMO"
   ]
  },
  {
   "cell_type": "code",
   "execution_count": 1,
   "metadata": {
    "collapsed": false
   },
   "outputs": [],
   "source": [
    "import glob\n",
    "import scipy.io\n",
    "import numpy as np\n",
    "import netCDF4 as nc\n",
    "from __future__ import print_function\n",
    "% matplotlib inline"
   ]
  },
  {
   "cell_type": "markdown",
   "metadata": {},
   "source": [
    "#ORCA2"
   ]
  },
  {
   "cell_type": "markdown",
   "metadata": {},
   "source": [
    "## River source"
   ]
  },
  {
   "cell_type": "code",
   "execution_count": 2,
   "metadata": {
    "collapsed": false
   },
   "outputs": [],
   "source": [
    "# Ba\n",
    "Ba_name=glob.glob('_data/Exchange/Ba_ORCA2_SRC.mat')\n",
    "Ba_Mat=scipy.io.loadmat(Ba_name[0])\n",
    "Ba_ORCA2_2deg=Ba_Mat['Ba_ORCA2_2deg']\n",
    "nav_lon=Ba_Mat['nav_lon']\n",
    "nav_lat=Ba_Mat['nav_lat']\n",
    "# d18O\n",
    "d18O_name=glob.glob('_data/Exchange/d18O_ORCA2_SRC.mat')\n",
    "d18O_Mat=scipy.io.loadmat(d18O_name[0])\n",
    "d18O_ORCA2_2deg=d18O_Mat['d18O_ORCA2_2deg']"
   ]
  },
  {
   "cell_type": "markdown",
   "metadata": {},
   "source": [
    "** Get `time_counter` from Xianmin's original file. **"
   ]
  },
  {
   "cell_type": "code",
   "execution_count": 3,
   "metadata": {
    "collapsed": false
   },
   "outputs": [],
   "source": [
    "ANHA4_name=glob.glob('_data/NEMO/ANHA4_runoff_monthly_DaiTrenberth_fewPTs.nc')\n",
    "ANH4_obj=nc.Dataset(ANHA4_name[0])\n",
    "time_counter=ANH4_obj.variables['time_counter'][:]"
   ]
  },
  {
   "cell_type": "code",
   "execution_count": 4,
   "metadata": {
    "collapsed": false
   },
   "outputs": [
    {
     "name": "stdout",
     "output_type": "stream",
     "text": [
      "[  15.   46.   75.  106.  136.  167.  197.  228.  259.  289.  320.  350.]\n"
     ]
    }
   ],
   "source": [
    "print(time_counter)"
   ]
  },
  {
   "cell_type": "code",
   "execution_count": 5,
   "metadata": {
    "collapsed": false
   },
   "outputs": [
    {
     "name": "stdout",
     "output_type": "stream",
     "text": [
      "NETCDF4\n"
     ]
    }
   ],
   "source": [
    "nc_obj = nc.Dataset('_data/Exchange/TRC_ORCA2_SRC.nc', 'w') # format='NETCDF4'\n",
    "nc_obj.description = 'River sources of Barium concentration in Arctic'\n",
    "print(nc_obj.file_format)"
   ]
  },
  {
   "cell_type": "code",
   "execution_count": 6,
   "metadata": {
    "collapsed": false
   },
   "outputs": [
    {
     "data": {
      "text/plain": [
       "(12L, 149L, 182L)"
      ]
     },
     "execution_count": 6,
     "metadata": {},
     "output_type": "execute_result"
    }
   ],
   "source": [
    "Ba_ORCA2_2deg.shape"
   ]
  },
  {
   "cell_type": "code",
   "execution_count": 7,
   "metadata": {
    "collapsed": false
   },
   "outputs": [],
   "source": [
    "time=nc_obj.createDimension('time', None)\n",
    "lat=nc_obj.createDimension('lat', 149)\n",
    "lon=nc_obj.createDimension('lon', 182)"
   ]
  },
  {
   "cell_type": "code",
   "execution_count": 8,
   "metadata": {
    "collapsed": false
   },
   "outputs": [
    {
     "name": "stdout",
     "output_type": "stream",
     "text": [
      "True\n"
     ]
    }
   ],
   "source": [
    "print(time.isunlimited())"
   ]
  },
  {
   "cell_type": "code",
   "execution_count": 9,
   "metadata": {
    "collapsed": false
   },
   "outputs": [],
   "source": [
    "time_counter_obj=nc_obj.createVariable('time_counter', np.float32, ('time',), zlib=True)\n",
    "BaVar_obj=nc_obj.createVariable('Ba_ORCA2_2deg', np.float64, ('time', 'lat', 'lon'), zlib=True)\n",
    "d18OVar_obj=nc_obj.createVariable('d18O_ORCA2_2deg', np.float64, ('time', 'lat', 'lon'), zlib=True)\n",
    "nav_lat_obj=nc_obj.createVariable('nav_lat', np.float64, ('lat', 'lon'), zlib=True)\n",
    "nav_lon_obj=nc_obj.createVariable('nav_lon', np.float64, ('lat', 'lon'), zlib=True)"
   ]
  },
  {
   "cell_type": "code",
   "execution_count": 10,
   "metadata": {
    "collapsed": false
   },
   "outputs": [],
   "source": [
    "time_counter_obj[:]=time_counter\n",
    "BaVar_obj[:]=Ba_ORCA2_2deg\n",
    "d18OVar_obj[:]=d18O_ORCA2_2deg\n",
    "nav_lat_obj[:]=nav_lat\n",
    "nav_lon_obj[:]=nav_lon"
   ]
  },
  {
   "cell_type": "code",
   "execution_count": 11,
   "metadata": {
    "collapsed": true
   },
   "outputs": [],
   "source": [
    "nc_obj.close()"
   ]
  },
  {
   "cell_type": "markdown",
   "metadata": {
    "collapsed": true
   },
   "source": [
    "## Initial field"
   ]
  },
  {
   "cell_type": "code",
   "execution_count": 22,
   "metadata": {
    "collapsed": false
   },
   "outputs": [],
   "source": [
    "MAT = scipy.io.loadmat('_data/Exchange/NEMO_ORCA2_Ba.mat')\n",
    "Ba_orca = MAT['Ba_ini_orca'][:]\n",
    "MAT = scipy.io.loadmat('_data/Exchange/NEMO_ORCA2_d18O.mat')\n",
    "d18O_orca = MAT['d18O_ini_orca'][:]\n",
    "#Ba_orca[np.isnan(Ba_orca)] = -999\n",
    "d18O_name=glob.glob('_data/Exchange/NEMO_ORCA2_d18O_Grid.mat')\n",
    "d18O_Mat=scipy.io.loadmat(d18O_name[0])\n",
    "d18O_grid=d18O_Mat['d18O_grid_orca']\n",
    "\n",
    "boundary_name=glob.glob('_data/Exchange/TRC_BOUND.mat')\n",
    "Boundary_Mat=scipy.io.loadmat(boundary_name[0])\n",
    "Ba_boundary=Boundary_Mat['Ba']\n",
    "d18O_boundary=Boundary_Mat['d18O']"
   ]
  },
  {
   "cell_type": "code",
   "execution_count": 23,
   "metadata": {
    "collapsed": false
   },
   "outputs": [
    {
     "name": "stdout",
     "output_type": "stream",
     "text": [
      "NETCDF4\n"
     ]
    }
   ],
   "source": [
    "ini_obj = nc.Dataset('_data/Exchange/TRC_ORCA2_Nomask.nc', 'w') # format='NETCDF4'\n",
    "#ini_obj.description = 'Barium Initial Field'\n",
    "print(ini_obj.file_format)"
   ]
  },
  {
   "cell_type": "code",
   "execution_count": 24,
   "metadata": {
    "collapsed": false
   },
   "outputs": [],
   "source": [
    "time=ini_obj.createDimension('time', None)\n",
    "lev = ini_obj.createDimension('lev', 31)\n",
    "lat=ini_obj.createDimension('lat', 149)\n",
    "lon=ini_obj.createDimension('lon', 182)"
   ]
  },
  {
   "cell_type": "code",
   "execution_count": 25,
   "metadata": {
    "collapsed": false
   },
   "outputs": [],
   "source": [
    "time_counter_obj=ini_obj.createVariable('time_counter', np.float32, ('time',), zlib=True)\n",
    "BaVar_obj=ini_obj.createVariable('Ba', np.float64, ('time', 'lev', 'lat', 'lon'), zlib=True)\n",
    "d18OVar_obj=ini_obj.createVariable('d18O', np.float64, ('time', 'lev', 'lat', 'lon'), zlib=True)\n",
    "d18OGVar_obj=ini_obj.createVariable('d18O_grid', np.float64, ('time', 'lev', 'lat', 'lon'), zlib=True)\n",
    "BaBVar_obj=ini_obj.createVariable('Ba_boundary', np.float64, ('time', 'lev', 'lat', 'lon'), zlib=True)\n",
    "d18OBVar_obj=ini_obj.createVariable('d18O_boundary', np.float64, ('time', 'lev', 'lat', 'lon'), zlib=True)\n",
    "nav_lat_obj=ini_obj.createVariable('nav_lat', np.float64, ('lat', 'lon'), zlib=True)\n",
    "nav_lon_obj=ini_obj.createVariable('nav_lon', np.float64, ('lat', 'lon'), zlib=True)"
   ]
  },
  {
   "cell_type": "code",
   "execution_count": 26,
   "metadata": {
    "collapsed": false
   },
   "outputs": [],
   "source": [
    "#\n",
    "Ba = np.empty([1, 31, 149, 182])\n",
    "Ba[0, :, :, :] = Ba_orca\n",
    "\n",
    "BaB = np.empty([1, 31, 149, 182])\n",
    "BaB[0, :, :, :] = Ba_boundary\n",
    "#\n",
    "d18O = np.empty([1, 31, 149, 182])\n",
    "d18O[0, :, :, :] = d18O_orca\n",
    "#\n",
    "d18OB = np.empty([1, 31, 149, 182])\n",
    "d18OB[0, :, :, :] = d18O_boundary\n",
    "#\n",
    "d18OG = np.empty([1, 31, 149, 182])\n",
    "d18OG[0, :, :, :] = d18O_grid"
   ]
  },
  {
   "cell_type": "code",
   "execution_count": 28,
   "metadata": {
    "collapsed": false
   },
   "outputs": [],
   "source": [
    "time_counter_obj[:]=3600.0\n",
    "BaVar_obj[:]=Ba\n",
    "BaBVar_obj[:]=BaB\n",
    "d18OVar_obj[:]=d18O\n",
    "d18OBVar_obj[:]=d18OB\n",
    "d18OGVar_obj[:]=d18OG\n",
    "nav_lat_obj[:]=nav_lat\n",
    "nav_lon_obj[:]=nav_lon"
   ]
  },
  {
   "cell_type": "code",
   "execution_count": 29,
   "metadata": {
    "collapsed": true
   },
   "outputs": [],
   "source": [
    "BaVar_obj.units='1e-6 mol/L'"
   ]
  },
  {
   "cell_type": "code",
   "execution_count": 30,
   "metadata": {
    "collapsed": true
   },
   "outputs": [],
   "source": [
    "ini_obj.close()"
   ]
  },
  {
   "cell_type": "code",
   "execution_count": 31,
   "metadata": {
    "collapsed": false
   },
   "outputs": [
    {
     "data": {
      "text/plain": [
       "array([[[[ -1.76163746e-01,  -2.14759873e-01,  -2.46982081e-01, ...,\n",
       "           -1.35750703e-01,  -1.76163746e-01,  -2.14759873e-01],\n",
       "         [ -1.89849455e-01,  -2.28455119e-01,  -2.60744057e-01, ...,\n",
       "           -1.49986463e-01,  -1.89849455e-01,  -2.28455119e-01],\n",
       "         [ -2.03344488e-01,  -2.42031498e-01,  -2.74340701e-01, ...,\n",
       "           -1.64191549e-01,  -2.03344488e-01,  -2.42031498e-01],\n",
       "         ..., \n",
       "         [ -4.29559609e+00,  -4.28632447e+00,  -4.26729748e+00, ...,\n",
       "           -4.29875022e+00,  -4.29559609e+00,  -4.28632447e+00],\n",
       "         [ -4.28143008e+00,  -4.28622486e+00,  -4.28143008e+00, ...,\n",
       "           -4.27910049e+00,  -4.28143008e+00,  -4.28622486e+00],\n",
       "         [ -4.26729748e+00,  -4.28632447e+00,  -4.29559609e+00, ...,\n",
       "           -4.25876368e+00,  -4.26729748e+00,  -4.28632447e+00]],\n",
       "\n",
       "        [[ -2.75193543e-01,  -3.05802724e-01,  -3.28132236e-01, ...,\n",
       "           -2.37990932e-01,  -2.75193543e-01,  -3.05802724e-01],\n",
       "         [ -2.81366565e-01,  -3.11867533e-01,  -3.34086999e-01, ...,\n",
       "           -2.44198487e-01,  -2.81366565e-01,  -3.11867533e-01],\n",
       "         [ -2.87501449e-01,  -3.17797720e-01,  -3.39899180e-01, ...,\n",
       "           -2.50563110e-01,  -2.87501449e-01,  -3.17797720e-01],\n",
       "         ..., \n",
       "         [ -1.79272622e+00,  -1.77176746e+00,  -1.72641951e+00, ...,\n",
       "           -1.79361791e+00,  -1.79272622e+00,  -1.77176746e+00],\n",
       "         [ -1.75941100e+00,  -1.77143352e+00,  -1.75941100e+00, ...,\n",
       "           -1.74601626e+00,  -1.75941100e+00,  -1.77143352e+00],\n",
       "         [ -1.72641951e+00,  -1.77176746e+00,  -1.79272622e+00, ...,\n",
       "           -1.69761357e+00,  -1.72641951e+00,  -1.77176746e+00]],\n",
       "\n",
       "        [[ -2.57696099e-01,  -2.82813418e-01,  -3.01043075e-01, ...,\n",
       "           -2.27476681e-01,  -2.57696099e-01,  -2.82813418e-01],\n",
       "         [ -2.63368686e-01,  -2.88428343e-01,  -3.06555002e-01, ...,\n",
       "           -2.33088321e-01,  -2.63368686e-01,  -2.88428343e-01],\n",
       "         [ -2.69104795e-01,  -2.94009195e-01,  -3.12020270e-01, ...,\n",
       "           -2.38921084e-01,  -2.69104795e-01,  -2.94009195e-01],\n",
       "         ..., \n",
       "         [ -1.17398965e+00,  -1.14892311e+00,  -1.07491788e+00, ...,\n",
       "           -1.16667666e+00,  -1.17398965e+00,  -1.14892311e+00],\n",
       "         [ -1.12404820e+00,  -1.14807051e+00,  -1.12404820e+00, ...,\n",
       "           -1.09345634e+00,  -1.12404820e+00,  -1.14807051e+00],\n",
       "         [ -1.07491788e+00,  -1.14892311e+00,  -1.17398965e+00, ...,\n",
       "           -1.02012416e+00,  -1.07491788e+00,  -1.14892311e+00]],\n",
       "\n",
       "        ..., \n",
       "        [[ -2.10827219e-01,  -2.10424096e-01,  -2.10510508e-01, ...,\n",
       "           -2.11747220e-01,  -2.10827219e-01,  -2.10424096e-01],\n",
       "         [ -2.11493188e-01,  -2.11085380e-01,  -2.11182324e-01, ...,\n",
       "           -2.12435071e-01,  -2.11493188e-01,  -2.11085380e-01],\n",
       "         [ -2.12172694e-01,  -2.11764311e-01,  -2.11872153e-01, ...,\n",
       "           -2.13138379e-01,  -2.12172694e-01,  -2.11764311e-01],\n",
       "         ..., \n",
       "         [  9.87452310e-02,   1.17515614e-01,   1.24355289e-01, ...,\n",
       "            8.55064736e-02,   9.87452310e-02,   1.17515614e-01],\n",
       "         [  1.11463686e-01,   1.17303680e-01,   1.11463686e-01, ...,\n",
       "            1.05100606e-01,   1.11463686e-01,   1.17303680e-01],\n",
       "         [  1.24355289e-01,   1.17515614e-01,   9.87452310e-02, ...,\n",
       "            1.24777600e-01,   1.24355289e-01,   1.17515614e-01]],\n",
       "\n",
       "        [[  3.78672086e-02,   5.49269696e-02,   7.20377078e-02, ...,\n",
       "            2.10516555e-02,   3.78672086e-02,   5.49269696e-02],\n",
       "         [  2.82820471e-02,   4.56976633e-02,   6.32000290e-02, ...,\n",
       "            1.11472358e-02,   2.82820471e-02,   4.56976633e-02],\n",
       "         [  1.85993499e-02,   3.63633594e-02,   5.41887968e-02, ...,\n",
       "            1.11200531e-03,   1.85993499e-02,   3.63633594e-02],\n",
       "         ..., \n",
       "         [ -1.82176921e-01,  -1.77112216e-01,  -1.75932624e-01, ...,\n",
       "           -1.85906595e-01,  -1.82176921e-01,  -1.77112216e-01],\n",
       "         [ -1.79081049e-01,  -1.77179623e-01,  -1.79081049e-01, ...,\n",
       "           -1.81053160e-01,  -1.79081049e-01,  -1.77179623e-01],\n",
       "         [ -1.75932624e-01,  -1.77112216e-01,  -1.82176921e-01, ...,\n",
       "           -1.76200641e-01,  -1.75932624e-01,  -1.77112216e-01]],\n",
       "\n",
       "        [[  6.29991169e-01,   8.12739869e-01,   1.01463751e+00, ...,\n",
       "            4.67968515e-01,   6.29991169e-01,   8.12739869e-01],\n",
       "         [  6.42564091e-01,   8.30786277e-01,   1.03881314e+00, ...,\n",
       "            4.75745110e-01,   6.42564091e-01,   8.30786277e-01],\n",
       "         [  6.55821063e-01,   8.49669132e-01,   1.06287816e+00, ...,\n",
       "            4.83315165e-01,   6.55821063e-01,   8.49669132e-01],\n",
       "         ..., \n",
       "         [ -1.10909218e+00,  -1.10634865e+00,  -1.09852694e+00, ...,\n",
       "           -1.10761082e+00,  -1.10909218e+00,  -1.10634865e+00],\n",
       "         [ -1.10374847e+00,  -1.10624250e+00,  -1.10374847e+00, ...,\n",
       "           -1.09942480e+00,  -1.10374847e+00,  -1.10624250e+00],\n",
       "         [ -1.09852694e+00,  -1.10634865e+00,  -1.10909218e+00, ...,\n",
       "           -1.09140318e+00,  -1.09852694e+00,  -1.10634865e+00]]]])"
      ]
     },
     "execution_count": 31,
     "metadata": {},
     "output_type": "execute_result"
    }
   ],
   "source": [
    "test = nc.Dataset('_data/Exchange/TRC_ORCA2_Nomask.nc', 'r')\n",
    "test.variables['d18O_grid'][:]"
   ]
  },
  {
   "cell_type": "markdown",
   "metadata": {},
   "source": [
    "# ANHA4"
   ]
  },
  {
   "cell_type": "markdown",
   "metadata": {},
   "source": [
    "## River source & boundary"
   ]
  },
  {
   "cell_type": "code",
   "execution_count": null,
   "metadata": {
    "collapsed": true
   },
   "outputs": [],
   "source": [
    "Ba_name=glob.glob('_data/Exchange/Ba_ANHA4_2deg.mat')\n",
    "Ba_Mat=scipy.io.loadmat(Ba_name[0])\n",
    "Ba_ANHA4_2deg=Ba_Mat['Ba_ANHA4']\n",
    "nav_lon=Ba_Mat['nav_lon']\n",
    "nav_lat=Ba_Mat['nav_lat']"
   ]
  },
  {
   "cell_type": "code",
   "execution_count": null,
   "metadata": {
    "collapsed": true
   },
   "outputs": [],
   "source": [
    "boundary_name=glob.glob('_data/Exchange/Ba_boundary_ANHA4.mat')\n",
    "Boundary_Mat=scipy.io.loadmat(boundary_name[0])\n",
    "Ba_boundary=Boundary_Mat['Ba_boundary']"
   ]
  },
  {
   "cell_type": "code",
   "execution_count": null,
   "metadata": {
    "collapsed": true
   },
   "outputs": [],
   "source": [
    "nc_obj = nc.Dataset('_data/Exchange/Ba_ANHA4_SRC.nc', 'w') # format='NETCDF4'\n",
    "nc_obj.description = 'River sources of Barium concentration in Arctic'\n",
    "print(nc_obj.file_format)"
   ]
  },
  {
   "cell_type": "code",
   "execution_count": null,
   "metadata": {
    "collapsed": true
   },
   "outputs": [],
   "source": [
    "time=nc_obj.createDimension('time', None)\n",
    "lat=nc_obj.createDimension('lat', 149)\n",
    "lon=nc_obj.createDimension('lon', 182)"
   ]
  },
  {
   "cell_type": "code",
   "execution_count": null,
   "metadata": {
    "collapsed": true
   },
   "outputs": [],
   "source": [
    "time_counter_obj=nc_obj.createVariable('time_counter', np.float32, ('time',), zlib=True)\n",
    "BaVar_obj=nc_obj.createVariable('Ba_ANHA4', np.float64, ('time', 'lat', 'lon'), zlib=True)\n",
    "BaB_obj = nc_obj.createVariable('Ba_boundary', np.float64, ('lat', 'lon'), zlib=True)\n",
    "nav_lat_obj=nc_obj.createVariable('nav_lat', np.float64, ('lat', 'lon'), zlib=True)\n",
    "nav_lon_obj=nc_obj.createVariable('nav_lon', np.float64, ('lat', 'lon'), zlib=True)"
   ]
  },
  {
   "cell_type": "code",
   "execution_count": null,
   "metadata": {
    "collapsed": true
   },
   "outputs": [],
   "source": [
    "time_counter_obj[:]=time_counter\n",
    "BaVar_obj[:]=Ba_ANHA4\n",
    "BaB_obj[:]=Ba_boundary\n",
    "nav_lat_obj[:]=nav_lat\n",
    "nav_lon_obj[:]=nav_lon"
   ]
  },
  {
   "cell_type": "markdown",
   "metadata": {},
   "source": [
    "## Initial field"
   ]
  },
  {
   "cell_type": "code",
   "execution_count": null,
   "metadata": {
    "collapsed": true
   },
   "outputs": [],
   "source": [
    "MAT = scipy.io.loadmat('_data/Exchange/NEMO_ANHA4_Ba.mat')\n",
    "Ba_ANHA4 = MAT['Ba_ini_ANHA4'][:]"
   ]
  },
  {
   "cell_type": "code",
   "execution_count": null,
   "metadata": {
    "collapsed": true
   },
   "outputs": [],
   "source": [
    "ini_obj = nc.Dataset('_data/Exchange/Ba_ANHA4_Nomask.nc', 'w') # format='NETCDF4'\n",
    "ini_obj.description = 'Barium Initial Field'\n",
    "print(ini_obj.file_format)"
   ]
  },
  {
   "cell_type": "code",
   "execution_count": null,
   "metadata": {
    "collapsed": true
   },
   "outputs": [],
   "source": [
    "time=ini_obj.createDimension('time', None)\n",
    "lev = ini_obj.createDimension('lev', 31)\n",
    "lat=ini_obj.createDimension('lat', 149)\n",
    "lon=ini_obj.createDimension('lon', 182)"
   ]
  },
  {
   "cell_type": "code",
   "execution_count": null,
   "metadata": {
    "collapsed": true
   },
   "outputs": [],
   "source": [
    "time_counter_obj=ini_obj.createVariable('time_counter', np.float32, ('time',), zlib=True)\n",
    "BaVar_obj=ini_obj.createVariable('Ba', np.float64, ('time', 'lev', 'lat', 'lon'), zlib=True)\n",
    "nav_lat_obj=ini_obj.createVariable('nav_lat', np.float64, ('lat', 'lon'), zlib=True)\n",
    "nav_lon_obj=ini_obj.createVariable('nav_lon', np.float64, ('lat', 'lon'), zlib=True)"
   ]
  },
  {
   "cell_type": "code",
   "execution_count": null,
   "metadata": {
    "collapsed": true
   },
   "outputs": [],
   "source": [
    "Ba = np.empty([1, 31, 149, 182])\n",
    "Ba[0, :, :, :] = Ba_ANHA4"
   ]
  },
  {
   "cell_type": "code",
   "execution_count": null,
   "metadata": {
    "collapsed": true
   },
   "outputs": [],
   "source": [
    "time_counter_obj[:]=3600.0\n",
    "BaVar_obj[:]=Ba\n",
    "nav_lat_obj[:]=nav_lat\n",
    "nav_lon_obj[:]=nav_lon"
   ]
  },
  {
   "cell_type": "code",
   "execution_count": null,
   "metadata": {
    "collapsed": true
   },
   "outputs": [],
   "source": [
    "ini_obj.close()"
   ]
  }
 ],
 "metadata": {
  "kernelspec": {
   "display_name": "Python 2",
   "language": "python",
   "name": "python2"
  },
  "language_info": {
   "codemirror_mode": {
    "name": "ipython",
    "version": 2
   },
   "file_extension": ".py",
   "mimetype": "text/x-python",
   "name": "python",
   "nbconvert_exporter": "python",
   "pygments_lexer": "ipython2",
   "version": "2.7.7"
  }
 },
 "nbformat": 4,
 "nbformat_minor": 0
}
