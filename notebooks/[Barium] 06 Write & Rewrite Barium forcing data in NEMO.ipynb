{
 "cells": [
  {
   "cell_type": "markdown",
   "metadata": {},
   "source": [
    "# Write & Rewrite Barium forcing data in NEMO"
   ]
  },
  {
   "cell_type": "code",
   "execution_count": 1,
   "metadata": {
    "collapsed": false
   },
   "outputs": [],
   "source": [
    "import glob\n",
    "import scipy.io\n",
    "import numpy as np\n",
    "import netCDF4 as nc\n",
    "from __future__ import print_function"
   ]
  },
  {
   "cell_type": "markdown",
   "metadata": {},
   "source": [
    "# Barium river source"
   ]
  },
  {
   "cell_type": "code",
   "execution_count": 2,
   "metadata": {
    "collapsed": false
   },
   "outputs": [],
   "source": [
    "Ba_name=glob.glob('_data/Exchange/Ba_ORCA2_2deg.mat')\n",
    "Ba_Mat=scipy.io.loadmat(Ba_name[0])\n",
    "Ba_ORCA2_2deg=Ba_Mat['Ba_ORCA2_2deg']\n",
    "nav_lon=Ba_Mat['nav_lon']\n",
    "nav_lat=Ba_Mat['nav_lat']"
   ]
  },
  {
   "cell_type": "markdown",
   "metadata": {},
   "source": [
    "** Get `time_counter` from Xianmin's original file. **"
   ]
  },
  {
   "cell_type": "code",
   "execution_count": 3,
   "metadata": {
    "collapsed": false
   },
   "outputs": [],
   "source": [
    "ANHA4_name=glob.glob('_data/NEMO/ANHA4_runoff_monthly_DaiTrenberth_fewPTs.nc')\n",
    "ANH4_obj=nc.Dataset(ANHA4_name[0])\n",
    "time_counter=ANH4_obj.variables['time_counter'][:]"
   ]
  },
  {
   "cell_type": "code",
   "execution_count": 4,
   "metadata": {
    "collapsed": false
   },
   "outputs": [
    {
     "name": "stdout",
     "output_type": "stream",
     "text": [
      "[  15.   46.   75.  106.  136.  167.  197.  228.  259.  289.  320.  350.]\n"
     ]
    }
   ],
   "source": [
    "print(time_counter)"
   ]
  },
  {
   "cell_type": "code",
   "execution_count": 5,
   "metadata": {
    "collapsed": false
   },
   "outputs": [
    {
     "name": "stdout",
     "output_type": "stream",
     "text": [
      "NETCDF4\n"
     ]
    }
   ],
   "source": [
    "nc_obj = nc.Dataset('_data/Exchange/Ba_ORCA2_2deg_test.nc', 'w') # format='NETCDF4'\n",
    "nc_obj.description = 'River sources of Barium concentration in Arctic'\n",
    "print(nc_obj.file_format)"
   ]
  },
  {
   "cell_type": "code",
   "execution_count": 6,
   "metadata": {
    "collapsed": false
   },
   "outputs": [
    {
     "data": {
      "text/plain": [
       "(12L, 149L, 182L)"
      ]
     },
     "execution_count": 6,
     "metadata": {},
     "output_type": "execute_result"
    }
   ],
   "source": [
    "Ba_ORCA2_2deg.shape"
   ]
  },
  {
   "cell_type": "code",
   "execution_count": 7,
   "metadata": {
    "collapsed": false
   },
   "outputs": [],
   "source": [
    "time=nc_obj.createDimension('time', None)\n",
    "lat=nc_obj.createDimension('lat', 149)\n",
    "lon=nc_obj.createDimension('lon', 182)"
   ]
  },
  {
   "cell_type": "code",
   "execution_count": 8,
   "metadata": {
    "collapsed": false
   },
   "outputs": [
    {
     "name": "stdout",
     "output_type": "stream",
     "text": [
      "True\n"
     ]
    }
   ],
   "source": [
    "print(time.isunlimited())"
   ]
  },
  {
   "cell_type": "code",
   "execution_count": 9,
   "metadata": {
    "collapsed": false
   },
   "outputs": [],
   "source": [
    "time_counter_obj=nc_obj.createVariable('time_counter', np.float32, ('time',), zlib=True)\n",
    "BaVar_obj=nc_obj.createVariable('Ba_ORCA2_2deg', np.float64, ('time', 'lat', 'lon'), zlib=True)\n",
    "nav_lat_obj=nc_obj.createVariable('nav_lat', np.float64, ('lat', 'lon'), zlib=True)\n",
    "nav_lon_obj=nc_obj.createVariable('nav_lon', np.float64, ('lat', 'lon'), zlib=True)"
   ]
  },
  {
   "cell_type": "code",
   "execution_count": 10,
   "metadata": {
    "collapsed": false
   },
   "outputs": [],
   "source": [
    "time_counter_obj[:]=time_counter\n",
    "BaVar_obj[:]=Ba_ORCA2_2deg\n",
    "nav_lat_obj[:]=nav_lat\n",
    "nav_lon_obj[:]=nav_lon"
   ]
  },
  {
   "cell_type": "code",
   "execution_count": 11,
   "metadata": {
    "collapsed": false
   },
   "outputs": [],
   "source": [
    "BaVar_obj.units='1e-6 mol/L'\n",
    "#BaVar_obj._Fillvalue = 0.\n",
    "#BaVar_obj.add_offset = 0."
   ]
  },
  {
   "cell_type": "code",
   "execution_count": 12,
   "metadata": {
    "collapsed": false
   },
   "outputs": [],
   "source": [
    "nc_obj.close()"
   ]
  }
 ],
 "metadata": {
  "kernelspec": {
   "display_name": "Python 2",
   "language": "python",
   "name": "python2"
  },
  "language_info": {
   "codemirror_mode": {
    "name": "ipython",
    "version": 2
   },
   "file_extension": ".py",
   "mimetype": "text/x-python",
   "name": "python",
   "nbconvert_exporter": "python",
   "pygments_lexer": "ipython2",
   "version": "2.7.7"
  }
 },
 "nbformat": 4,
 "nbformat_minor": 0
}
