{
 "metadata": {
  "name": "",
  "signature": "sha256:e71804dd7b6aef627f6ce1617cd4b58eb0221290205b29266a20749c61fe4ca2"
 },
 "nbformat": 3,
 "nbformat_minor": 0,
 "worksheets": [
  {
   "cells": [
    {
     "cell_type": "code",
     "collapsed": false,
     "input": [],
     "language": "python",
     "metadata": {},
     "outputs": [],
     "prompt_number": 0
    },
    {
     "cell_type": "heading",
     "level": 1,
     "metadata": {},
     "source": [
      "Import modules and tools"
     ]
    },
    {
     "cell_type": "code",
     "collapsed": false,
     "input": [
      "import sys\n",
      "sys.path.insert(0, '_libs/')"
     ],
     "language": "python",
     "metadata": {},
     "outputs": [],
     "prompt_number": 1
    },
    {
     "cell_type": "code",
     "collapsed": false,
     "input": [
      "import glob\n",
      "import scipy.io\n",
      "import datetime\n",
      "import numpy as np\n",
      "import netCDF4 as nc\n",
      "import NEMO_tools as Nts\n",
      "import matplotlib.pyplot as plt\n",
      "from __future__ import division\n",
      "from __future__ import print_function\n",
      "from mpl_toolkits.basemap import cm\n",
      "% matplotlib inline"
     ],
     "language": "python",
     "metadata": {},
     "outputs": [],
     "prompt_number": 2
    },
    {
     "cell_type": "code",
     "collapsed": false,
     "input": [
      "reload(Nts)"
     ],
     "language": "python",
     "metadata": {},
     "outputs": [
      {
       "metadata": {},
       "output_type": "pyout",
       "prompt_number": 3,
       "text": [
        "<module 'NEMO_tools' from '_libs/NEMO_tools.pyc'>"
       ]
      }
     ],
     "prompt_number": 3
    },
    {
     "cell_type": "heading",
     "level": 1,
     "metadata": {},
     "source": [
      "Define functions"
     ]
    },
    {
     "cell_type": "code",
     "collapsed": false,
     "input": [
      "def datenum2datetime(matlab_datenum):\n",
      "    '''\n",
      "    =======================================================================\n",
      "    Convert MATLAB datenum value to Python datetime object\n",
      "                            ----- created on 2014/12/24, Yingkai (Kyle) Sha\n",
      "    -----------------------------------------------------------------------\n",
      "        python_datetime = datenum2datetime(matlab_datenum)\n",
      "    -----------------------------------------------------------------------\n",
      "    Input:\n",
      "            matlab_datenum: 1D array\n",
      "    Output:\n",
      "            datetime objects\n",
      "    ======================================================================= \n",
      "    '''\n",
      "    import datetime\n",
      "    import numpy as np\n",
      "    \n",
      "    matlab_datenum=matlab_datenum.astype(int)\n",
      "    python_datetime=[]\n",
      "    for i in range(len(matlab_datenum)):\n",
      "        temp = datetime.datetime.fromordinal(matlab_datenum[i]) + \\\n",
      "                            datetime.timedelta(days=matlab_datenum[i]%1) - datetime.timedelta(days = 366)\n",
      "        python_datetime.append(temp)\n",
      "    return python_datetime"
     ],
     "language": "python",
     "metadata": {},
     "outputs": [],
     "prompt_number": 4
    },
    {
     "cell_type": "code",
     "collapsed": false,
     "input": [
      "def daily2monmean(dt, data):\n",
      "    '''\n",
      "    =======================================================================\n",
      "    Convert data in days to monthly mean series\n",
      "                            ----- created on 2014/12/25, Yingkai (Kyle) Sha\n",
      "    -----------------------------------------------------------------------\n",
      "        data_dt, series, bin_count = daily2monmean(...)\n",
      "    -----------------------------------------------------------------------\n",
      "    Input:\n",
      "            dt: A list of original data's datetime.datetime objects\n",
      "            data: original data\n",
      "    Output:\n",
      "            data_dt: A list of monmean datetime.datetime objects\n",
      "            data: monmean data\n",
      "            bin_count: how many points fall into each months, \n",
      "                        data[i]=np.nan when bin_count[i]=0.\n",
      "    ======================================================================= \n",
      "    '''\n",
      "    import datetime\n",
      "    import numpy as np\n",
      "    from dateutil.relativedelta import relativedelta\n",
      "    \n",
      "    dt=sorted(dt) # increase order\n",
      "    # Calculate the length of series\n",
      "    L=(dt[-1].year-dt[0].year+1)*12\n",
      "    series=np.zeros(L)\n",
      "    bin_count=np.zeros(L)\n",
      "    # Bin data points\n",
      "    for i in range(len(dt)):\n",
      "        hit=(dt[i].year-dt[0].year)*12+dt[i].month\n",
      "        series[hit-1] += data[i] # \"-1\" because it is Python\n",
      "        bin_count[hit-1] += 1 # count    \n",
      "    for i in range(L):\n",
      "        if bin_count[i] > 0:\n",
      "            series[i]=series[i]/bin_count[i]\n",
      "        if bin_count[i] == 0:\n",
      "            series[i]=np.nan            \n",
      "    # generate a corresponding datetime series\n",
      "    data_dt=[datetime.datetime(dt[0].year, 01, 01)]\n",
      "    step=relativedelta(months=1)    \n",
      "    for i in range(L-1): # don't know why but it needs L-1, or the size will missmatch\n",
      "        temp=data_dt[i]\n",
      "        temp += step\n",
      "        data_dt.append(temp)\n",
      "    \n",
      "    return data_dt, series, bin_count"
     ],
     "language": "python",
     "metadata": {},
     "outputs": [],
     "prompt_number": 109
    },
    {
     "cell_type": "heading",
     "level": 1,
     "metadata": {},
     "source": [
      "Fluvial Barium records"
     ]
    },
    {
     "cell_type": "markdown",
     "metadata": {},
     "source": [
      "Datasets are downloaded from <a href='http://www.arcticgreatrivers.org/data'>**Arctic Gread River Observatory**</a>"
     ]
    },
    {
     "cell_type": "heading",
     "level": 2,
     "metadata": {},
     "source": [
      "PARTNERS [L. W. Cooper et al., Geophys. Res. Lett., 2008]"
     ]
    },
    {
     "cell_type": "code",
     "collapsed": false,
     "input": [
      "PARTNERS_name=glob.glob('_data/Samples/PARTNERS/*Barium.mat')\n",
      "print(\"found file: \\n{}\".format(PARTNERS_name))\n",
      "PARTNERS_obj=scipy.io.loadmat(PARTNERS_name[0])"
     ],
     "language": "python",
     "metadata": {},
     "outputs": [
      {
       "output_type": "stream",
       "stream": "stdout",
       "text": [
        "found file: \n",
        "['_data/Samples/PARTNERS\\\\PATRNERS_Barium.mat']\n"
       ]
      }
     ],
     "prompt_number": 5
    },
    {
     "cell_type": "code",
     "collapsed": false,
     "input": [
      "PARTNERS_Lena=PARTNERS_obj['Lena']\n",
      "PARTNERS_Kolyma=PARTNERS_obj['Kolyma']\n",
      "PARTNERS_Yenisey=PARTNERS_obj['Yenisey']\n",
      "PARTNERS_Mackenzie=PARTNERS_obj['Mackenzie']\n",
      "PARTNERS_Ob=PARTNERS_obj['Ob']\n",
      "PARTNERS_Yukon=PARTNERS_obj['Yukon']"
     ],
     "language": "python",
     "metadata": {},
     "outputs": [],
     "prompt_number": 6
    },
    {
     "cell_type": "code",
     "collapsed": false,
     "input": [
      "plt.plot(PARTNERS_Lena[:, 1])"
     ],
     "language": "python",
     "metadata": {},
     "outputs": [
      {
       "metadata": {},
       "output_type": "pyout",
       "prompt_number": 119,
       "text": [
        "[<matplotlib.lines.Line2D at 0xef9db70>]"
       ]
      },
      {
       "metadata": {},
       "output_type": "display_data",
       "png": "[encoded data removed]",
       "text": [
        "<matplotlib.figure.Figure at 0xed3d668>"
       ]
      }
     ],
     "prompt_number": 119
    },
    {
     "cell_type": "heading",
     "level": 2,
     "metadata": {},
     "source": [
      "Arctic-GRO"
     ]
    },
    {
     "cell_type": "code",
     "collapsed": false,
     "input": [
      "AGRO_name=glob.glob('_data/Samples/Arctic-GRO/*Barium.mat')\n",
      "print(\"found file: \\n{}\".format(AGRO_name))\n",
      "AGRO_obj=scipy.io.loadmat(AGRO_name[0])"
     ],
     "language": "python",
     "metadata": {},
     "outputs": [
      {
       "output_type": "stream",
       "stream": "stdout",
       "text": [
        "found file: \n",
        "['_data/Samples/Arctic-GRO\\\\GRO_Barium.mat']\n"
       ]
      }
     ],
     "prompt_number": 7
    },
    {
     "cell_type": "code",
     "collapsed": false,
     "input": [
      "AGRO_Lena=AGRO_obj['Lena']\n",
      "AGRO_Kolyma=AGRO_obj['Kolyma']\n",
      "AGRO_Yenisey=AGRO_obj['Yenisey']\n",
      "AGRO_Mackenzie=AGRO_obj['Mackenzie']\n",
      "AGRO_Ob=AGRO_obj['Ob']\n",
      "AGRO_Yukon=AGRO_obj['Yukon']"
     ],
     "language": "python",
     "metadata": {},
     "outputs": [],
     "prompt_number": 8
    },
    {
     "cell_type": "heading",
     "level": 2,
     "metadata": {},
     "source": [
      "Combine datasets to series"
     ]
    },
    {
     "cell_type": "markdown",
     "metadata": {},
     "source": [
      "Combine datetime.datetime objects"
     ]
    },
    {
     "cell_type": "code",
     "collapsed": false,
     "input": [
      "Lena_time=datenum2datetime(PARTNERS_Lena[:, 0]) + datenum2datetime(AGRO_Lena[:, 0])\n",
      "Kolyma_time=datenum2datetime(PARTNERS_Kolyma[:, 0]) + datenum2datetime(AGRO_Kolyma[:, 0])\n",
      "Yenisey_time=datenum2datetime(PARTNERS_Yenisey[:, 0]) + datenum2datetime(AGRO_Yenisey[:, 0])\n",
      "Mackenzie_time=datenum2datetime(PARTNERS_Mackenzie[:, 0]) + datenum2datetime(AGRO_Mackenzie[:, 0])\n",
      "Ob_time=datenum2datetime(PARTNERS_Ob[:, 0]) + datenum2datetime(AGRO_Ob[:, 0])\n",
      "Yukon_time=datenum2datetime(PARTNERS_Yukon[:, 0]) + datenum2datetime(AGRO_Yukon[:, 0])"
     ],
     "language": "python",
     "metadata": {},
     "outputs": [],
     "prompt_number": 46
    },
    {
     "cell_type": "markdown",
     "metadata": {},
     "source": [
      "Combine Ba records"
     ]
    },
    {
     "cell_type": "code",
     "collapsed": false,
     "input": [
      "Lena_Ba=np.hstack((PARTNERS_Lena[:, 1], AGRO_Lena[:, 1]))\n",
      "Kolyma_Ba=np.hstack((PARTNERS_Kolyma[:, 1], AGRO_Kolyma[:, 1]))\n",
      "Yenisey_Ba=np.hstack((PARTNERS_Yenisey[:, 1], AGRO_Yenisey[:, 1]))\n",
      "Mackenzie_Ba=np.hstack((PARTNERS_Mackenzie[:, 1], AGRO_Mackenzie[:, 1]))\n",
      "Ob_Ba=np.hstack((PARTNERS_Ob[:, 1], AGRO_Ob[:, 1]))\n",
      "Yukon_Ba=np.hstack((PARTNERS_Yukon[:, 1], AGRO_Yukon[:, 1]))"
     ],
     "language": "python",
     "metadata": {},
     "outputs": [],
     "prompt_number": 47
    },
    {
     "cell_type": "markdown",
     "metadata": {},
     "source": [
      "Bin raw data to monthly mean values"
     ]
    },
    {
     "cell_type": "code",
     "collapsed": false,
     "input": [
      "Lena_monmean, Lena_Ba_monmean, bin_count = daily2monmean(Lena_time, Lena_Ba)\n",
      "Kolyma_monmean, Kolyma_Ba_monmean, _ = daily2monmean(Kolyma_time, Kolyma_Ba)\n",
      "Yenisey_monmean, Yenisey_Ba_monmean, _ = daily2monmean(Yenisey_time, Yenisey_Ba)\n",
      "Mackenzie_monmean, Mackenzie_Ba_monmean, _ = daily2monmean(Mackenzie_time, Mackenzie_Ba)\n",
      "Ob_monmean, Ob_Ba_monmean, _ = daily2monmean(Ob_time, Ob_Ba)\n",
      "Yukon_monmean, Yukon_Ba_monmean, _ = daily2monmean(Yukon_time, Yukon_Ba)"
     ],
     "language": "python",
     "metadata": {},
     "outputs": [],
     "prompt_number": 122
    },
    {
     "cell_type": "markdown",
     "metadata": {},
     "source": [
      "Mask np.nan for plot"
     ]
    },
    {
     "cell_type": "code",
     "collapsed": false,
     "input": [
      "Lena_Ba_masked=np.ma.masked_where(np.isnan(Lena_Ba_monmean), Lena_Ba_monmean)\n",
      "Ob_Ba_masked=np.ma.masked_where(np.isnan(Ob_Ba_monmean), Ob_Ba_monmean)"
     ],
     "language": "python",
     "metadata": {},
     "outputs": [],
     "prompt_number": 126
    },
    {
     "cell_type": "code",
     "collapsed": false,
     "input": [
      "fig=plt.figure(figsize=(16, 4))\n",
      "ax=plt.gca()\n",
      "ax.plot(Lena_monmean, Lena_Ba_masked, 'ro-', markersize=8, linewidth=2)\n",
      "ax.set_xlim(Lena_monmean[0], Lena_monmean[-1])\n",
      "ax.set_title('Lena monmean Ba records\\nAn example of poor data quality', fontsize=14, fontweight='bold')\n",
      "plt.grid()"
     ],
     "language": "python",
     "metadata": {},
     "outputs": [
      {
       "metadata": {},
       "output_type": "display_data",
       "png": "[encoded data removed]",
       "text": [
        "<matplotlib.figure.Figure at 0x130be320>"
       ]
      }
     ],
     "prompt_number": 157
    },
    {
     "cell_type": "code",
     "collapsed": false,
     "input": [
      "fig=plt.figure(figsize=(16, 4))\n",
      "ax=plt.gca()\n",
      "plt.plot(Lena_monmean, bin_count, linewidth=3)\n",
      "ax.set_xlim(Lena_monmean[0], Lena_monmean[-1])\n",
      "ax.set_ylim(0, 3)\n",
      "ax.set_title('bin_count\\nHow many data points fall into each month', fontsize=14, fontweight='bold')\n",
      "plt.grid()"
     ],
     "language": "python",
     "metadata": {},
     "outputs": [
      {
       "metadata": {},
       "output_type": "display_data",
       "png": "[encoded data removed]",
       "text": [
        "<matplotlib.figure.Figure at 0x12d83c50>"
       ]
      }
     ],
     "prompt_number": 156
    },
    {
     "cell_type": "code",
     "collapsed": false,
     "input": [
      "Lena_time"
     ],
     "language": "python",
     "metadata": {},
     "outputs": [
      {
       "metadata": {},
       "output_type": "pyout",
       "prompt_number": 149,
       "text": [
        "[datetime.datetime(2003, 8, 12, 0, 0),\n",
        " datetime.datetime(2004, 4, 9, 0, 0),\n",
        " datetime.datetime(2004, 6, 5, 0, 0),\n",
        " datetime.datetime(2004, 6, 7, 0, 0),\n",
        " datetime.datetime(2004, 8, 19, 0, 0),\n",
        " datetime.datetime(2004, 8, 24, 0, 0),\n",
        " datetime.datetime(2004, 10, 7, 0, 0),\n",
        " datetime.datetime(2004, 10, 10, 0, 0),\n",
        " datetime.datetime(2005, 3, 24, 0, 0),\n",
        " datetime.datetime(2005, 5, 27, 0, 0),\n",
        " datetime.datetime(2005, 6, 4, 0, 0),\n",
        " datetime.datetime(2005, 8, 6, 0, 0),\n",
        " datetime.datetime(2005, 8, 14, 0, 0),\n",
        " datetime.datetime(2005, 10, 9, 0, 0),\n",
        " datetime.datetime(2005, 10, 10, 0, 0),\n",
        " datetime.datetime(2009, 5, 31, 0, 0),\n",
        " datetime.datetime(2009, 6, 5, 0, 0),\n",
        " datetime.datetime(2009, 6, 11, 0, 0),\n",
        " datetime.datetime(2009, 8, 22, 0, 0),\n",
        " datetime.datetime(2009, 11, 18, 0, 0),\n",
        " datetime.datetime(2010, 5, 29, 0, 0),\n",
        " datetime.datetime(2010, 6, 4, 0, 0),\n",
        " datetime.datetime(2010, 6, 11, 0, 0)]"
       ]
      }
     ],
     "prompt_number": 149
    },
    {
     "cell_type": "code",
     "collapsed": false,
     "input": [],
     "language": "python",
     "metadata": {},
     "outputs": [],
     "prompt_number": 148
    },
    {
     "cell_type": "code",
     "collapsed": false,
     "input": [],
     "language": "python",
     "metadata": {},
     "outputs": [],
     "prompt_number": 156
    },
    {
     "cell_type": "code",
     "collapsed": false,
     "input": [],
     "language": "python",
     "metadata": {},
     "outputs": [],
     "prompt_number": 156
    },
    {
     "cell_type": "code",
     "collapsed": false,
     "input": [],
     "language": "python",
     "metadata": {},
     "outputs": [],
     "prompt_number": 0
    },
    {
     "cell_type": "code",
     "collapsed": false,
     "input": [],
     "language": "python",
     "metadata": {},
     "outputs": [],
     "prompt_number": 0
    },
    {
     "cell_type": "code",
     "collapsed": false,
     "input": [],
     "language": "python",
     "metadata": {},
     "outputs": []
    }
   ],
   "metadata": {}
  }
 ]
}