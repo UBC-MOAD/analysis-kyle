{
 "metadata": {
  "name": "",
  "signature": "sha256:e5aa5a8c66e0a3b246b5316a34a6a5807439c1d192b94f5de55c02cd7adf93d3"
 },
 "nbformat": 3,
 "nbformat_minor": 0,
 "worksheets": [
  {
   "cells": [
    {
     "cell_type": "code",
     "collapsed": false,
     "input": [],
     "language": "python",
     "metadata": {},
     "outputs": [],
     "prompt_number": 1
    },
    {
     "cell_type": "heading",
     "level": 1,
     "metadata": {},
     "source": [
      "Import modules and tools"
     ]
    },
    {
     "cell_type": "code",
     "collapsed": false,
     "input": [
      "import sys\n",
      "sys.path.insert(0, '_libs/')"
     ],
     "language": "python",
     "metadata": {},
     "outputs": [],
     "prompt_number": 2
    },
    {
     "cell_type": "code",
     "collapsed": false,
     "input": [
      "import glob\n",
      "import scipy.io\n",
      "import datetime\n",
      "import numpy as np\n",
      "import NEMO_tools as Nts\n",
      "import matplotlib.pyplot as plt\n",
      "from __future__ import division\n",
      "from __future__ import print_function\n",
      "from mpl_toolkits.basemap import cm\n",
      "% matplotlib inline"
     ],
     "language": "python",
     "metadata": {},
     "outputs": [],
     "prompt_number": 3
    },
    {
     "cell_type": "code",
     "collapsed": false,
     "input": [
      "reload(Nts)"
     ],
     "language": "python",
     "metadata": {},
     "outputs": [
      {
       "metadata": {},
       "output_type": "pyout",
       "prompt_number": 4,
       "text": [
        "<module 'NEMO_tools' from '_libs/NEMO_tools.pyc'>"
       ]
      }
     ],
     "prompt_number": 4
    },
    {
     "cell_type": "heading",
     "level": 1,
     "metadata": {},
     "source": [
      "Define functions"
     ]
    },
    {
     "cell_type": "code",
     "collapsed": false,
     "input": [
      "def datenum2datetime(matlab_datenum):\n",
      "    '''\n",
      "    =======================================================================\n",
      "    Convert MATLAB datenum value to Python datetime object\n",
      "                            ----- created on 2014/12/24, Yingkai (Kyle) Sha\n",
      "    -----------------------------------------------------------------------\n",
      "        python_datetime = datenum2datetime(matlab_datenum)\n",
      "    -----------------------------------------------------------------------\n",
      "    Input:\n",
      "            matlab_datenum: 1D array\n",
      "    Output:\n",
      "            datetime objects\n",
      "    ======================================================================= \n",
      "    '''\n",
      "    import datetime\n",
      "    import numpy as np\n",
      "    \n",
      "    matlab_datenum=matlab_datenum.astype(int)\n",
      "    python_datetime=[]\n",
      "    for i in range(len(matlab_datenum)):\n",
      "        temp = datetime.datetime.fromordinal(matlab_datenum[i]) + \\\n",
      "                            datetime.timedelta(days=matlab_datenum[i]%1) - datetime.timedelta(days = 366)\n",
      "        python_datetime.append(temp)\n",
      "    return python_datetime"
     ],
     "language": "python",
     "metadata": {},
     "outputs": [],
     "prompt_number": 5
    },
    {
     "cell_type": "code",
     "collapsed": false,
     "input": [
      "def daily2monmean(dt, data):\n",
      "    '''\n",
      "    =======================================================================\n",
      "    Convert data in days to monthly mean series\n",
      "                            ----- created on 2014/12/25, Yingkai (Kyle) Sha\n",
      "    -----------------------------------------------------------------------\n",
      "        data_dt, series, bin_count = daily2monmean(...)\n",
      "    -----------------------------------------------------------------------\n",
      "    Input:\n",
      "            dt: A list of original data's datetime.datetime objects\n",
      "            data: original data\n",
      "    Output:\n",
      "            data_dt: A list of monmean datetime.datetime objects\n",
      "            data: monmean data\n",
      "            bin_count: how many points fall into each months, \n",
      "                        data[i]=np.nan when bin_count[i]=0.\n",
      "    ======================================================================= \n",
      "    '''\n",
      "    import datetime\n",
      "    import numpy as np\n",
      "    from dateutil.relativedelta import relativedelta\n",
      "    \n",
      "    dt=sorted(dt) # increase order\n",
      "    # Calculate the length of series\n",
      "    L=(dt[-1].year-dt[0].year+1)*12\n",
      "    series=np.zeros(L)\n",
      "    bin_count=np.zeros(L)\n",
      "    # Bin data points\n",
      "    for i in range(len(dt)):\n",
      "        hit=(dt[i].year-dt[0].year)*12+dt[i].month\n",
      "        series[hit-1] += data[i] # \"-1\" because it is Python\n",
      "        bin_count[hit-1] += 1 # count    \n",
      "    for i in range(L):\n",
      "        if bin_count[i] > 0:\n",
      "            series[i]=series[i]/bin_count[i]\n",
      "        if bin_count[i] == 0:\n",
      "            series[i]=np.nan            \n",
      "    # generate a corresponding datetime series\n",
      "    data_dt=[datetime.datetime(dt[0].year, 01, 01)]\n",
      "    step=relativedelta(months=1)    \n",
      "    for i in range(L-1): # don't know why but it needs L-1, or the size will missmatch\n",
      "        temp=data_dt[i]\n",
      "        temp += step\n",
      "        data_dt.append(temp)\n",
      "    \n",
      "    return data_dt, series, bin_count"
     ],
     "language": "python",
     "metadata": {},
     "outputs": [],
     "prompt_number": 6
    },
    {
     "cell_type": "code",
     "collapsed": false,
     "input": [
      "def seasonal_character(dt, data):\n",
      "    '''\n",
      "    =======================================================================\n",
      "    bin daily data into 12 months\n",
      "                            ----- created on 2014/12/25, Yingkai (Kyle) Sha\n",
      "    -----------------------------------------------------------------------\n",
      "        series, bin_count = seasonal_character(...)\n",
      "    -----------------------------------------------------------------------\n",
      "    Input:\n",
      "            dt: A list of original data's datetime.datetime objects\n",
      "            data: original data\n",
      "    Output:\n",
      "            data: data in 12 months\n",
      "            bin_count: how many points fall into each months, \n",
      "                        data[i]=np.nan when bin_count[i]=0.\n",
      "    ======================================================================= \n",
      "    '''\n",
      "    #import datetime\n",
      "    import numpy as np\n",
      "    #from dateutil.relativedelta import relativedelta\n",
      "    \n",
      "    dt=sorted(dt) # increase order\n",
      "    series=np.zeros(12)\n",
      "    bin_count=np.zeros(12)\n",
      "    # Bin data points\n",
      "    for i in range(len(dt)):\n",
      "        hit=dt[i].month\n",
      "        series[hit-1] += data[i] # \"-1\" because it is Python\n",
      "        bin_count[hit-1] += 1 # count    \n",
      "    for i in range(12):\n",
      "        if bin_count[i] > 0:\n",
      "            series[i]=series[i]/bin_count[i]\n",
      "        if bin_count[i] == 0:\n",
      "            series[i]=np.nan        \n",
      "    return series, bin_count"
     ],
     "language": "python",
     "metadata": {},
     "outputs": [],
     "prompt_number": 7
    },
    {
     "cell_type": "heading",
     "level": 1,
     "metadata": {},
     "source": [
      "Fluvial Barium records"
     ]
    },
    {
     "cell_type": "markdown",
     "metadata": {},
     "source": [
      "Datasets are downloaded from <a href='http://www.arcticgreatrivers.org/data'>**Arctic Gread River Observatory**</a>. All datasets have been preprocessed in MATLAB.\n",
      "\n",
      "The unit is nM (1E-6 mol/L)."
     ]
    },
    {
     "cell_type": "heading",
     "level": 2,
     "metadata": {},
     "source": [
      "Locations of Observatories"
     ]
    },
    {
     "cell_type": "markdown",
     "metadata": {},
     "source": [
      "<table align=\"left\">\n",
      "<tr>\n",
      "<th>River</th>\n",
      "<th>Station</th>\n",
      "<th>Longitude</th>\n",
      "<th>Latitude</th>\n",
      "</tr>\n",
      "<tr>\n",
      "<td>Lena</td>\n",
      "<td>Zhigansk</td>\n",
      "<td>123\u00b022' E</td>\n",
      "<td>66\u00b046' N</td>\n",
      "</tr>\n",
      "<tr>\n",
      "<td>Kolyma</td>\n",
      "<td>Cherskiy</td>\n",
      "<td>161\u00b018' E</td>\n",
      "<td>68\u00b045' N</td>\n",
      "</tr>\n",
      "<tr>\n",
      "<td>Yenisey</td>\n",
      "<td>Dudinka</td>\n",
      "<td>86\u00b009' E</td>\n",
      "<td>69\u00b023' N</td>\n",
      "</tr>\n",
      "<tr>\n",
      "<td>Mackenzie</td>\n",
      "<td>Tsiigehtchic / Inuvik</td>\n",
      "<td>133\u00b045' W / 133\u00b042' W</td>\n",
      "<td>67\u00b026' N / 68\u00b020' N</td>\n",
      "</tr>\n",
      "<tr>\n",
      "<td>Ob'</td>\n",
      "<td>Salekhard</td>\n",
      "<td>66\u00b036' E</td>\n",
      "<td>66\u00b031' N</td>\n",
      "</tr>\n",
      "<tr>\n",
      "<td>Yukon</td>\n",
      "<td>Pilot Station</td>\n",
      "<td>162\u00b052' W</td>\n",
      "<td>61\u00b056' N</td>\n",
      "</tr>\n",
      "</table>"
     ]
    },
    {
     "cell_type": "heading",
     "level": 2,
     "metadata": {},
     "source": [
      "PARTNERS [L. W. Cooper et al., Geophys. Res. Lett., 2008]"
     ]
    },
    {
     "cell_type": "code",
     "collapsed": false,
     "input": [
      "PARTNERS_name=glob.glob('_data/Samples/PARTNERS/*Barium.mat')\n",
      "print(\"found file: \\n{}\".format(PARTNERS_name))\n",
      "PARTNERS_obj=scipy.io.loadmat(PARTNERS_name[0])"
     ],
     "language": "python",
     "metadata": {},
     "outputs": [
      {
       "output_type": "stream",
       "stream": "stdout",
       "text": [
        "found file: \n",
        "['_data/Samples/PARTNERS\\\\PATRNERS_Barium.mat']\n"
       ]
      }
     ],
     "prompt_number": 8
    },
    {
     "cell_type": "code",
     "collapsed": false,
     "input": [
      "PARTNERS_Lena=PARTNERS_obj['Lena']\n",
      "PARTNERS_Kolyma=PARTNERS_obj['Kolyma']\n",
      "PARTNERS_Yenisey=PARTNERS_obj['Yenisey']\n",
      "PARTNERS_Mackenzie=PARTNERS_obj['Mackenzie']\n",
      "PARTNERS_Ob=PARTNERS_obj['Ob']\n",
      "PARTNERS_Yukon=PARTNERS_obj['Yukon']"
     ],
     "language": "python",
     "metadata": {},
     "outputs": [],
     "prompt_number": 9
    },
    {
     "cell_type": "code",
     "collapsed": false,
     "input": [
      "plt.hist(PARTNERS_Lena[:, 1], color='gray')\n",
      "plt.grid()"
     ],
     "language": "python",
     "metadata": {},
     "outputs": [
      {
       "metadata": {},
       "output_type": "display_data",
       "png": "[encoded data removed]",
       "text": [
        "<matplotlib.figure.Figure at 0xe888ef0>"
       ]
      }
     ],
     "prompt_number": 10
    },
    {
     "cell_type": "heading",
     "level": 2,
     "metadata": {},
     "source": [
      "Arctic-GRO"
     ]
    },
    {
     "cell_type": "code",
     "collapsed": false,
     "input": [
      "AGRO_name=glob.glob('_data/Samples/Arctic-GRO/*Barium.mat')\n",
      "print(\"found file: \\n{}\".format(AGRO_name))\n",
      "AGRO_obj=scipy.io.loadmat(AGRO_name[0])"
     ],
     "language": "python",
     "metadata": {},
     "outputs": [
      {
       "output_type": "stream",
       "stream": "stdout",
       "text": [
        "found file: \n",
        "['_data/Samples/Arctic-GRO\\\\GRO_Barium.mat']\n"
       ]
      }
     ],
     "prompt_number": 11
    },
    {
     "cell_type": "code",
     "collapsed": false,
     "input": [
      "AGRO_Lena=AGRO_obj['Lena']\n",
      "AGRO_Kolyma=AGRO_obj['Kolyma']\n",
      "AGRO_Yenisey=AGRO_obj['Yenisey']\n",
      "AGRO_Mackenzie=AGRO_obj['Mackenzie']\n",
      "AGRO_Ob=AGRO_obj['Ob']\n",
      "AGRO_Yukon=AGRO_obj['Yukon']"
     ],
     "language": "python",
     "metadata": {},
     "outputs": [],
     "prompt_number": 12
    },
    {
     "cell_type": "heading",
     "level": 2,
     "metadata": {},
     "source": [
      "Combine datasets to series"
     ]
    },
    {
     "cell_type": "markdown",
     "metadata": {},
     "source": [
      "Combine datetime.datetime objects"
     ]
    },
    {
     "cell_type": "code",
     "collapsed": false,
     "input": [
      "Lena_time=datenum2datetime(PARTNERS_Lena[:, 0]) + datenum2datetime(AGRO_Lena[:, 0])\n",
      "Kolyma_time=datenum2datetime(PARTNERS_Kolyma[:, 0]) + datenum2datetime(AGRO_Kolyma[:, 0])\n",
      "Yenisey_time=datenum2datetime(PARTNERS_Yenisey[:, 0]) + datenum2datetime(AGRO_Yenisey[:, 0])\n",
      "Mackenzie_time=datenum2datetime(PARTNERS_Mackenzie[:, 0]) + datenum2datetime(AGRO_Mackenzie[:, 0])\n",
      "Ob_time=datenum2datetime(PARTNERS_Ob[:, 0]) + datenum2datetime(AGRO_Ob[:, 0])\n",
      "Yukon_time=datenum2datetime(PARTNERS_Yukon[:, 0]) + datenum2datetime(AGRO_Yukon[:, 0])"
     ],
     "language": "python",
     "metadata": {},
     "outputs": [],
     "prompt_number": 13
    },
    {
     "cell_type": "code",
     "collapsed": false,
     "input": [
      "Lena_time"
     ],
     "language": "python",
     "metadata": {},
     "outputs": [
      {
       "metadata": {},
       "output_type": "pyout",
       "prompt_number": 14,
       "text": [
        "[datetime.datetime(2003, 8, 12, 0, 0),\n",
        " datetime.datetime(2004, 4, 9, 0, 0),\n",
        " datetime.datetime(2004, 6, 5, 0, 0),\n",
        " datetime.datetime(2004, 6, 7, 0, 0),\n",
        " datetime.datetime(2004, 8, 19, 0, 0),\n",
        " datetime.datetime(2004, 8, 24, 0, 0),\n",
        " datetime.datetime(2004, 10, 7, 0, 0),\n",
        " datetime.datetime(2004, 10, 10, 0, 0),\n",
        " datetime.datetime(2005, 3, 24, 0, 0),\n",
        " datetime.datetime(2005, 5, 27, 0, 0),\n",
        " datetime.datetime(2005, 6, 4, 0, 0),\n",
        " datetime.datetime(2005, 8, 6, 0, 0),\n",
        " datetime.datetime(2005, 8, 14, 0, 0),\n",
        " datetime.datetime(2005, 10, 9, 0, 0),\n",
        " datetime.datetime(2005, 10, 10, 0, 0),\n",
        " datetime.datetime(2009, 5, 31, 0, 0),\n",
        " datetime.datetime(2009, 6, 5, 0, 0),\n",
        " datetime.datetime(2009, 6, 11, 0, 0),\n",
        " datetime.datetime(2009, 8, 22, 0, 0),\n",
        " datetime.datetime(2009, 11, 18, 0, 0),\n",
        " datetime.datetime(2010, 5, 29, 0, 0),\n",
        " datetime.datetime(2010, 6, 4, 0, 0),\n",
        " datetime.datetime(2010, 6, 11, 0, 0)]"
       ]
      }
     ],
     "prompt_number": 14
    },
    {
     "cell_type": "markdown",
     "metadata": {},
     "source": [
      "Combine Ba records"
     ]
    },
    {
     "cell_type": "code",
     "collapsed": false,
     "input": [
      "Lena_Ba=np.hstack((PARTNERS_Lena[:, 1], AGRO_Lena[:, 1]))\n",
      "Kolyma_Ba=np.hstack((PARTNERS_Kolyma[:, 1], AGRO_Kolyma[:, 1]))\n",
      "Yenisey_Ba=np.hstack((PARTNERS_Yenisey[:, 1], AGRO_Yenisey[:, 1]))\n",
      "Mackenzie_Ba=np.hstack((PARTNERS_Mackenzie[:, 1], AGRO_Mackenzie[:, 1]))\n",
      "Ob_Ba=np.hstack((PARTNERS_Ob[:, 1], AGRO_Ob[:, 1]))\n",
      "Yukon_Ba=np.hstack((PARTNERS_Yukon[:, 1], AGRO_Yukon[:, 1]))"
     ],
     "language": "python",
     "metadata": {},
     "outputs": [],
     "prompt_number": 15
    },
    {
     "cell_type": "code",
     "collapsed": false,
     "input": [
      "fig=plt.figure(figsize=(16, 2))\n",
      "ax=plt.gca()\n",
      "ax.plot(Lena_time, Lena_Ba, 'ro', markersize=8, linewidth=2)\n",
      "ax.set_xlim(Lena_time[0], Lena_time[-1])\n",
      "ax.set_ylim(10, 250)\n",
      "ax.set_title('Lena Ba records (Original signal)', fontsize=14, fontweight='bold')\n",
      "plt.grid()"
     ],
     "language": "python",
     "metadata": {},
     "outputs": [
      {
       "metadata": {},
       "output_type": "display_data",
       "png": "[encoded data removed]",
       "text": [
        "<matplotlib.figure.Figure at 0xe8a5278>"
       ]
      }
     ],
     "prompt_number": 16
    },
    {
     "cell_type": "code",
     "collapsed": false,
     "input": [
      "fig=plt.figure(figsize=(16, 2))\n",
      "ax=plt.gca()\n",
      "ax.plot(Mackenzie_time, Mackenzie_Ba, 'ro', markersize=8, linewidth=2)\n",
      "ax.set_xlim(Mackenzie_time[0], Mackenzie_time[-1])\n",
      "ax.set_ylim(200, 500)\n",
      "ax.set_title('Mackenzie Ba records (Original signal)', fontsize=14, fontweight='bold')\n",
      "plt.grid()"
     ],
     "language": "python",
     "metadata": {},
     "outputs": [
      {
       "metadata": {},
       "output_type": "display_data",
       "png": "[encoded data removed]",
       "text": [
        "<matplotlib.figure.Figure at 0xe9d2128>"
       ]
      }
     ],
     "prompt_number": 17
    },
    {
     "cell_type": "heading",
     "level": 2,
     "metadata": {},
     "source": [
      "Reconstruct datasets on monthly mean values"
     ]
    },
    {
     "cell_type": "markdown",
     "metadata": {},
     "source": [
      "Bin raw data to monthly mean values"
     ]
    },
    {
     "cell_type": "code",
     "collapsed": false,
     "input": [
      "Lena_monmean, Lena_Ba_monmean, Lena_bin_count = daily2monmean(Lena_time, Lena_Ba)\n",
      "Kolyma_monmean, Kolyma_Ba_monmean, _ = daily2monmean(Kolyma_time, Kolyma_Ba)\n",
      "Yenisey_monmean, Yenisey_Ba_monmean, _ = daily2monmean(Yenisey_time, Yenisey_Ba)\n",
      "Mackenzie_monmean, Mackenzie_Ba_monmean, Ma_bin_count = daily2monmean(Mackenzie_time, Mackenzie_Ba)\n",
      "Ob_monmean, Ob_Ba_monmean, _ = daily2monmean(Ob_time, Ob_Ba)\n",
      "Yukon_monmean, Yukon_Ba_monmean, _ = daily2monmean(Yukon_time, Yukon_Ba)"
     ],
     "language": "python",
     "metadata": {},
     "outputs": [],
     "prompt_number": 18
    },
    {
     "cell_type": "markdown",
     "metadata": {},
     "source": [
      "Mask np.nan for plot"
     ]
    },
    {
     "cell_type": "code",
     "collapsed": false,
     "input": [
      "Lena_Ba_masked=np.ma.masked_where(np.isnan(Lena_Ba_monmean), Lena_Ba_monmean)\n",
      "Mackenzie_Ba_masked=np.ma.masked_where(np.isnan(Mackenzie_Ba_monmean), Mackenzie_Ba_monmean)"
     ],
     "language": "python",
     "metadata": {},
     "outputs": [],
     "prompt_number": 19
    },
    {
     "cell_type": "markdown",
     "metadata": {},
     "source": [
      "Plots"
     ]
    },
    {
     "cell_type": "code",
     "collapsed": false,
     "input": [
      "fig=plt.figure(figsize=(16, 2))\n",
      "ax=plt.gca()\n",
      "ax.plot(Lena_monmean, Lena_Ba_masked, 'ro-', markersize=8, linewidth=2)\n",
      "ax.set_xlim(Lena_monmean[0], Lena_monmean[-1])\n",
      "ax.set_ylim(10, 250)\n",
      "ax.set_title('Lena monmean Ba records\\nAn example of poor data quality', fontsize=14, fontweight='bold')\n",
      "plt.grid()"
     ],
     "language": "python",
     "metadata": {},
     "outputs": [
      {
       "metadata": {},
       "output_type": "display_data",
       "png": "[encoded data removed]",
       "text": [
        "<matplotlib.figure.Figure at 0xe8e0828>"
       ]
      }
     ],
     "prompt_number": 20
    },
    {
     "cell_type": "code",
     "collapsed": false,
     "input": [
      "fig=plt.figure(figsize=(16, 2))\n",
      "ax=plt.gca()\n",
      "plt.plot(Lena_monmean, Lena_bin_count, linewidth=3)\n",
      "ax.set_xlim(Lena_monmean[0], Lena_monmean[-1])\n",
      "ax.set_ylim(0, 3)\n",
      "ax.set_title('Lena_bin_count', fontsize=14, fontweight='bold')\n",
      "plt.grid()"
     ],
     "language": "python",
     "metadata": {},
     "outputs": [
      {
       "metadata": {},
       "output_type": "display_data",
       "png": "[encoded data removed]",
       "text": [
        "<matplotlib.figure.Figure at 0xe95e160>"
       ]
      }
     ],
     "prompt_number": 21
    },
    {
     "cell_type": "code",
     "collapsed": false,
     "input": [
      "fig=plt.figure(figsize=(16, 2))\n",
      "ax=plt.gca()\n",
      "ax.plot(Mackenzie_monmean, Mackenzie_Ba_masked, 'ro-', markersize=8, linewidth=2)\n",
      "ax.set_xlim(Mackenzie_monmean[0], Mackenzie_monmean[-1])\n",
      "ax.set_ylim(200, 500)\n",
      "ax.set_title('Mackenzie monmean Ba records', fontsize=14, fontweight='bold')\n",
      "plt.grid()"
     ],
     "language": "python",
     "metadata": {},
     "outputs": [
      {
       "metadata": {},
       "output_type": "display_data",
       "png": "[encoded data removed]",
       "text": [
        "<matplotlib.figure.Figure at 0xe95ee80>"
       ]
      }
     ],
     "prompt_number": 22
    },
    {
     "cell_type": "code",
     "collapsed": false,
     "input": [
      "fig=plt.figure(figsize=(16, 2))\n",
      "ax=plt.gca()\n",
      "plt.plot(Mackenzie_monmean, Ma_bin_count, linewidth=3)\n",
      "ax.set_xlim(Mackenzie_monmean[0], Mackenzie_monmean[-1])\n",
      "ax.set_ylim(0, 3)\n",
      "ax.set_title('Mackenzie_bin_count', fontsize=14, fontweight='bold')\n",
      "plt.grid()"
     ],
     "language": "python",
     "metadata": {},
     "outputs": [
      {
       "metadata": {},
       "output_type": "display_data",
       "png": "[encoded data removed]",
       "text": [
        "<matplotlib.figure.Figure at 0xe9ce978>"
       ]
      }
     ],
     "prompt_number": 23
    },
    {
     "cell_type": "heading",
     "level": 2,
     "metadata": {},
     "source": [
      "Seansonal Characters"
     ]
    },
    {
     "cell_type": "code",
     "collapsed": false,
     "input": [
      "Lena_Ba_seasonal, Lena_bin_count_seasonal = seasonal_character(Lena_time, Lena_Ba)\n",
      "Kolyma_Ba_seasonal, _ = seasonal_character(Kolyma_time, Kolyma_Ba)\n",
      "Yenisey_Ba_seasonal, _ = seasonal_character(Yenisey_time, Yenisey_Ba)\n",
      "Mackenzie_Ba_seasonal, Mackenzie_bin_count_seasonal = seasonal_character(Mackenzie_time, Mackenzie_Ba)\n",
      "Ob_Ba_seasonal, _ = seasonal_character(Ob_time, Ob_Ba)\n",
      "Yukon_Ba_seasonal, _ = seasonal_character(Yukon_time, Yukon_Ba)"
     ],
     "language": "python",
     "metadata": {},
     "outputs": [],
     "prompt_number": 24
    },
    {
     "cell_type": "code",
     "collapsed": false,
     "input": [
      "# I guess I don't need to mask\n",
      "#Lena_Ba_seasonal_masked=np.ma.masked_where(np.isnan(Lena_Ba_seasonal), Lena_Ba_seasonal)\n",
      "#Mackenzie_Ba_seasonal_masked=np.ma.masked_where(np.isnan(Mackenzie_Ba_seasonal), Mackenzie_Ba_seasonal)"
     ],
     "language": "python",
     "metadata": {},
     "outputs": [],
     "prompt_number": 25
    },
    {
     "cell_type": "code",
     "collapsed": false,
     "input": [
      "fig=plt.figure(figsize=(16, 2))\n",
      "ax=plt.gca()\n",
      "ax.bar(np.arange(1, 13), Lena_Ba_seasonal, color='gray')\n",
      "ax.set_xlim(1, 12.5)\n",
      "ax.set_ylim(50, 250)\n",
      "ax.set_title('Fluvial Barium Character\\nLena', fontsize=14, fontweight='bold')\n",
      "plt.grid()"
     ],
     "language": "python",
     "metadata": {},
     "outputs": [
      {
       "metadata": {},
       "output_type": "display_data",
       "png": "[encoded data removed]",
       "text": [
        "<matplotlib.figure.Figure at 0xe955dd8>"
       ]
      }
     ],
     "prompt_number": 26
    },
    {
     "cell_type": "code",
     "collapsed": false,
     "input": [
      "fig=plt.figure(figsize=(16, 2))\n",
      "ax=plt.gca()\n",
      "ax.bar(np.arange(1, 13), Mackenzie_Ba_seasonal, color='gray')\n",
      "ax.set_xlim(1, 12.5)\n",
      "ax.set_ylim(250, 450)\n",
      "ax.set_title('Fluvial Barium Character\\nMackenzie', fontsize=14, fontweight='bold')\n",
      "plt.grid()"
     ],
     "language": "python",
     "metadata": {},
     "outputs": [
      {
       "metadata": {},
       "output_type": "display_data",
       "png": "[encoded data removed]",
       "text": [
        "<matplotlib.figure.Figure at 0xe9e9e10>"
       ]
      }
     ],
     "prompt_number": 27
    },
    {
     "cell_type": "heading",
     "level": 1,
     "metadata": {},
     "source": [
      "River discharge records"
     ]
    },
    {
     "cell_type": "code",
     "collapsed": false,
     "input": [
      "discharge_name=glob.glob('_data/Samples/River Discharge/*Mackenzie*.mat')\n",
      "print(\"found file: \\n{}\".format(discharge_name))\n",
      "discharge_obj=scipy.io.loadmat(discharge_name[0])"
     ],
     "language": "python",
     "metadata": {},
     "outputs": [
      {
       "output_type": "stream",
       "stream": "stdout",
       "text": [
        "found file: \n",
        "['_data/Samples/River Discharge\\\\Temp_Mackenzie.mat']\n"
       ]
      }
     ],
     "prompt_number": 37
    },
    {
     "cell_type": "code",
     "collapsed": false,
     "input": [
      "Mackenzie_discharge=discharge_obj['Mackenzie_discharge_daily'][:]\n",
      "Mackenzie_discharge_monmean=discharge_obj['Mackenzie_discharge_monmean'][:]"
     ],
     "language": "python",
     "metadata": {},
     "outputs": [],
     "prompt_number": 38
    },
    {
     "cell_type": "markdown",
     "metadata": {},
     "source": [
      "Check file size before compare"
     ]
    },
    {
     "cell_type": "code",
     "collapsed": false,
     "input": [
      "print(Mackenzie_Ba.shape)\n",
      "print(Mackenzie_discharge.shape)"
     ],
     "language": "python",
     "metadata": {},
     "outputs": [
      {
       "output_type": "stream",
       "stream": "stdout",
       "text": [
        "(23L,)\n",
        "(23L, 1L)\n"
       ]
      }
     ],
     "prompt_number": 39
    },
    {
     "cell_type": "code",
     "collapsed": false,
     "input": [
      "print(Mackenzie_Ba_monmean.shape)\n",
      "print(Mackenzie_discharge_monmean.shape)"
     ],
     "language": "python",
     "metadata": {},
     "outputs": [
      {
       "output_type": "stream",
       "stream": "stdout",
       "text": [
        "(96L,)\n",
        "(96L, 1L)\n"
       ]
      }
     ],
     "prompt_number": 40
    },
    {
     "cell_type": "heading",
     "level": 2,
     "metadata": {},
     "source": [
      "Some characters"
     ]
    },
    {
     "cell_type": "markdown",
     "metadata": {},
     "source": [
      "pearson correlation"
     ]
    },
    {
     "cell_type": "code",
     "collapsed": false,
     "input": [
      "from scipy.stats.stats import pearsonr  \n",
      "corr, p = pearsonr(Mackenzie_Ba.flat, Mackenzie_discharge.flat)\n",
      "print('Number of data points: {}\\nCorrelation Index: {}\\nSignificance: {}'.format(len(Mackenzie_Ba.flat), corr, p))"
     ],
     "language": "python",
     "metadata": {},
     "outputs": [
      {
       "output_type": "stream",
       "stream": "stdout",
       "text": [
        "Number of data points: 23\n",
        "Correlation Index: -0.51442035801\n",
        "Significance: 0.0120257313297\n"
       ]
      }
     ],
     "prompt_number": 58
    },
    {
     "cell_type": "markdown",
     "metadata": {},
     "source": [
      "Ba divided by discharge"
     ]
    },
    {
     "cell_type": "code",
     "collapsed": false,
     "input": [
      "plt.plot(Mackenzie_time, np.divide(Mackenzie_Ba.flat, Mackenzie_discharge.flat), 'ro-')"
     ],
     "language": "python",
     "metadata": {},
     "outputs": [
      {
       "metadata": {},
       "output_type": "pyout",
       "prompt_number": 48,
       "text": [
        "[<matplotlib.lines.Line2D at 0xec6ce48>]"
       ]
      },
      {
       "metadata": {},
       "output_type": "display_data",
       "png": "[encoded data removed]",
       "text": [
        "<matplotlib.figure.Figure at 0xed13a90>"
       ]
      }
     ],
     "prompt_number": 48
    },
    {
     "cell_type": "markdown",
     "metadata": {},
     "source": [
      "## Some of my idea:\n",
      "* Start: runoff file in $\\mathrm{kg/m^2/s}$ $\\mathrm{\\left<M L^{-2} T^{-1}\\right>}$\n",
      "* End: Barium concentration in $\\mathrm{mol/L}$ $\\mathrm{\\left<M L^{-3}\\right>}$\n",
      "* Information to build the relationship: Discharge data in $\\mathrm{m^3/s}$ $\\mathrm{\\left<L^{3} T^{-1}\\right>}$ or $\\mathrm{\\left<M T^{-1}\\right>}$\n",
      "\n",
      "Emprical relationship (?):\n",
      "\n",
      "$Ba = coefficient \\times runoff$\n"
     ]
    },
    {
     "cell_type": "code",
     "collapsed": false,
     "input": [],
     "language": "python",
     "metadata": {},
     "outputs": [],
     "prompt_number": 28
    }
   ],
   "metadata": {}
  }
 ]
}