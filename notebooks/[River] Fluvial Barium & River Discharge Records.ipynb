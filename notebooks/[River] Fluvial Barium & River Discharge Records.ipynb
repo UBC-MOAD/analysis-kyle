{
 "metadata": {
  "name": "",
  "signature": "sha256:1a7cbe0bf5aafa3b56a2fe32e8119ce0a2b58ea9a4140604f864aee5fe51fd3f"
 },
 "nbformat": 3,
 "nbformat_minor": 0,
 "worksheets": [
  {
   "cells": [
    {
     "cell_type": "code",
     "collapsed": false,
     "input": [],
     "language": "python",
     "metadata": {},
     "outputs": [],
     "prompt_number": 0
    },
    {
     "cell_type": "heading",
     "level": 1,
     "metadata": {},
     "source": [
      "Import modules and tools"
     ]
    },
    {
     "cell_type": "code",
     "collapsed": false,
     "input": [
      "import sys\n",
      "sys.path.insert(0, '_libs/')"
     ],
     "language": "python",
     "metadata": {},
     "outputs": [],
     "prompt_number": 1
    },
    {
     "cell_type": "code",
     "collapsed": false,
     "input": [
      "import glob\n",
      "import scipy.io\n",
      "import datetime\n",
      "import numpy as np\n",
      "import netCDF4 as nc\n",
      "import NEMO_tools as Nts\n",
      "import matplotlib.pyplot as plt\n",
      "from __future__ import division\n",
      "from __future__ import print_function\n",
      "from mpl_toolkits.basemap import cm\n",
      "% matplotlib inline"
     ],
     "language": "python",
     "metadata": {},
     "outputs": [],
     "prompt_number": 19
    },
    {
     "cell_type": "code",
     "collapsed": false,
     "input": [
      "reload(Nts)"
     ],
     "language": "python",
     "metadata": {},
     "outputs": [
      {
       "metadata": {},
       "output_type": "pyout",
       "prompt_number": 3,
       "text": [
        "<module 'NEMO_tools' from '_libs/NEMO_tools.pyc'>"
       ]
      }
     ],
     "prompt_number": 3
    },
    {
     "cell_type": "heading",
     "level": 1,
     "metadata": {},
     "source": [
      "Define functions"
     ]
    },
    {
     "cell_type": "code",
     "collapsed": false,
     "input": [
      "def datenum2datetime(matlab_datenum):\n",
      "    '''\n",
      "    =======================================================================\n",
      "    Convert MATLAB datenum value to Python datetime object\n",
      "                            ----- created on 2014/12/24, Yingkai (Kyle) Sha\n",
      "    -----------------------------------------------------------------------\n",
      "        python_datetime = datenum2datetime(matlab_datenum)\n",
      "    -----------------------------------------------------------------------\n",
      "    Input:\n",
      "            matlab_datenum: 1D array\n",
      "    Output:\n",
      "            datetime objects\n",
      "    ======================================================================= \n",
      "    '''\n",
      "    import datetime\n",
      "    matlab_datenum=matlab_datenum.astype(int)\n",
      "    python_datetime=[]\n",
      "    for i in range(len(matlab_datenum)):\n",
      "        temp = datetime.datetime.fromordinal(matlab_datenum[i]) + \\\n",
      "                            datetime.timedelta(days=matlab_datenum[i]%1) - datetime.timedelta(days = 366)\n",
      "        python_datetime.append(temp)\n",
      "    return python_datetime"
     ],
     "language": "python",
     "metadata": {},
     "outputs": [],
     "prompt_number": 88
    },
    {
     "cell_type": "heading",
     "level": 1,
     "metadata": {},
     "source": [
      "Fluvial Barium records"
     ]
    },
    {
     "cell_type": "markdown",
     "metadata": {},
     "source": [
      "Datasets are downloaded from <a href='http://www.arcticgreatrivers.org/data'>**Arctic Gread River Observatory**</a>"
     ]
    },
    {
     "cell_type": "heading",
     "level": 2,
     "metadata": {},
     "source": [
      "PARTNERS [L. W. Cooper et al., Geophys. Res. Lett., 2008]"
     ]
    },
    {
     "cell_type": "code",
     "collapsed": false,
     "input": [
      "PARTNERS_name=glob.glob('_data/Samples/PARTNERS/*Barium.mat')\n",
      "print(\"found file: \\n{}\".format(PARTNERS_name))\n",
      "PARTNERS_obj=scipy.io.loadmat(PARTNERS_name[0])"
     ],
     "language": "python",
     "metadata": {},
     "outputs": [
      {
       "output_type": "stream",
       "stream": "stdout",
       "text": [
        "found file: \n",
        "['_data/Samples/PARTNERS\\\\PATRNERS_Barium.mat']\n"
       ]
      }
     ],
     "prompt_number": 5
    },
    {
     "cell_type": "code",
     "collapsed": false,
     "input": [
      "PARTNERS_Lena=PARTNERS_obj['Lena']\n",
      "PARTNERS_Kolyma=PARTNERS_obj['Kolyma']\n",
      "PARTNERS_Yenisey=PARTNERS_obj['Yenisey']\n",
      "PARTNERS_Mackenzie=PARTNERS_obj['Mackenzie']\n",
      "PARTNERS_Ob=PARTNERS_obj['Ob']\n",
      "PARTNERS_Yukon=PARTNERS_obj['Yukon']"
     ],
     "language": "python",
     "metadata": {},
     "outputs": [],
     "prompt_number": 8
    },
    {
     "cell_type": "heading",
     "level": 2,
     "metadata": {},
     "source": [
      "Arctic-GRO"
     ]
    },
    {
     "cell_type": "code",
     "collapsed": false,
     "input": [
      "AGRO_name=glob.glob('_data/Samples/Arctic-GRO/*Barium.mat')\n",
      "print(\"found file: \\n{}\".format(AGRO_name))\n",
      "AGRO_obj=scipy.io.loadmat(AGRO_name[0])"
     ],
     "language": "python",
     "metadata": {},
     "outputs": [
      {
       "output_type": "stream",
       "stream": "stdout",
       "text": [
        "found file: \n",
        "['_data/Samples/Arctic-GRO\\\\GRO_Barium.mat']\n"
       ]
      }
     ],
     "prompt_number": 9
    },
    {
     "cell_type": "code",
     "collapsed": false,
     "input": [
      "AGRO_Lena=AGRO_obj['Lena']\n",
      "AGRO_Kolyma=AGRO_obj['Kolyma']\n",
      "AGRO_Yenisey=AGRO_obj['Yenisey']\n",
      "AGRO_Mackenzie=AGRO_obj['Mackenzie']\n",
      "AGRO_Ob=AGRO_obj['Ob']\n",
      "AGRO_Yukon=AGRO_obj['Yukon']"
     ],
     "language": "python",
     "metadata": {},
     "outputs": [],
     "prompt_number": 10
    },
    {
     "cell_type": "heading",
     "level": 2,
     "metadata": {},
     "source": [
      "Bin datasets to a whole series"
     ]
    },
    {
     "cell_type": "code",
     "collapsed": false,
     "input": [
      "datenum2datetime(PARTNERS_Lena[:, 0])"
     ],
     "language": "python",
     "metadata": {},
     "outputs": [
      {
       "metadata": {},
       "output_type": "pyout",
       "prompt_number": 93,
       "text": [
        "[datetime.datetime(2003, 8, 12, 0, 0),\n",
        " datetime.datetime(2004, 4, 9, 0, 0),\n",
        " datetime.datetime(2004, 6, 5, 0, 0),\n",
        " datetime.datetime(2004, 6, 7, 0, 0),\n",
        " datetime.datetime(2004, 8, 19, 0, 0),\n",
        " datetime.datetime(2004, 8, 24, 0, 0),\n",
        " datetime.datetime(2004, 10, 7, 0, 0),\n",
        " datetime.datetime(2004, 10, 10, 0, 0),\n",
        " datetime.datetime(2005, 3, 24, 0, 0),\n",
        " datetime.datetime(2005, 5, 27, 0, 0),\n",
        " datetime.datetime(2005, 6, 4, 0, 0),\n",
        " datetime.datetime(2005, 8, 6, 0, 0),\n",
        " datetime.datetime(2005, 8, 14, 0, 0),\n",
        " datetime.datetime(2005, 10, 9, 0, 0),\n",
        " datetime.datetime(2005, 10, 10, 0, 0)]"
       ]
      }
     ],
     "prompt_number": 93
    },
    {
     "cell_type": "code",
     "collapsed": false,
     "input": [
      "plt.plot(PARTNERS_Lena[:, 1])"
     ],
     "language": "python",
     "metadata": {},
     "outputs": [
      {
       "metadata": {},
       "output_type": "pyout",
       "prompt_number": 94,
       "text": [
        "[<matplotlib.lines.Line2D at 0xea0a8d0>]"
       ]
      },
      {
       "metadata": {},
       "output_type": "display_data",
       "png": "[encoded data removed]",
       "text": [
        "<matplotlib.figure.Figure at 0xeaaada0>"
       ]
      }
     ],
     "prompt_number": 94
    },
    {
     "cell_type": "code",
     "collapsed": false,
     "input": [],
     "language": "python",
     "metadata": {},
     "outputs": [],
     "prompt_number": 61
    },
    {
     "cell_type": "code",
     "collapsed": false,
     "input": [],
     "language": "python",
     "metadata": {},
     "outputs": [],
     "prompt_number": 86
    },
    {
     "cell_type": "code",
     "collapsed": false,
     "input": [],
     "language": "python",
     "metadata": {},
     "outputs": [],
     "prompt_number": 0
    },
    {
     "cell_type": "code",
     "collapsed": false,
     "input": [],
     "language": "python",
     "metadata": {},
     "outputs": [],
     "prompt_number": 0
    },
    {
     "cell_type": "code",
     "collapsed": false,
     "input": [],
     "language": "python",
     "metadata": {},
     "outputs": [],
     "prompt_number": 0
    },
    {
     "cell_type": "code",
     "collapsed": false,
     "input": [],
     "language": "python",
     "metadata": {},
     "outputs": [],
     "prompt_number": 0
    },
    {
     "cell_type": "code",
     "collapsed": false,
     "input": [],
     "language": "python",
     "metadata": {},
     "outputs": [],
     "prompt_number": 0
    },
    {
     "cell_type": "code",
     "collapsed": false,
     "input": [],
     "language": "python",
     "metadata": {},
     "outputs": []
    }
   ],
   "metadata": {}
  }
 ]
}