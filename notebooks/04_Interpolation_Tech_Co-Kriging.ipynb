{
 "metadata": {
  "name": "",
  "signature": "sha256:72981541111f5df7e779e1fe34d23f5b8d5c24fa7fb8c8d0d22d0444234138fd"
 },
 "nbformat": 3,
 "nbformat_minor": 0,
 "worksheets": [
  {
   "cells": [
    {
     "cell_type": "markdown",
     "metadata": {},
     "source": [
      "rpy2 currently is not included in Anaconda's win-64 channel. For Windows user, please go to \n",
      "\n",
      "Christoph Gohlke's Website and download rpy2 http://www.lfd.uci.edu/~gohlke/pythonlibs/#rpy2\n",
      "\n"
     ]
    },
    {
     "cell_type": "code",
     "collapsed": false,
     "input": [
      "import rpy2"
     ],
     "language": "python",
     "metadata": {},
     "outputs": [],
     "prompt_number": 3
    },
    {
     "cell_type": "code",
     "collapsed": false,
     "input": [],
     "language": "python",
     "metadata": {},
     "outputs": [],
     "prompt_number": 1
    },
    {
     "cell_type": "code",
     "collapsed": false,
     "input": [
      "def create_interpolation_grid(self):\n",
      "        '''\n",
      "        Run this to get some basic stuff, like an empty grid to interpolated\n",
      "        the data to, the extent and size of the tifs.\n",
      "        '''\n",
      "        extent = dataset.extent\n",
      "        self.nx, self.ny = basegrid.size\n",
      "        xi = numpy.linspace(extent[0], extent[1], self.nx)\n",
      "        yi = numpy.linspace(extent[2], extent[3], self.ny)\n",
      "        xi, yi = numpy.meshgrid(xi, yi)\n",
      "        self.xi, self.yi = xi.flatten(), yi.flatten()"
     ],
     "language": "python",
     "metadata": {},
     "outputs": [],
     "prompt_number": 1
    },
    {
     "cell_type": "markdown",
     "metadata": {},
     "source": [
      "A cokriging function translated from R"
     ]
    },
    {
     "cell_type": "code",
     "collapsed": false,
     "input": [
      "    def cokriging_in_r(self, x, y, z):\n",
      "        '''\n",
      "        Cokriging (and ordinary kriging) is quite fast in R.\n",
      "        This would anyway be more pragmatic than rewriting/porting it to Python.\n",
      "        For the moment this will be the 'best' way as R makes it very easy to\n",
      "        use kriging without fitting a variogram model, but using a standard \n",
      "        variogram.\n",
      "        '''\n",
      "        import rpy2\n",
      "        import rpy2.robjects as robj\n",
      "        import time\n",
      "        time0 = time.time()\n",
      "        robj.r.library('gstat')\n",
      "        self.create_interpolation_grid()\n",
      "        xi, yi = robj.FloatVector(self.xi.tolist()), robj.FloatVector(self.yi.tolist())\n",
      "        dataset = self.dataloader.dataset.ReadAsArray().flatten()\n",
      "        mask = numpy.equal(dataset, -9999)\n",
      "        rxi = robj.FloatVector(dataset.tolist())\n",
      "        radar = self.get_radar_for_locations()\n",
      "        radar = robj.FloatVector(radar)\n",
      "        x,y,z = robj.FloatVector(x), robj.FloatVector(y), robj.FloatVector(z)\n",
      "        rain_frame = robj.DataFrame({'x': x, 'y': y, 'z':z})\n",
      "        radar_frame = robj.DataFrame({'x': xi, 'y': yi, 'radar': rxi})\n",
      "        target_frame = robj.DataFrame({'x':xi, 'y':yi})\n",
      "        vgm_args = {'model_type': 'Sph', 'range1': 20000, 'range2':1040000}\n",
      "        # following command gives a python output to r functions\n",
      "        vgm_args['nugget'] = 0.035\n",
      "        vgm_args['sill1'] = 0.473\n",
      "        vgm_args['sill2'] = 8.994\n",
      "        radar_variance = dataset[~mask].var()\n",
      "        rain_variance = robj.r.var(z)[0]\n",
      "        correlation_radar_rain = numpy.abs(robj.r.cor(z, radar))\n",
      "        variance_correction = numpy.sqrt(rain_variance * radar_variance)\n",
      "        # The cross coefficient is used in the cross variogram (crossgram)\n",
      "        # \n",
      "        cross_coef = (correlation_radar_rain * variance_correction)[0]\n",
      "        # change it back to rpy strict\n",
      " \n",
      "        # The variogram is combined. This is a bit awkward in Rpy.\n",
      "        # So one way is change the args manually (see below)\n",
      "        # or load variables in R before hand.\n",
      "        variogram_radar = robj.r.vgm(vgm_args['sill1'] * radar_variance, \n",
      "            vgm_args['model_type'], vgm_args['range1'], vgm_args['nugget'], \n",
      "            robj.r(\"add.to=vgm(\"+ str(vgm_args['sill2'] * radar_variance)\n",
      "                + \", 'Sph', 1040000, \" + str(vgm_args['nugget'] * \n",
      "                    radar_variance)+\")\"))\n",
      "        variogram_rain = robj.r.vgm(vgm_args['sill1'] * rain_variance,\n",
      "            vgm_args['model_type'], vgm_args['range1'], vgm_args['nugget'], \n",
      "            robj.r(\"add.to=vgm(\"+ str(vgm_args['sill2'] * rain_variance)\n",
      "                + \", 'Sph', 1040000, \" + str(vgm_args['nugget'] * \n",
      "                    rain_variance)+\")\"))\n",
      "        crossgram = robj.r.vgm(vgm_args['sill1'] * cross_coef, \n",
      "            vgm_args['model_type'], vgm_args['range1'], vgm_args['nugget'], \n",
      "            robj.r(\"add.to=vgm(\"+ str(vgm_args['sill2'] * cross_coef)\n",
      "                + \", 'Sph', 1040000, \" + str(vgm_args['nugget'] * cross_coef) + \")\"))\n",
      " \n",
      "        # #waarde van de radar op de modelnodes (=predictielocatie), nodig voor colocated cokriging (betekent sec. variabele op elke predictie locatie bekend)\n",
      "        #         mn.radar=krige(rain~1,rads,mn,nmax=1)\n",
      "        #         names(mn.radar)[1]='radar.rain'\n",
      "        \n",
      "        # # gstat object voor colocated cokriging                            \n",
      "        # g.cck=NULL\n",
      "        #         g.cck=gstat(g.cck,id='gauge',formula=sqrt(rain)~1,data=raingauge,model=vgm.raing,nmax = 40)\n",
      "        #         g.cck=gstat(g.cck,id='radar',sqrt(radar.rain)~1,data=mn.radar,model=vgm.radar,merge=c('gauge','radar'),nmax=1)\n",
      "        #         g.cck=gstat(g.cck,id=c('gauge','radar'),model=vgm.cross,nmax = 40)\n",
      "                \n",
      "        # #cokriging naar modelknooppunten (mn)\n",
      "        #         cck.out=predict(g.cck,mn,nsim=0) \n",
      " \n",
      "        # radar_krige = (robj.r.krige(robj.r('radar ~ 1'), robj.r('~ x + y'),\n",
      "        #     radar_frame, target_frame, nmax=1))\n",
      "        cck = robj.r('NULL')\n",
      "        cck = robj.r.gstat(cck, \"rain\", robj.r('z ~ 1'), robj.r('~ x + y'), \n",
      "            data=rain_frame, model=variogram_rain, nmax=40)\n",
      "        cck = robj.r.gstat(cck, \"radar\", robj.r('radar~ 1'), robj.r('~ x + y'),\n",
      "            data=radar_frame, model=variogram_radar, \n",
      "            merge=robj.r(\"c('rain','radar')\"), nmax=1)\n",
      "        cck = robj.r.gstat(cck, robj.r('c(\"rain\", \"radar\")'), model=crossgram, nmax=40)        \n",
      "        # pdb.set_trace()\n",
      " \n",
      "        result = robj.r.predict(cck, target_frame)\n",
      "        time1 = time.time()\n",
      "        deltatime = time1-time0\n",
      "        print('Kriging took '+ str(deltatime) + ' seconds')\n",
      "        radar_est = numpy.array(result[4])\n",
      "        radar_est = radar_est.reshape((self.ny, self.nx))\n",
      "        rain_est = numpy.array(result[2])\n",
      "        rain_est = radar_est.reshape((self.ny, self.nx))\n",
      "        return radar_est, rain_est"
     ],
     "language": "python",
     "metadata": {},
     "outputs": [],
     "prompt_number": 1
    },
    {
     "cell_type": "code",
     "collapsed": false,
     "input": [],
     "language": "python",
     "metadata": {},
     "outputs": []
    }
   ],
   "metadata": {}
  }
 ]
}