{
 "metadata": {
  "name": "",
  "signature": "sha256:ad013a2b6fb0542db4b1212fd794bf47775e648df23a35918f569384eebc90bc"
 },
 "nbformat": 3,
 "nbformat_minor": 0,
 "worksheets": [
  {
   "cells": [
    {
     "cell_type": "code",
     "collapsed": false,
     "input": [
      "import sys\n",
      "sys.path.insert(0, '_libs/')"
     ],
     "language": "python",
     "metadata": {},
     "outputs": [],
     "prompt_number": 1
    },
    {
     "cell_type": "code",
     "collapsed": false,
     "input": [
      "import glob\n",
      "import numpy as np\n",
      "import netCDF4 as nc\n",
      "import NEMO_tools as Nts\n",
      "import matplotlib.pyplot as plt\n",
      "#from __future__ import division\n",
      "from __future__ import print_function\n",
      "#from mpl_toolkits.basemap import cm\n",
      "#from mpl_toolkits.basemap import Basemap\n",
      "#from mpl_toolkits.basemap import shiftgrid\n",
      "% matplotlib inline"
     ],
     "language": "python",
     "metadata": {},
     "outputs": [],
     "prompt_number": 2
    },
    {
     "cell_type": "markdown",
     "metadata": {},
     "source": [
      "Information on <a href='http://www.cgd.ucar.edu/cas/catalog/surface/dai-runoff/'>NRCA's Page</a>:\n",
      "* **coastal-stns-Vol-monthly.updated-oct2007.nc** : \n",
      "        time series of monthly river flow from stations and station information, in netCDF format\n",
      "* **coastal-stns-Vol-monthly.Constructed.wateryr-v2-updated-oct2007.nc** : \n",
      "        time series of observed and infilled monthly and annual flow, in netCDF"
     ]
    },
    {
     "cell_type": "code",
     "collapsed": false,
     "input": [
      "rf_name=glob.glob('_data/Reanalysis/Dai_runoff/*.nc')\n",
      "print(rf_name[0])\n",
      "print(rf_name[1])"
     ],
     "language": "python",
     "metadata": {},
     "outputs": [
      {
       "output_type": "stream",
       "stream": "stdout",
       "text": [
        "_data/Reanalysis/Dai_runoff\\coastal-stns-Vol-monthly.Constructed.wateryr-v2-updated-oct2007.nc\n",
        "_data/Reanalysis/Dai_runoff\\coastal-stns-Vol-monthly.updated-oct2007.nc\n"
       ]
      }
     ],
     "prompt_number": 8
    },
    {
     "cell_type": "code",
     "collapsed": false,
     "input": [
      "rf_obj1=nc.Dataset(rf_name[0])"
     ],
     "language": "python",
     "metadata": {},
     "outputs": [],
     "prompt_number": 9
    },
    {
     "cell_type": "code",
     "collapsed": false,
     "input": [
      "print(rf_obj1.variables.keys())"
     ],
     "language": "python",
     "metadata": {},
     "outputs": [
      {
       "output_type": "stream",
       "stream": "stdout",
       "text": [
        "[u'time', u'station', u'timeYr', u'Catalog', u'FLOW_obs', u'FLOW_clm', u'FLOW_con', u'FLOWAnn_obs', u'FLOWAnn_clm', u'FLOWAnn_con', u'Correlation', u'scat', u'rcout', u'rcsd', u'nptxy', u'alpha']\n"
       ]
      }
     ],
     "prompt_number": 11
    },
    {
     "cell_type": "markdown",
     "metadata": {},
     "source": [
      "The size of variables"
     ]
    },
    {
     "cell_type": "code",
     "collapsed": false,
     "input": [
      "time=rf_obj1.variables['time'][:]\n",
      "station=rf_obj1.variables['station'][:]\n",
      "print('time: {} station: {}'.format(time.shape, station.shape))\n",
      "FLOW_clm=rf_obj1.variables['FLOW_clm'][:]\n",
      "print('FLOW_clm: {}'.format(FLOW_clm.shape))\n",
      "FLOW_obs=rf_obj1.variables['FLOW_obs'][:]\n",
      "print('FLOW_obs: {}'.format(FLOW_obs.shape))\n",
      "FLOW_con=rf_obj1.variables['FLOW_con'][:]\n",
      "print('FLOW_con: {}'.format(FLOW_con.shape))\n",
      "nptxy=rf_obj1.variables['nptxy'][:]\n",
      "print('nptxy: {}'.format(nptxy.shape))"
     ],
     "language": "python",
     "metadata": {},
     "outputs": [
      {
       "output_type": "stream",
       "stream": "stdout",
       "text": [
        "time: (684L,) station: (925L,)\n",
        "FLOW_clm: (684L, 925L)\n",
        "FLOW_obs: (684L, 925L)"
       ]
      },
      {
       "output_type": "stream",
       "stream": "stdout",
       "text": [
        "\n",
        "FLOW_con: (684L, 925L)\n",
        "nptxy: (925L, 14L)\n"
       ]
      }
     ],
     "prompt_number": 19
    },
    {
     "cell_type": "code",
     "collapsed": false,
     "input": [],
     "language": "python",
     "metadata": {},
     "outputs": [],
     "prompt_number": 0
    },
    {
     "cell_type": "code",
     "collapsed": false,
     "input": [],
     "language": "python",
     "metadata": {},
     "outputs": [],
     "prompt_number": 0
    },
    {
     "cell_type": "code",
     "collapsed": false,
     "input": [],
     "language": "python",
     "metadata": {},
     "outputs": [],
     "prompt_number": 0
    },
    {
     "cell_type": "code",
     "collapsed": false,
     "input": [],
     "language": "python",
     "metadata": {},
     "outputs": [],
     "prompt_number": 0
    },
    {
     "cell_type": "code",
     "collapsed": false,
     "input": [],
     "language": "python",
     "metadata": {},
     "outputs": [],
     "prompt_number": 0
    },
    {
     "cell_type": "code",
     "collapsed": false,
     "input": [],
     "language": "python",
     "metadata": {},
     "outputs": [],
     "prompt_number": 0
    },
    {
     "cell_type": "code",
     "collapsed": false,
     "input": [],
     "language": "python",
     "metadata": {},
     "outputs": [],
     "prompt_number": 0
    },
    {
     "cell_type": "code",
     "collapsed": false,
     "input": [],
     "language": "python",
     "metadata": {},
     "outputs": [],
     "prompt_number": 0
    },
    {
     "cell_type": "code",
     "collapsed": false,
     "input": [],
     "language": "python",
     "metadata": {},
     "outputs": [],
     "prompt_number": 0
    },
    {
     "cell_type": "code",
     "collapsed": false,
     "input": [],
     "language": "python",
     "metadata": {},
     "outputs": [],
     "prompt_number": 0
    },
    {
     "cell_type": "code",
     "collapsed": false,
     "input": [],
     "language": "python",
     "metadata": {},
     "outputs": [],
     "prompt_number": 0
    },
    {
     "cell_type": "code",
     "collapsed": false,
     "input": [],
     "language": "python",
     "metadata": {},
     "outputs": [],
     "prompt_number": 0
    },
    {
     "cell_type": "code",
     "collapsed": false,
     "input": [],
     "language": "python",
     "metadata": {},
     "outputs": [],
     "prompt_number": 0
    },
    {
     "cell_type": "code",
     "collapsed": false,
     "input": [],
     "language": "python",
     "metadata": {},
     "outputs": [],
     "prompt_number": 0
    },
    {
     "cell_type": "code",
     "collapsed": false,
     "input": [],
     "language": "python",
     "metadata": {},
     "outputs": []
    }
   ],
   "metadata": {}
  }
 ]
}