{
 "metadata": {
  "name": "",
  "signature": "sha256:5db95255b166adced911706522c717731f6d6bb70b637b3c2692f8a0f0e9b5bd"
 },
 "nbformat": 3,
 "nbformat_minor": 0,
 "worksheets": [
  {
   "cells": [
    {
     "cell_type": "markdown",
     "metadata": {},
     "source": [
      "This notebook provides a quick look at PISCES input netCDF files before I start to have my own tracer input."
     ]
    },
    {
     "cell_type": "heading",
     "level": 1,
     "metadata": {},
     "source": [
      "Import modules and tools "
     ]
    },
    {
     "cell_type": "code",
     "collapsed": false,
     "input": [
      "import glob\n",
      "import numpy as np\n",
      "import netCDF4 as nc\n",
      "from __future__ import print_function"
     ],
     "language": "python",
     "metadata": {},
     "outputs": [],
     "prompt_number": 1
    },
    {
     "cell_type": "code",
     "collapsed": false,
     "input": [
      "TA_name=glob.glob('_data/NEMO/PISCES_INPUT/data_Alkalini_nomask.nc')\n",
      "print(\"found file: \\n{}\".format(TA_name))\n",
      "TA_obj=nc.Dataset(TA_name[0])\n",
      "TA_obj.variables.keys()"
     ],
     "language": "python",
     "metadata": {},
     "outputs": [
      {
       "output_type": "stream",
       "stream": "stdout",
       "text": [
        "found file: \n",
        "['_data/NEMO/PISCES_INPUT/data_Alkalini_nomask.nc']\n"
       ]
      },
      {
       "metadata": {},
       "output_type": "pyout",
       "prompt_number": 2,
       "text": [
        "[u'nav_lon', u'nav_lat', u'deptht', u'time_counter', u'Alkalini']"
       ]
      }
     ],
     "prompt_number": 2
    },
    {
     "cell_type": "code",
     "collapsed": false,
     "input": [
      "DIC_name=glob.glob('_data/NEMO/PISCES_INPUT/data_DIC_nomask.nc')\n",
      "print(\"found file: \\n{}\".format(DIC_name))\n",
      "DIC_obj=nc.Dataset(DIC_name[0])\n",
      "DIC_obj.variables.keys()"
     ],
     "language": "python",
     "metadata": {},
     "outputs": [
      {
       "output_type": "stream",
       "stream": "stdout",
       "text": [
        "found file: \n",
        "['_data/NEMO/PISCES_INPUT/data_DIC_nomask.nc']\n"
       ]
      },
      {
       "metadata": {},
       "output_type": "pyout",
       "prompt_number": 3,
       "text": [
        "[u'nav_lon', u'nav_lat', u'deptht', u'time_counter', u'DIC']"
       ]
      }
     ],
     "prompt_number": 3
    },
    {
     "cell_type": "code",
     "collapsed": false,
     "input": [
      "ND_name=glob.glob('_data/NEMO/PISCES_INPUT/ndeposition.orca.nc')\n",
      "print(\"found file: \\n{}\".format(ND_name))\n",
      "ND_obj=nc.Dataset(ND_name[0])\n",
      "ND_obj.variables.keys()"
     ],
     "language": "python",
     "metadata": {},
     "outputs": [
      {
       "output_type": "stream",
       "stream": "stdout",
       "text": [
        "found file: \n",
        "['_data/NEMO/PISCES_INPUT/ndeposition.orca.nc']\n"
       ]
      },
      {
       "metadata": {},
       "output_type": "pyout",
       "prompt_number": 4,
       "text": [
        "[u'nav_lon', u'nav_lat', u'time_counter', u'ndep']"
       ]
      }
     ],
     "prompt_number": 4
    },
    {
     "cell_type": "code",
     "collapsed": false,
     "input": [
      "rf_name=glob.glob('_data/NEMO/PISCES_INPUT/river.orca.nc')\n",
      "print(\"found file: \\n{}\".format(rf_name))\n",
      "rf_obj=nc.Dataset(rf_name[0])\n",
      "rf_obj.variables.keys()"
     ],
     "language": "python",
     "metadata": {},
     "outputs": [
      {
       "output_type": "stream",
       "stream": "stdout",
       "text": [
        "found file: \n",
        "['_data/NEMO/PISCES_INPUT/river.orca.nc']\n"
       ]
      },
      {
       "metadata": {},
       "output_type": "pyout",
       "prompt_number": 5,
       "text": [
        "[u'nav_lon',\n",
        " u'nav_lat',\n",
        " u'time_counter',\n",
        " u'riverdic',\n",
        " u'riverdoc',\n",
        " u'riverpoc']"
       ]
      }
     ],
     "prompt_number": 5
    },
    {
     "cell_type": "code",
     "collapsed": false,
     "input": [
      "rf_obj.variables['riverdoc'][:].shape"
     ],
     "language": "python",
     "metadata": {},
     "outputs": [
      {
       "metadata": {},
       "output_type": "pyout",
       "prompt_number": 7,
       "text": [
        "(1L, 149L, 182L)"
       ]
      }
     ],
     "prompt_number": 7
    },
    {
     "cell_type": "markdown",
     "metadata": {},
     "source": [
      "External fluidvial souces in PISCES are stored in `river.orca.nc` as `riverdic`, `riverdoc`, `riverpoc`.\n",
      "\n",
      "Do a `grep` in `NEMOGCM/NEMO/TOP_SRC/PISCES` \n",
      "```bash\n",
      "grep \"riverdoc\" *.F90\n",
      "```\n",
      "Tracer initial fields controlled by `trcdat.F90 --> trcini.F90` in `namelist_top`."
     ]
    },
    {
     "cell_type": "code",
     "collapsed": false,
     "input": [],
     "language": "python",
     "metadata": {},
     "outputs": [],
     "prompt_number": 0
    },
    {
     "cell_type": "code",
     "collapsed": false,
     "input": [],
     "language": "python",
     "metadata": {},
     "outputs": [],
     "prompt_number": 0
    },
    {
     "cell_type": "code",
     "collapsed": false,
     "input": [],
     "language": "python",
     "metadata": {},
     "outputs": [],
     "prompt_number": 0
    },
    {
     "cell_type": "code",
     "collapsed": false,
     "input": [],
     "language": "python",
     "metadata": {},
     "outputs": [],
     "prompt_number": 0
    },
    {
     "cell_type": "code",
     "collapsed": false,
     "input": [],
     "language": "python",
     "metadata": {},
     "outputs": []
    }
   ],
   "metadata": {}
  }
 ]
}