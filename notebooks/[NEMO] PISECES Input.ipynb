{
 "metadata": {
  "name": "",
  "signature": "sha256:625b5f1c7ec9e74e9ed6f5b442bc42071fcdd236ce883317bdc33f68ae7a6008"
 },
 "nbformat": 3,
 "nbformat_minor": 0,
 "worksheets": [
  {
   "cells": [
    {
     "cell_type": "markdown",
     "metadata": {},
     "source": [
      "This notebook provides a quick look at PISCES input netCDF files before I start to have my own tracer input."
     ]
    },
    {
     "cell_type": "heading",
     "level": 1,
     "metadata": {},
     "source": [
      "Import modules and tools "
     ]
    },
    {
     "cell_type": "code",
     "collapsed": false,
     "input": [
      "import glob\n",
      "import numpy as np\n",
      "import netCDF4 as nc\n",
      "from __future__ import print_function"
     ],
     "language": "python",
     "metadata": {},
     "outputs": [],
     "prompt_number": 2
    },
    {
     "cell_type": "code",
     "collapsed": false,
     "input": [
      "TA_name=glob.glob('_data/NEMO/PISCES_INPUT/data_Alkalini_nomask.nc')\n",
      "print(\"found file: \\n{}\".format(TA_name))\n",
      "TA_obj=nc.Dataset(TA_name[0])\n",
      "TA_obj.variables.keys()"
     ],
     "language": "python",
     "metadata": {},
     "outputs": [
      {
       "output_type": "stream",
       "stream": "stdout",
       "text": [
        "found file: \n",
        "['_data/NEMO/PISCES_INPUT/data_Alkalini_nomask.nc']\n"
       ]
      },
      {
       "metadata": {},
       "output_type": "pyout",
       "prompt_number": 7,
       "text": [
        "[u'nav_lon', u'nav_lat', u'deptht', u'time_counter', u'Alkalini']"
       ]
      }
     ],
     "prompt_number": 7
    },
    {
     "cell_type": "code",
     "collapsed": false,
     "input": [
      "DIC_name=glob.glob('_data/NEMO/PISCES_INPUT/data_DIC_nomask.nc')\n",
      "print(\"found file: \\n{}\".format(DIC_name))\n",
      "DIC_obj=nc.Dataset(DIC_name[0])\n",
      "DIC_obj.variables.keys()"
     ],
     "language": "python",
     "metadata": {},
     "outputs": [
      {
       "output_type": "stream",
       "stream": "stdout",
       "text": [
        "found file: \n",
        "['_data/NEMO/PISCES_INPUT/data_DIC_nomask.nc']\n"
       ]
      },
      {
       "metadata": {},
       "output_type": "pyout",
       "prompt_number": 8,
       "text": [
        "[u'nav_lon', u'nav_lat', u'deptht', u'time_counter', u'DIC']"
       ]
      }
     ],
     "prompt_number": 8
    },
    {
     "cell_type": "code",
     "collapsed": false,
     "input": [
      "ND_name=glob.glob('_data/NEMO/PISCES_INPUT/ndeposition.orca.nc')\n",
      "print(\"found file: \\n{}\".format(ND_name))\n",
      "ND_obj=nc.Dataset(ND_name[0])\n",
      "ND_obj.variables.keys()"
     ],
     "language": "python",
     "metadata": {},
     "outputs": [
      {
       "output_type": "stream",
       "stream": "stdout",
       "text": [
        "found file: \n",
        "['_data/NEMO/PISCES_INPUT/ndeposition.orca.nc']\n"
       ]
      },
      {
       "metadata": {},
       "output_type": "pyout",
       "prompt_number": 9,
       "text": [
        "[u'nav_lon', u'nav_lat', u'time_counter', u'ndep']"
       ]
      }
     ],
     "prompt_number": 9
    },
    {
     "cell_type": "code",
     "collapsed": false,
     "input": [
      "rf_name=glob.glob('_data/NEMO/PISCES_INPUT/river.orca.nc')\n",
      "print(\"found file: \\n{}\".format(rf_name))\n",
      "rf_obj=nc.Dataset(rf_name[0])\n",
      "rf_obj.variables.keys()"
     ],
     "language": "python",
     "metadata": {},
     "outputs": [
      {
       "output_type": "stream",
       "stream": "stdout",
       "text": [
        "found file: \n",
        "['_data/NEMO/PISCES_INPUT/river.orca.nc']\n"
       ]
      },
      {
       "metadata": {},
       "output_type": "pyout",
       "prompt_number": 10,
       "text": [
        "[u'nav_lon',\n",
        " u'nav_lat',\n",
        " u'time_counter',\n",
        " u'riverdic',\n",
        " u'riverdoc',\n",
        " u'riverpoc']"
       ]
      }
     ],
     "prompt_number": 10
    },
    {
     "cell_type": "heading",
     "level": 1,
     "metadata": {},
     "source": [
      "Some of the ideas"
     ]
    },
    {
     "cell_type": "markdown",
     "metadata": {},
     "source": [
      "External fluidvial souces in PISCES are stored in `river.orca.nc` as `riverdic`, `riverdoc`, `riverpoc`.\n",
      "\n",
      "Do a `grep` in `NEMOGCM/NEMO/TOP_SRC/PISCES` \n",
      "```bash\n",
      "grep \"riverdoc\" *.F90\n",
      "```\n",
      "Tracer inputs usually controlled by `trcdat.F90 --> trcini.F90`, but I found script `p4zsed.F90` reads variables in its own by calling `fldread`.\n",
      "\n",
      "I think I will write two similar block for unpacking and initializing river sources."
     ]
    },
    {
     "cell_type": "markdown",
     "metadata": {},
     "source": [
      "##Fraction of FORTRAN Codes:\n",
      "```FORTRAN\n",
      "SUBROUTINE p4z_sbc( kt )\n",
      "  !!----------------------------------------------------------------------\n",
      "  !!                  ***  routine p4z_sbc  ***\n",
      "  !!\n",
      "  !! ** purpose :   read and interpolate the external sources of \n",
      "  !!                nutrients\n",
      "  !!\n",
      "  !! ** method  :   read the files and interpolate the appropriate variables\n",
      "  !!\n",
      "  !! ** input   :   external netcdf files\n",
      "  !!\n",
      "  !!----------------------------------------------------------------------\n",
      "  !! * arguments\n",
      "  INTEGER, INTENT( in  ) ::   kt   ! ocean time step\n",
      "\n",
      "  !! * local declarations\n",
      "  INTEGER  :: ji,jj \n",
      "  REAL(wp) :: zcoef\n",
      "  !!---------------------------------------------------------------------\n",
      "  !\n",
      "  IF( nn_timing == 1 )  CALL timing_start('p4z_sbc')\n",
      "  !\n",
      "  ! Compute dust at nit000 or only if there is more than 1 time record in dust file\n",
      "  IF( ln_dust ) THEN\n",
      "     IF( kt == nit000 .OR. ( kt /= nit000 .AND. ntimes_dust > 1 ) ) THEN\n",
      "        CALL fld_read( kt, 1, sf_dust )\n",
      "        dust(:,:) = sf_dust(1)%fnow(:,:,1)\n",
      "     ENDIF\n",
      "  ENDIF\n",
      "\n",
      "  ! N/P and Si releases due to coastal rivers\n",
      "  ! Compute river at nit000 or only if there is more than 1 time record in river file\n",
      "  ! -----------------------------------------\n",
      "  IF( ln_river ) THEN\n",
      "     IF( kt == nit000 .OR. ( kt /= nit000 .AND. ntimes_riv > 1 ) ) THEN\n",
      "        CALL fld_read( kt, 1, sf_riverdic )\n",
      "        CALL fld_read( kt, 1, sf_riverdoc )\n",
      "        DO jj = 1, jpj\n",
      "           DO ji = 1, jpi\n",
      "              zcoef = ryyss * cvol(ji,jj,1) \n",
      "              cotdep(ji,jj) =   sf_riverdic(1)%fnow(ji,jj,1)                                  * 1E9 / ( 12. * zcoef + rtrn )\n",
      "              rivinp(ji,jj) = ( sf_riverdic(1)%fnow(ji,jj,1) + sf_riverdoc(1)%fnow(ji,jj,1) ) * 1E9 / ( 31.6* zcoef + rtrn )\n",
      "           END DO\n",
      "        END DO\n",
      "     ENDIF\n",
      "  ENDIF\n",
      "\n",
      "  ! Compute N deposition at nit000 or only if there is more than 1 time record in N deposition file\n",
      "  IF( ln_ndepo ) THEN\n",
      "     IF( kt == nit000 .OR. ( kt /= nit000 .AND. ntimes_ndep > 1 ) ) THEN\n",
      "        CALL fld_read( kt, 1, sf_ndepo )\n",
      "        DO jj = 1, jpj\n",
      "           DO ji = 1, jpi\n",
      "              nitdep(ji,jj) = 7.6 * sf_ndepo(1)%fnow(ji,jj,1) / ( 14E6 * ryyss * fse3t(ji,jj,1) + rtrn )\n",
      "           END DO\n",
      "        END DO\n",
      "     ENDIF\n",
      "  ENDIF\n",
      "  !\n",
      "  IF( nn_timing == 1 )  CALL timing_stop('p4z_sbc')\n",
      "  !\n",
      "END SUBROUTINE p4z_sbc\n",
      "   \n",
      "SUBROUTINE p4z_sed_init\n",
      "\n",
      "      !!----------------------------------------------------------------------\n",
      "      !!                  ***  routine p4z_sed_init  ***\n",
      "      !!\n",
      "      !! ** purpose :   initialization of the external sources of nutrients\n",
      "      !!\n",
      "      !! ** method  :   read the files and compute the budget\n",
      "      !!                called at the first timestep (nittrc000)\n",
      "      !!\n",
      "      !! ** input   :   external netcdf files\n",
      "      !!\n",
      "      !!----------------------------------------------------------------------\n",
      "      !\n",
      "      INTEGER  :: ji, jj, jk, jm\n",
      "      INTEGER  :: numdust, numriv, numiron, numdepo\n",
      "      INTEGER  :: ierr, ierr1, ierr2, ierr3\n",
      "      REAL(wp) :: zexpide, zdenitide, zmaskt\n",
      "      REAL(wp), DIMENSION(nbtimes) :: zsteps                 ! times records\n",
      "      REAL(wp), DIMENSION(:,:,:), ALLOCATABLE :: zdust, zndepo, zriverdic, zriverdoc, zcmask\n",
      "      !\n",
      "      CHARACTER(len=100) ::  cn_dir          ! Root directory for location of ssr files\n",
      "      TYPE(FLD_N) ::   sn_dust, sn_riverdoc, sn_riverdic, sn_ndepo, sn_ironsed        ! informations about the fields to be read\n",
      "      NAMELIST/nampissed/cn_dir, sn_dust, sn_riverdic, sn_riverdoc, sn_ndepo, sn_ironsed, &\n",
      "        &                ln_dust, ln_river, ln_ndepo, ln_ironsed,         &\n",
      "        &                sedfeinput, dustsolub, wdust, nitrfix, diazolight, concfediaz \n",
      "      !!----------------------------------------------------------------------\n",
      "      !\n",
      "      IF( nn_timing == 1 )  CALL timing_start('p4z_sed_init')\n",
      "      !\n",
      "      !                                    ! number of seconds per year and per month\n",
      "      ryyss    = nyear_len(1) * rday\n",
      "      rmtss    = ryyss / raamo\n",
      "      r1_rday  = 1. / rday\n",
      "      r1_ryyss = 1. / ryyss\n",
      "      !                            !* set file information\n",
      "      cn_dir  = './'            ! directory in which the model is executed\n",
      "      ! ... default values (NB: frequency positive => hours, negative => months)\n",
      "      !                  !   file       ! frequency !  variable   ! time intep !  clim   ! 'yearly' or ! weights  ! rotation   !\n",
      "      !                  !   name       !  (hours)  !   name      !   (T/F)    !  (T/F)  !  'monthly'  ! filename ! pairs      !\n",
      "      sn_dust     = FLD_N( 'dust'       ,    -1     ,  'dust'     ,  .true.    , .true.  ,   'yearly'  , ''       , ''         )\n",
      "      sn_riverdic = FLD_N( 'river'      ,   -12     ,  'riverdic' ,  .false.   , .true.  ,   'yearly'  , ''       , ''         )\n",
      "      sn_riverdoc = FLD_N( 'river'      ,   -12     ,  'riverdoc' ,  .false.   , .true.  ,   'yearly'  , ''       , ''         )\n",
      "      sn_ndepo    = FLD_N( 'ndeposition',   -12     ,  'ndep'     ,  .false.   , .true.  ,   'yearly'  , ''       , ''         )\n",
      "      sn_ironsed  = FLD_N( 'ironsed'    ,   -12     ,  'bathy'    ,  .false.   , .true.  ,   'yearly'  , ''       , ''         )\n",
      "\n",
      "      REWIND( numnatp )                     ! read numnatp\n",
      "      READ  ( numnatp, nampissed )\n",
      "```"
     ]
    },
    {
     "cell_type": "code",
     "collapsed": false,
     "input": [],
     "language": "python",
     "metadata": {},
     "outputs": [],
     "prompt_number": 0
    },
    {
     "cell_type": "code",
     "collapsed": false,
     "input": [],
     "language": "python",
     "metadata": {},
     "outputs": [],
     "prompt_number": 0
    },
    {
     "cell_type": "code",
     "collapsed": false,
     "input": [],
     "language": "python",
     "metadata": {},
     "outputs": [],
     "prompt_number": 0
    },
    {
     "cell_type": "code",
     "collapsed": false,
     "input": [],
     "language": "python",
     "metadata": {},
     "outputs": [],
     "prompt_number": 0
    },
    {
     "cell_type": "code",
     "collapsed": false,
     "input": [],
     "language": "python",
     "metadata": {},
     "outputs": []
    }
   ],
   "metadata": {}
  }
 ]
}