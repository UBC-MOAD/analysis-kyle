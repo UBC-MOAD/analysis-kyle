{
 "cells": [
  {
   "cell_type": "code",
   "execution_count": null,
   "metadata": {
    "collapsed": true
   },
   "outputs": [],
   "source": []
  },
  {
   "cell_type": "code",
   "execution_count": 1,
   "metadata": {
    "collapsed": true
   },
   "outputs": [],
   "source": [
    "import sys\n",
    "sys.path.insert(0, '_libs/')\n",
    "import NEMO_tools as Nts"
   ]
  },
  {
   "cell_type": "code",
   "execution_count": 2,
   "metadata": {
    "collapsed": true
   },
   "outputs": [],
   "source": [
    "import glob\n",
    "import datetime\n",
    "import scipy.io\n",
    "import scipy.signal\n",
    "import numpy as np\n",
    "import netCDF4 as nc\n",
    "import cartopy.feature\n",
    "import cartopy.crs as ccrs # ccrs\n",
    "#import NEMO_tools as Nts\n",
    "import matplotlib.pyplot as plt\n",
    "from mpl_toolkits.basemap import Basemap, cm\n",
    "% matplotlib inline"
   ]
  },
  {
   "cell_type": "code",
   "execution_count": 3,
   "metadata": {
    "collapsed": true
   },
   "outputs": [],
   "source": [
    "lnum=0\n",
    "FName1 = '/ocean/yingkai/GEOTRACES/Simulations/SPIN06_SET02_1m_20020101_20131231_ptrc_T.nc'\n",
    "FName2 = '/ocean/yingkai/GEOTRACES/Simulations/SET01_1m_20020101_20131231_ptrc_T.nc'\n",
    "ptrc_obj1 = nc.Dataset(FName1)\n",
    "ptrc_obj2 = nc.Dataset(FName2)\n",
    "nav_lon = ptrc_obj1.variables['nav_lon'][:]\n",
    "nav_lat = ptrc_obj1.variables['nav_lat'][:]\n",
    "d18O1 = np.squeeze(ptrc_obj1.variables['d18O'][:, lnum, :, :]); d18O1[d18O1==0]=np.nan\n",
    "d18O2 = np.squeeze(ptrc_obj2.variables['d18O'][:, lnum, :, :]); d18O2[d18O2==0]=np.nan"
   ]
  },
  {
   "cell_type": "code",
   "execution_count": null,
   "metadata": {
    "collapsed": true
   },
   "outputs": [],
   "source": []
  },
  {
   "cell_type": "code",
   "execution_count": 4,
   "metadata": {
    "collapsed": false
   },
   "outputs": [
    {
     "name": "stderr",
     "output_type": "stream",
     "text": [
      "/home/yingkai/anaconda/lib/python2.7/site-packages/numpy/lib/nanfunctions.py:675: RuntimeWarning: Mean of empty slice\n",
      "  warnings.warn(\"Mean of empty slice\", RuntimeWarning)\n"
     ]
    },
    {
     "data": {
      "text/plain": [
       "[<matplotlib.lines.Line2D at 0x7f495628ad90>]"
      ]
     },
     "execution_count": 4,
     "metadata": {},
     "output_type": "execute_result"
    },
    {
     "data": {
      "image/png": "[encoded data removed]",
      "text/plain": [
       "<matplotlib.figure.Figure at 0x7f49567dc050>"
      ]
     },
     "metadata": {},
     "output_type": "display_data"
    }
   ],
   "source": [
    "fig = plt.figure(figsize=(10, 6)); \n",
    "ax1 = plt.subplot2grid((2, 1), (0, 0), colspan=1, rowspan=1)\n",
    "ax2 = plt.subplot2grid((2, 1), (1, 0), colspan=1, rowspan=2)\n",
    "ax1.grid(); ax2.grid()\n",
    "ax1.plot(np.nanmean(np.nanmean(d18O1, 1), 1), lw=2)\n",
    "ax1.plot(np.nanmean(np.nanmean(d18O2, 1), 1), lw=2)\n",
    "ax2.plot(np.nanmean(np.nanmean(d18O2, 1), 1)-np.nanmean(np.nanmean(d18O1, 1), 1), 'k-', lw=2)"
   ]
  },
  {
   "cell_type": "code",
   "execution_count": null,
   "metadata": {
    "collapsed": true
   },
   "outputs": [],
   "source": []
  },
  {
   "cell_type": "code",
   "execution_count": null,
   "metadata": {
    "collapsed": true
   },
   "outputs": [],
   "source": [
    "from dateutil.relativedelta import relativedelta\n",
    "\n",
    "base = datetime.datetime(2002, 1, 1)\n",
    "date_list = [base + relativedelta(months=x) for x in range(144)]"
   ]
  },
  {
   "cell_type": "code",
   "execution_count": null,
   "metadata": {
    "collapsed": true
   },
   "outputs": [],
   "source": [
    "rf_name=glob.glob('_data/Samples/STN-30p/runoff_id_modified.mat')\n",
    "rf_obj=scipy.io.loadmat(rf_name[0])\n",
    "rf_id=rf_obj['rf_id']\n",
    "rf_lon=rf_obj['lon']\n",
    "rf_lat=rf_obj['lat']\n",
    "rf_id[rf_id==2]=0 # 0 is Central Arctic"
   ]
  },
  {
   "cell_type": "code",
   "execution_count": null,
   "metadata": {
    "collapsed": true
   },
   "outputs": [],
   "source": []
  },
  {
   "cell_type": "code",
   "execution_count": null,
   "metadata": {
    "collapsed": true
   },
   "outputs": [],
   "source": []
  },
  {
   "cell_type": "code",
   "execution_count": null,
   "metadata": {
    "collapsed": true
   },
   "outputs": [],
   "source": []
  },
  {
   "cell_type": "code",
   "execution_count": null,
   "metadata": {
    "collapsed": true
   },
   "outputs": [],
   "source": []
  },
  {
   "cell_type": "code",
   "execution_count": null,
   "metadata": {
    "collapsed": true
   },
   "outputs": [],
   "source": []
  },
  {
   "cell_type": "code",
   "execution_count": null,
   "metadata": {
    "collapsed": true
   },
   "outputs": [],
   "source": []
  },
  {
   "cell_type": "code",
   "execution_count": null,
   "metadata": {
    "collapsed": true
   },
   "outputs": [],
   "source": []
  },
  {
   "cell_type": "code",
   "execution_count": null,
   "metadata": {
    "collapsed": true
   },
   "outputs": [],
   "source": [
    "\n"
   ]
  },
  {
   "cell_type": "code",
   "execution_count": null,
   "metadata": {
    "collapsed": true
   },
   "outputs": [],
   "source": []
  },
  {
   "cell_type": "code",
   "execution_count": null,
   "metadata": {
    "collapsed": true
   },
   "outputs": [],
   "source": []
  },
  {
   "cell_type": "code",
   "execution_count": null,
   "metadata": {
    "collapsed": true
   },
   "outputs": [],
   "source": []
  },
  {
   "cell_type": "code",
   "execution_count": null,
   "metadata": {
    "collapsed": true
   },
   "outputs": [],
   "source": []
  },
  {
   "cell_type": "code",
   "execution_count": null,
   "metadata": {
    "collapsed": true
   },
   "outputs": [],
   "source": []
  }
 ],
 "metadata": {
  "kernelspec": {
   "display_name": "Python 2",
   "language": "python",
   "name": "python2"
  },
  "language_info": {
   "codemirror_mode": {
    "name": "ipython",
    "version": 2
   },
   "file_extension": ".py",
   "mimetype": "text/x-python",
   "name": "python",
   "nbconvert_exporter": "python",
   "pygments_lexer": "ipython2",
   "version": "2.7.11"
  }
 },
 "nbformat": 4,
 "nbformat_minor": 0
}
