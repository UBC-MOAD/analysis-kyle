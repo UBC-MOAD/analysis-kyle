{
 "metadata": {
  "name": "",
  "signature": "sha256:eaa2686d455d826624a33dec1973107456dda56d686f300f7ea4c7a480ee79fe"
 },
 "nbformat": 3,
 "nbformat_minor": 0,
 "worksheets": [
  {
   "cells": [
    {
     "cell_type": "code",
     "collapsed": false,
     "input": [],
     "language": "python",
     "metadata": {},
     "outputs": [],
     "prompt_number": 1
    },
    {
     "cell_type": "heading",
     "level": 1,
     "metadata": {},
     "source": [
      "Import moduels and tools"
     ]
    },
    {
     "cell_type": "code",
     "collapsed": false,
     "input": [
      "import glob\n",
      "import scipy.io\n",
      "import numpy as np\n",
      "import matplotlib.pyplot as plt\n",
      "import matplotlib.cm as plt_cm\n",
      "from __future__ import division\n",
      "from __future__ import print_function\n",
      "\n",
      "from mpl_toolkits.basemap import cm\n",
      "from mpl_toolkits.basemap import Basemap\n",
      "\n",
      "% matplotlib inline"
     ],
     "language": "python",
     "metadata": {},
     "outputs": [],
     "prompt_number": 2
    },
    {
     "cell_type": "code",
     "collapsed": false,
     "input": [],
     "language": "python",
     "metadata": {},
     "outputs": [],
     "prompt_number": 2
    },
    {
     "cell_type": "code",
     "collapsed": false,
     "input": [],
     "language": "python",
     "metadata": {},
     "outputs": [],
     "prompt_number": 2
    },
    {
     "cell_type": "code",
     "collapsed": false,
     "input": [
      "MATLAB_file=glob.glob('_data/Samples/GIPY11/*.mat')"
     ],
     "language": "python",
     "metadata": {},
     "outputs": [],
     "prompt_number": 3
    },
    {
     "cell_type": "code",
     "collapsed": false,
     "input": [
      "GIPY11=scipy.io.loadmat(MATLAB_file[0])"
     ],
     "language": "python",
     "metadata": {},
     "outputs": [],
     "prompt_number": 4
    },
    {
     "cell_type": "code",
     "collapsed": false,
     "input": [
      "INFO=GIPY11['INFO']\n",
      "print(INFO)\n",
      "#print(CTDPRS)"
     ],
     "language": "python",
     "metadata": {},
     "outputs": [
      {
       "output_type": "stream",
       "stream": "stdout",
       "text": [
        "[ u'Longitude, Latitude, CTDPRS, CTDTMP, CTDSAL, Ba, TA, DIC, NO_3^-, NO_2^-, PO_4^{3-}']\n"
       ]
      }
     ],
     "prompt_number": 5
    },
    {
     "cell_type": "code",
     "collapsed": false,
     "input": [
      "CTDPRS=GIPY11['DATA'][:, 2]\n",
      "CTDSAL=GIPY11['DATA'][:, 4]\n",
      "Ba=GIPY11['DATA'][:, 5]\n",
      "TA=GIPY11['DATA'][:, 6]\n",
      "DIC=GIPY11['DATA'][:, 7]\n",
      "NO3=GIPY11['DATA'][:, 8]\n",
      "NO2=GIPY11['DATA'][:, 9]\n",
      "PO4=GIPY11['DATA'][:, 10]"
     ],
     "language": "python",
     "metadata": {},
     "outputs": [],
     "prompt_number": 6
    },
    {
     "cell_type": "code",
     "collapsed": false,
     "input": [
      "longitude=GIPY11['longitude']\n",
      "latitude=GIPY11['latitude']\n",
      "longitude.shape"
     ],
     "language": "python",
     "metadata": {},
     "outputs": [
      {
       "metadata": {},
       "output_type": "pyout",
       "prompt_number": 7,
       "text": [
        "(126L, 1L)"
       ]
      }
     ],
     "prompt_number": 7
    },
    {
     "cell_type": "code",
     "collapsed": false,
     "input": [],
     "language": "python",
     "metadata": {},
     "outputs": [],
     "prompt_number": 7
    },
    {
     "cell_type": "heading",
     "level": 1,
     "metadata": {},
     "source": [
      "Available in suit points"
     ]
    },
    {
     "cell_type": "code",
     "collapsed": false,
     "input": [
      "# The transection based on my guest\n",
      "pro0=[1, 23];\n",
      "pro1=[38, 86];\n",
      "pro2=[96, 125];"
     ],
     "language": "python",
     "metadata": {},
     "outputs": [],
     "prompt_number": 8
    },
    {
     "cell_type": "code",
     "collapsed": false,
     "input": [
      "ETOPO2_Arctic=scipy.io.loadmat('_data/ETOPO2/ETOPO2_Arctic.mat')\n",
      "lon_arctic=ETOPO2_Arctic['lon_arctic']\n",
      "lat_arctic=ETOPO2_Arctic['lat_arctic']\n",
      "topo_arctic=ETOPO2_Arctic['topo_arctic']"
     ],
     "language": "python",
     "metadata": {},
     "outputs": [
      {
       "ename": "IOError",
       "evalue": "[Errno 2] No such file or directory: '_data/ETOPO2/ETOPO2_Arctic.mat'",
       "output_type": "pyerr",
       "traceback": [
        "\u001b[1;31m---------------------------------------------------------------------------\u001b[0m\n\u001b[1;31mIOError\u001b[0m                                   Traceback (most recent call last)",
        "\u001b[1;32m<ipython-input-9-45f58e2bc01b>\u001b[0m in \u001b[0;36m<module>\u001b[1;34m()\u001b[0m\n\u001b[1;32m----> 1\u001b[1;33m \u001b[0mETOPO2_Arctic\u001b[0m\u001b[1;33m=\u001b[0m\u001b[0mscipy\u001b[0m\u001b[1;33m.\u001b[0m\u001b[0mio\u001b[0m\u001b[1;33m.\u001b[0m\u001b[0mloadmat\u001b[0m\u001b[1;33m(\u001b[0m\u001b[1;34m'_data/ETOPO2/ETOPO2_Arctic.mat'\u001b[0m\u001b[1;33m)\u001b[0m\u001b[1;33m\u001b[0m\u001b[0m\n\u001b[0m\u001b[0;32m      2\u001b[0m \u001b[0mlon_arctic\u001b[0m\u001b[1;33m=\u001b[0m\u001b[0mETOPO2_Arctic\u001b[0m\u001b[1;33m[\u001b[0m\u001b[1;34m'lon_arctic'\u001b[0m\u001b[1;33m]\u001b[0m\u001b[1;33m\u001b[0m\u001b[0m\n\u001b[0;32m      3\u001b[0m \u001b[0mlat_arctic\u001b[0m\u001b[1;33m=\u001b[0m\u001b[0mETOPO2_Arctic\u001b[0m\u001b[1;33m[\u001b[0m\u001b[1;34m'lat_arctic'\u001b[0m\u001b[1;33m]\u001b[0m\u001b[1;33m\u001b[0m\u001b[0m\n\u001b[0;32m      4\u001b[0m \u001b[0mtopo_arctic\u001b[0m\u001b[1;33m=\u001b[0m\u001b[0mETOPO2_Arctic\u001b[0m\u001b[1;33m[\u001b[0m\u001b[1;34m'topo_arctic'\u001b[0m\u001b[1;33m]\u001b[0m\u001b[1;33m\u001b[0m\u001b[0m\n",
        "\u001b[1;32mF:\\Anaconda\\lib\\site-packages\\scipy\\io\\matlab\\mio.pyc\u001b[0m in \u001b[0;36mloadmat\u001b[1;34m(file_name, mdict, appendmat, **kwargs)\u001b[0m\n\u001b[0;32m    129\u001b[0m     \"\"\"\n\u001b[0;32m    130\u001b[0m     \u001b[0mvariable_names\u001b[0m \u001b[1;33m=\u001b[0m \u001b[0mkwargs\u001b[0m\u001b[1;33m.\u001b[0m\u001b[0mpop\u001b[0m\u001b[1;33m(\u001b[0m\u001b[1;34m'variable_names'\u001b[0m\u001b[1;33m,\u001b[0m \u001b[0mNone\u001b[0m\u001b[1;33m)\u001b[0m\u001b[1;33m\u001b[0m\u001b[0m\n\u001b[1;32m--> 131\u001b[1;33m     \u001b[0mMR\u001b[0m \u001b[1;33m=\u001b[0m \u001b[0mmat_reader_factory\u001b[0m\u001b[1;33m(\u001b[0m\u001b[0mfile_name\u001b[0m\u001b[1;33m,\u001b[0m \u001b[0mappendmat\u001b[0m\u001b[1;33m,\u001b[0m \u001b[1;33m**\u001b[0m\u001b[0mkwargs\u001b[0m\u001b[1;33m)\u001b[0m\u001b[1;33m\u001b[0m\u001b[0m\n\u001b[0m\u001b[0;32m    132\u001b[0m     \u001b[0mmatfile_dict\u001b[0m \u001b[1;33m=\u001b[0m \u001b[0mMR\u001b[0m\u001b[1;33m.\u001b[0m\u001b[0mget_variables\u001b[0m\u001b[1;33m(\u001b[0m\u001b[0mvariable_names\u001b[0m\u001b[1;33m)\u001b[0m\u001b[1;33m\u001b[0m\u001b[0m\n\u001b[0;32m    133\u001b[0m     \u001b[1;32mif\u001b[0m \u001b[0mmdict\u001b[0m \u001b[1;32mis\u001b[0m \u001b[1;32mnot\u001b[0m \u001b[0mNone\u001b[0m\u001b[1;33m:\u001b[0m\u001b[1;33m\u001b[0m\u001b[0m\n",
        "\u001b[1;32mF:\\Anaconda\\lib\\site-packages\\scipy\\io\\matlab\\mio.pyc\u001b[0m in \u001b[0;36mmat_reader_factory\u001b[1;34m(file_name, appendmat, **kwargs)\u001b[0m\n\u001b[0;32m     52\u001b[0m        \u001b[0mtype\u001b[0m \u001b[0mdetected\u001b[0m \u001b[1;32min\u001b[0m \u001b[1;33m`\u001b[0m\u001b[0mfilename\u001b[0m\u001b[1;33m`\u001b[0m\u001b[1;33m.\u001b[0m\u001b[1;33m\u001b[0m\u001b[0m\n\u001b[0;32m     53\u001b[0m     \"\"\"\n\u001b[1;32m---> 54\u001b[1;33m     \u001b[0mbyte_stream\u001b[0m \u001b[1;33m=\u001b[0m \u001b[0m_open_file\u001b[0m\u001b[1;33m(\u001b[0m\u001b[0mfile_name\u001b[0m\u001b[1;33m,\u001b[0m \u001b[0mappendmat\u001b[0m\u001b[1;33m)\u001b[0m\u001b[1;33m\u001b[0m\u001b[0m\n\u001b[0m\u001b[0;32m     55\u001b[0m     \u001b[0mmjv\u001b[0m\u001b[1;33m,\u001b[0m \u001b[0mmnv\u001b[0m \u001b[1;33m=\u001b[0m \u001b[0mget_matfile_version\u001b[0m\u001b[1;33m(\u001b[0m\u001b[0mbyte_stream\u001b[0m\u001b[1;33m)\u001b[0m\u001b[1;33m\u001b[0m\u001b[0m\n\u001b[0;32m     56\u001b[0m     \u001b[1;32mif\u001b[0m \u001b[0mmjv\u001b[0m \u001b[1;33m==\u001b[0m \u001b[1;36m0\u001b[0m\u001b[1;33m:\u001b[0m\u001b[1;33m\u001b[0m\u001b[0m\n",
        "\u001b[1;32mF:\\Anaconda\\lib\\site-packages\\scipy\\io\\matlab\\mio.pyc\u001b[0m in \u001b[0;36m_open_file\u001b[1;34m(file_like, appendmat)\u001b[0m\n\u001b[0;32m     26\u001b[0m                 \u001b[0mfile_like\u001b[0m \u001b[1;33m+=\u001b[0m \u001b[1;34m'.mat'\u001b[0m\u001b[1;33m\u001b[0m\u001b[0m\n\u001b[0;32m     27\u001b[0m                 \u001b[1;32mreturn\u001b[0m \u001b[0mopen\u001b[0m\u001b[1;33m(\u001b[0m\u001b[0mfile_like\u001b[0m\u001b[1;33m,\u001b[0m \u001b[1;34m'rb'\u001b[0m\u001b[1;33m)\u001b[0m\u001b[1;33m\u001b[0m\u001b[0m\n\u001b[1;32m---> 28\u001b[1;33m             \u001b[1;32mraise\u001b[0m \u001b[0mIOError\u001b[0m\u001b[1;33m(\u001b[0m\u001b[0me\u001b[0m\u001b[1;33m)\u001b[0m\u001b[1;33m\u001b[0m\u001b[0m\n\u001b[0m\u001b[0;32m     29\u001b[0m     \u001b[1;31m# not a string - maybe file-like object\u001b[0m\u001b[1;33m\u001b[0m\u001b[1;33m\u001b[0m\u001b[0m\n\u001b[0;32m     30\u001b[0m     \u001b[1;32mtry\u001b[0m\u001b[1;33m:\u001b[0m\u001b[1;33m\u001b[0m\u001b[0m\n",
        "\u001b[1;31mIOError\u001b[0m: [Errno 2] No such file or directory: '_data/ETOPO2/ETOPO2_Arctic.mat'"
       ]
      }
     ],
     "prompt_number": 9
    },
    {
     "cell_type": "code",
     "collapsed": false,
     "input": [
      "# Adjust resolution\n",
      "res_unit=5\n",
      "lon_arctic=lon_arctic[0:-1:res_unit, 0:-1:res_unit]\n",
      "lat_arctic=lat_arctic[0:-1:res_unit, 0:-1:res_unit]\n",
      "topo_arctic=topo_arctic[0:-1:res_unit, 0:-1:res_unit]*-1"
     ],
     "language": "python",
     "metadata": {},
     "outputs": []
    },
    {
     "cell_type": "code",
     "collapsed": false,
     "input": [
      "clevs=[1000, 2000, 3000]\n",
      "# create figure, add axes\n",
      "fig=plt.figure(figsize=(8, 8))\n",
      "proj=Basemap(projection='npstere', resolution='l', \\\n",
      "            boundinglat=66.5, lon_0=90, round=True)\n",
      "ax=plt.gca()\n",
      "## define parallels and meridians to draw.\n",
      "parallels=np.arange(-90, 90, 15)\n",
      "meridians=np.arange(0, 360, 60)\n",
      "proj.drawparallels(parallels, labels=[1, 1, 1, 1],\\\n",
      "                  fontsize=10, latmax=90)\n",
      "proj.drawmeridians(meridians, labels=[1, 1, 1, 1],\\\n",
      "                  fontsize=10, latmax=90)\n",
      "# draw coast & fill continents\n",
      "proj.fillcontinents(color=[0.5, 0.5, 0.5], lake_color=None) # coral\n",
      "# compute native x,y coordinates of grid.\n",
      "x, y=proj(longitude, latitude)\n",
      "x_topo, y_topo=proj(lon_arctic, lat_arctic)\n",
      "CS=proj.contour(x_topo, y_topo, topo_arctic, clevs, \\\n",
      "                linestyles='-', linewidths=1.5, colors=('k',), alpha=0.75)\n",
      "proj.plot(x, y, linestyle='None', marker='o', markersize=8, mfc=[0.8, 0.8, 0.8], mec='k')\n",
      "proj.plot(x[pro0[0]:pro0[1]], y[pro0[0]:pro0[1]], linestyle='None', marker='o', markersize=8, mfc=[0.7, 0.4, 0.3], mec='k')\n",
      "proj.plot(x[pro1[0]:pro1[1]], y[pro1[0]:pro1[1]], linestyle='None', marker='o', markersize=8, mfc=[0.3, 0.4, 0.7], mec='k')\n",
      "proj.plot(x[pro2[0]:pro2[1]], y[pro2[0]:pro2[1]], linestyle='None', marker='o', markersize=8, mfc=[0.3, 0.7, 0.4], mec='k')\n",
      "ax.set_title('GIPY11 Locations', fontweight='bold', fontsize=16, y=1.025)\n",
      "plt.show()"
     ],
     "language": "python",
     "metadata": {},
     "outputs": []
    },
    {
     "cell_type": "code",
     "collapsed": false,
     "input": [],
     "language": "python",
     "metadata": {},
     "outputs": []
    },
    {
     "cell_type": "heading",
     "level": 1,
     "metadata": {},
     "source": [
      "Profiles"
     ]
    },
    {
     "cell_type": "code",
     "collapsed": false,
     "input": [],
     "language": "python",
     "metadata": {},
     "outputs": []
    },
    {
     "cell_type": "code",
     "collapsed": false,
     "input": [],
     "language": "python",
     "metadata": {},
     "outputs": []
    },
    {
     "cell_type": "heading",
     "level": 1,
     "metadata": {},
     "source": [
      "Variation with Depth"
     ]
    },
    {
     "cell_type": "code",
     "collapsed": false,
     "input": [],
     "language": "python",
     "metadata": {},
     "outputs": []
    },
    {
     "cell_type": "heading",
     "level": 1,
     "metadata": {},
     "source": [
      "Tracer Relationships"
     ]
    },
    {
     "cell_type": "code",
     "collapsed": false,
     "input": [
      "fig=plt.figure(figsize=(12, 6))\n",
      "\n",
      "ax1=plt.subplot2grid((1, 2), (0, 0))\n",
      "ax2=plt.subplot2grid((1, 2), (0, 1))\n",
      "\n",
      "ax1.set_xlim(0, 2.5)\n",
      "ax1.set_ylim(0, 20)\n",
      "ax1.plot(PO4, NO3, linestyle='None', marker='o', markersize=4, color='k')\n",
      "ax1.set_xlabel('Phosphate ( umol/kg )', fontsize=12, fontweight='bold')\n",
      "ax1.set_ylabel('Nitrate ( umol/kg )', fontsize=12, fontweight='bold')\n",
      "ax1.set_title('$\\mathrm{PO_4^{3-}}$ v.s. $\\mathrm{NO_3^{-}}$', fontsize=14, fontweight='bold')\n",
      "\n",
      "ax2.set_xlim(0, 2.5)\n",
      "ax2.set_ylim(0, 20)\n",
      "ax2.plot(PO4, NO3+NO2, linestyle='None', marker='o', markersize=4, color='k')\n",
      "ax2.set_xlabel('Phosphate ( umol/kg )', fontsize=12, fontweight='bold')\n",
      "ax2.set_ylabel('Nitrate+Nitrite ( umol/kg )', fontsize=12, fontweight='bold')\n",
      "ax2.set_title('$\\mathrm{PO_4^{3-}}$ v.s. $\\mathrm{NO_3^{-}+NO_2^{-}}$', fontsize=14, fontweight='bold')\n",
      "\n",
      "ax1.grid()\n",
      "ax2.grid()\n",
      "\n",
      "[i.set_linewidth(2) for i in ax1.spines.itervalues()]\n",
      "[i.set_linewidth(2) for i in ax2.spines.itervalues()]\n",
      "\n",
      "plt.show()"
     ],
     "language": "python",
     "metadata": {},
     "outputs": []
    },
    {
     "cell_type": "code",
     "collapsed": false,
     "input": [],
     "language": "python",
     "metadata": {},
     "outputs": []
    },
    {
     "cell_type": "markdown",
     "metadata": {},
     "source": [
      "<img src=\"_figures/02_Yamamoto2008_fig1.png\" width=650 align=\"left\"/>"
     ]
    },
    {
     "cell_type": "code",
     "collapsed": false,
     "input": [],
     "language": "python",
     "metadata": {},
     "outputs": []
    },
    {
     "cell_type": "code",
     "collapsed": false,
     "input": [
      "lim_TA=[np.nanmin(TA), np.nanmax(TA)]\n",
      "lim_DIC=[np.nanmin(DIC), 2550]"
     ],
     "language": "python",
     "metadata": {},
     "outputs": []
    },
    {
     "cell_type": "code",
     "collapsed": false,
     "input": [
      "bin_TA=np.linspace(lim_TA[0], lim_TA[1], 75, dtype=np.float)\n",
      "bin_DIC=np.linspace(lim_DIC[0], 2550, 75, dtype=np.float)"
     ],
     "language": "python",
     "metadata": {},
     "outputs": []
    },
    {
     "cell_type": "code",
     "collapsed": false,
     "input": [
      "fig=plt.figure(figsize=(12, 8))\n",
      "#fig, (ax1, ax2) = plt.subplots(2, 2, figsize=(10, 8), sharex=True)\n",
      "\n",
      "ax1=plt.subplot2grid((2, 8), (0, 0), colspan=6)\n",
      "ax2=plt.subplot2grid((2, 8), (1, 0), colspan=6)\n",
      "ax3=plt.subplot2grid((2, 8), (0, 6), colspan=2)\n",
      "ax4=plt.subplot2grid((2, 8), (1, 6), colspan=2)\n",
      "\n",
      "ax1.set_xlim(32, 35.2)\n",
      "ax1.set_ylim(lim_TA[0], lim_TA[1])\n",
      "L1=ax1.plot(CTDSAL, TA, linestyle='None', marker='o', markersize=4, color='k')\n",
      "ax1.set_ylabel('Total Alkalinity\\n( umol/kg )', fontsize=12, fontweight='bold')\n",
      "ax1.set_title('(a) Relationship between S and TALK', fontweight='bold', fontsize=14)\n",
      "\n",
      "ax3.set_ylim(lim_TA[0], lim_TA[1])\n",
      "ax3.hist(TA, bins=bin_TA, color=[0.7, 0.7, 0.7], orientation='horizontal')\n",
      "\n",
      "ax2.set_xlim(32, 35.2)\n",
      "ax2.set_ylim(lim_DIC[0], 2550)\n",
      "L2=ax2.plot(CTDSAL, DIC, linestyle='None', marker='o', markersize=4, color='k')\n",
      "ax2.set_xlabel('Salinity', fontsize=12)\n",
      "ax2.set_ylabel('Dissolved Inorganic Carbon\\n( umol/kg )', fontsize=12, fontweight='bold')\n",
      "ax2.set_title('(b) Relationship between S and DIC', fontweight='bold', fontsize=14)\n",
      "\n",
      "ax4.set_ylim(lim_DIC[0], 2550)\n",
      "ax4.hist(DIC, bins=bin_DIC, color=[0.7, 0.7, 0.7], orientation='horizontal')\n",
      "\n",
      "ax1.grid()\n",
      "ax2.grid()\n",
      "ax3.grid()\n",
      "ax4.grid()\n",
      "\n",
      "ax1.axes.xaxis.set_ticklabels([])\n",
      "ax3.axes.yaxis.set_ticklabels([])\n",
      "ax4.axes.yaxis.set_ticklabels([])\n",
      "\n",
      "[i.set_linewidth(2) for i in ax1.spines.itervalues()]\n",
      "[i.set_linewidth(2) for i in ax2.spines.itervalues()]\n",
      "[i.set_linewidth(2) for i in ax3.spines.itervalues()]\n",
      "[i.set_linewidth(2) for i in ax4.spines.itervalues()]\n",
      "\n",
      "plt.show()"
     ],
     "language": "python",
     "metadata": {},
     "outputs": []
    },
    {
     "cell_type": "markdown",
     "metadata": {},
     "source": [
      "<img src=\"_figures/02_Yamamoto2008_fig2.png\" width=650 align=\"left\"/>"
     ]
    },
    {
     "cell_type": "code",
     "collapsed": false,
     "input": [],
     "language": "python",
     "metadata": {},
     "outputs": []
    },
    {
     "cell_type": "code",
     "collapsed": false,
     "input": [],
     "language": "python",
     "metadata": {},
     "outputs": []
    },
    {
     "cell_type": "code",
     "collapsed": false,
     "input": [],
     "language": "python",
     "metadata": {},
     "outputs": []
    },
    {
     "cell_type": "code",
     "collapsed": false,
     "input": [],
     "language": "python",
     "metadata": {},
     "outputs": []
    }
   ],
   "metadata": {}
  }
 ]
}