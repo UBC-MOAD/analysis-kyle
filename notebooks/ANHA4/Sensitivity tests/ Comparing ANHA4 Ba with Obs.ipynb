{
 "cells": [
  {
   "cell_type": "markdown",
   "metadata": {},
   "source": [
    "# Comparing ANHA4 Ba with Obs"
   ]
  },
  {
   "cell_type": "markdown",
   "metadata": {},
   "source": [
    "This is the notebook I used to compare modeled Ba with field observations. - 2016/01/26\n",
    "\n",
    "Steps:\n",
    "* Match the date: usually model = year-Aug, obs=year-Aug-date\n",
    "* Match lon/lat: nearest neighbor search\n",
    "* Match depth: ANHA4 T grid depth linearly interpolated into profile depth"
   ]
  },
  {
   "cell_type": "markdown",
   "metadata": {
    "collapsed": true
   },
   "source": [
    "<figure>\n",
    "  <img src=\"../../_publish/dmc/Barium/dmc_BG_CK.png\" width=500 align='left'/>\n",
    "  <img src=\"../../_publish/dmc/Barium/dmc_BG_CK_map.png\" width=400 align='left'/>\n",
    "</figure>\n",
    "\n",
    "------------------------------\n"
   ]
  },
  {
   "cell_type": "markdown",
   "metadata": {
    "collapsed": true
   },
   "source": [
    "<figure>\n",
    "  <img src=\"../../_publish/dmc/Barium/dmc_EU_CA.png\" width=500 align='left'/>\n",
    "  <img src=\"../../_publish/dmc/Barium/dmc_EU_CA_map.png\" width=400 align='left'/>\n",
    "</figure>\n",
    "\n",
    "------------------------------\n"
   ]
  },
  {
   "cell_type": "markdown",
   "metadata": {},
   "source": [
    "<figure>\n",
    "  <img src=\"../../_publish/dmc/Barium/dmc_NS_BF.png\" width=500 align='left'/>\n",
    "  <img src=\"../../_publish/dmc/Barium/dmc_NS_BF_map.png\" width=400 align='left'/>\n",
    "</figure>"
   ]
  },
  {
   "cell_type": "code",
   "execution_count": null,
   "metadata": {
    "collapsed": true
   },
   "outputs": [],
   "source": []
  },
  {
   "cell_type": "code",
   "execution_count": null,
   "metadata": {
    "collapsed": true
   },
   "outputs": [],
   "source": []
  },
  {
   "cell_type": "code",
   "execution_count": null,
   "metadata": {
    "collapsed": true
   },
   "outputs": [],
   "source": []
  },
  {
   "cell_type": "code",
   "execution_count": null,
   "metadata": {
    "collapsed": true
   },
   "outputs": [],
   "source": []
  },
  {
   "cell_type": "code",
   "execution_count": null,
   "metadata": {
    "collapsed": true
   },
   "outputs": [],
   "source": []
  }
 ],
 "metadata": {
  "kernelspec": {
   "display_name": "Python 2",
   "language": "python",
   "name": "python2"
  },
  "language_info": {
   "codemirror_mode": {
    "name": "ipython",
    "version": 2
   },
   "file_extension": ".py",
   "mimetype": "text/x-python",
   "name": "python",
   "nbconvert_exporter": "python",
   "pygments_lexer": "ipython2",
   "version": "2.7.12"
  }
 },
 "nbformat": 4,
 "nbformat_minor": 0
}
