{
 "cells": [
  {
   "cell_type": "markdown",
   "metadata": {},
   "source": [
    "# Amount of river Bad input"
   ]
  },
  {
   "cell_type": "code",
   "execution_count": 1,
   "metadata": {
    "collapsed": true
   },
   "outputs": [],
   "source": [
    "import sys\n",
    "sys.path.insert(0, '../../_libs/')\n",
    "import NEMO_tools as Nts\n",
    "from Mat2Py import datenum2datetime, datetime2datenum_single"
   ]
  },
  {
   "cell_type": "code",
   "execution_count": 2,
   "metadata": {
    "collapsed": false
   },
   "outputs": [],
   "source": [
    "import glob\n",
    "import scipy.io\n",
    "import datetime\n",
    "import numpy as np\n",
    "#import seaborn as sb\n",
    "import netCDF4 as nc\n",
    "import NEMO_tools as Nts\n",
    "import matplotlib.pyplot as plt\n",
    "from mpl_toolkits.basemap import Basemap\n",
    "from NEMO_tools import reporj_NEMOgrid\n",
    "from dateutil.relativedelta import relativedelta\n",
    "% matplotlib inline"
   ]
  },
  {
   "cell_type": "code",
   "execution_count": 3,
   "metadata": {
    "collapsed": true
   },
   "outputs": [],
   "source": [
    "def seasonal_decomp3d(data, method=0):\n",
    "    '''\n",
    "    =======================================================================\n",
    "    Remove the seasonal cycle from 1D data\n",
    "                            ----- created on 2015/06/15, Yingkai (Kyle) Sha\n",
    "    -----------------------------------------------------------------------\n",
    "        data = seasonal_decomp(...)\n",
    "    -----------------------------------------------------------------------\n",
    "    Input:\n",
    "            data: Time should be the first dim.\n",
    "            method: removal done by anomaly (=0) or normalize (=1)\n",
    "    ======================================================================= \n",
    "    '''\n",
    "    data2 = np.empty(data.shape)\n",
    "    for mon in range(12):\n",
    "        temp_data = np.nanmean(data[mon:len(data):12, :, :], 0)\n",
    "        if method == 0:\n",
    "            data2[mon:len(data):12, :, :] = data[mon:len(data):12, :, :]-temp_data\n",
    "    return data2"
   ]
  },
  {
   "cell_type": "code",
   "execution_count": 4,
   "metadata": {
    "collapsed": true
   },
   "outputs": [],
   "source": [
    "coordinate_name=glob.glob('/ocean/yingkai/GEOTRACES/NEMO-CODE/NEMOGCM/CONFIG/ANHA4_OFF/EXP00/mesh_zgr.nc')\n",
    "coordinate_obj=nc.Dataset(coordinate_name[0])\n",
    "nav_lon=coordinate_obj.variables['nav_lon'][:]\n",
    "nav_lat=coordinate_obj.variables['nav_lat'][:]\n",
    "e1t = coordinate_obj.variables['e1t'][:]\n",
    "e2t = coordinate_obj.variables['e2t'][:]\n",
    "e3t = coordinate_obj.variables['e3t_0'][:]"
   ]
  },
  {
   "cell_type": "code",
   "execution_count": 5,
   "metadata": {
    "collapsed": true
   },
   "outputs": [],
   "source": [
    "from dateutil.relativedelta import relativedelta\n",
    "base = datetime.datetime(2002, 1, 1)\n",
    "date_list = [base + relativedelta(months=x) for x in range(144)]"
   ]
  },
  {
   "cell_type": "code",
   "execution_count": 6,
   "metadata": {
    "collapsed": false
   },
   "outputs": [],
   "source": [
    "MAT = scipy.io.loadmat('../../_data/Exchange/Ba_ANHA4_SRC.mat')\n",
    "Ba_ANHA4 = MAT['Ba_ANHA4'][:]\n",
    "Ba_ANHA4 = np.transpose(Ba_ANHA4, [0, 2, 1])"
   ]
  },
  {
   "cell_type": "code",
   "execution_count": 7,
   "metadata": {
    "collapsed": false
   },
   "outputs": [],
   "source": [
    "rf_name = sorted(glob.glob('/ocean/yingkai/Repository/CCAR Modeling Team/analysis/Yingkai (Kyle) Sha/_data/NEMO/ANHA4/runoff/*.nc')[2:])\n",
    "rf_name = rf_name[44:-1]\n",
    "NUM = len(rf_name)"
   ]
  },
  {
   "cell_type": "code",
   "execution_count": 8,
   "metadata": {
    "collapsed": false
   },
   "outputs": [
    {
     "data": {
      "text/plain": [
       "['/ocean/yingkai/Repository/CCAR Modeling Team/analysis/Yingkai (Kyle) Sha/_data/NEMO/ANHA4/runoff/ANHA4_runoff_monthly_combined_Dai_Trenberth_Bamber_y2002.nc',\n",
       " '/ocean/yingkai/Repository/CCAR Modeling Team/analysis/Yingkai (Kyle) Sha/_data/NEMO/ANHA4/runoff/ANHA4_runoff_monthly_combined_Dai_Trenberth_Bamber_y2003.nc',\n",
       " '/ocean/yingkai/Repository/CCAR Modeling Team/analysis/Yingkai (Kyle) Sha/_data/NEMO/ANHA4/runoff/ANHA4_runoff_monthly_combined_Dai_Trenberth_Bamber_y2004.nc',\n",
       " '/ocean/yingkai/Repository/CCAR Modeling Team/analysis/Yingkai (Kyle) Sha/_data/NEMO/ANHA4/runoff/ANHA4_runoff_monthly_combined_Dai_Trenberth_Bamber_y2005.nc',\n",
       " '/ocean/yingkai/Repository/CCAR Modeling Team/analysis/Yingkai (Kyle) Sha/_data/NEMO/ANHA4/runoff/ANHA4_runoff_monthly_combined_Dai_Trenberth_Bamber_y2006.nc',\n",
       " '/ocean/yingkai/Repository/CCAR Modeling Team/analysis/Yingkai (Kyle) Sha/_data/NEMO/ANHA4/runoff/ANHA4_runoff_monthly_combined_Dai_Trenberth_Bamber_y2007.nc',\n",
       " '/ocean/yingkai/Repository/CCAR Modeling Team/analysis/Yingkai (Kyle) Sha/_data/NEMO/ANHA4/runoff/ANHA4_runoff_monthly_combined_Dai_Trenberth_Bamber_y2008.nc',\n",
       " '/ocean/yingkai/Repository/CCAR Modeling Team/analysis/Yingkai (Kyle) Sha/_data/NEMO/ANHA4/runoff/ANHA4_runoff_monthly_combined_Dai_Trenberth_Bamber_y2009.nc',\n",
       " '/ocean/yingkai/Repository/CCAR Modeling Team/analysis/Yingkai (Kyle) Sha/_data/NEMO/ANHA4/runoff/ANHA4_runoff_monthly_combined_Dai_Trenberth_Bamber_y2010.nc',\n",
       " '/ocean/yingkai/Repository/CCAR Modeling Team/analysis/Yingkai (Kyle) Sha/_data/NEMO/ANHA4/runoff/ANHA4_runoff_monthly_combined_Dai_Trenberth_Bamber_y2011.nc',\n",
       " '/ocean/yingkai/Repository/CCAR Modeling Team/analysis/Yingkai (Kyle) Sha/_data/NEMO/ANHA4/runoff/ANHA4_runoff_monthly_combined_Dai_Trenberth_Bamber_y2012.nc',\n",
       " '/ocean/yingkai/Repository/CCAR Modeling Team/analysis/Yingkai (Kyle) Sha/_data/NEMO/ANHA4/runoff/ANHA4_runoff_monthly_combined_Dai_Trenberth_Bamber_y2013.nc']"
      ]
     },
     "execution_count": 8,
     "metadata": {},
     "output_type": "execute_result"
    }
   ],
   "source": [
    "rf_name"
   ]
  },
  {
   "cell_type": "markdown",
   "metadata": {},
   "source": [
    "$$\n",
    "\\mathrm{Dissolved\\ Barium\\ river\\ input\\ (mol/s)} = \\frac{1}{\\rho_0}\\mathrm{runoff}\\Delta x\\Delta y\\cdot Ba_d\\cdot 10^{-6}\n",
    "$$\n",
    "$$\n",
    "\\mathrm{Dissolved\\ Barium\\ residence\\ time\\ (s)} = \\frac{Ba_d(d>50m)}{\\mathrm{Dissolved\\ Barium\\ river\\ input}+\\mathrm{^*Pacific\\ \\&\\ Atlantic\\ input}}\n",
    "$$"
   ]
  },
  {
   "cell_type": "code",
   "execution_count": 9,
   "metadata": {
    "collapsed": false
   },
   "outputs": [],
   "source": [
    "Ba_input = np.zeros([144, 800, 544])\n",
    "rf_input = np.zeros([144, 800, 544])\n",
    "for year in range(NUM):\n",
    "    #print(year)\n",
    "    nc_obj = nc.Dataset(rf_name[year])\n",
    "    temp_rf = nc_obj.variables['runoff'][:]*e1t[0, :, :]*e2t[0, :, :]*1e-3   # rf*x*y*rho-1 kg/m2/s --> m3/s\n",
    "    temp_rf[temp_rf==0]=np.nan\n",
    "    for mon in range(12):\n",
    "        #print(mon)\n",
    "        Ba_input[12*year+mon, :, :] = temp_rf[mon, :, :]*Ba_ANHA4[mon, :, :]*1e-6 # mol/s\n",
    "        rf_input[12*year+mon, :, :] = temp_rf[mon, :, :] # m3/s"
   ]
  },
  {
   "cell_type": "code",
   "execution_count": 10,
   "metadata": {
    "collapsed": false
   },
   "outputs": [],
   "source": [
    "rf_map=glob.glob('../../_data/Samples/STN-30p/runoff_id_modified.mat')\n",
    "rf_obj=scipy.io.loadmat(rf_map[0])\n",
    "rf_id=rf_obj['rf_id']\n",
    "rf_lon=rf_obj['lon']\n",
    "rf_lat=rf_obj['lat']\n",
    "rf_id_interp=Nts.reporj_NEMOgrid(rf_lon, rf_lat, rf_id, nav_lon, nav_lat, method='nearest')"
   ]
  },
  {
   "cell_type": "code",
   "execution_count": 20,
   "metadata": {
    "collapsed": false
   },
   "outputs": [],
   "source": [
    "Ba_total    = np.nansum(np.nansum(Ba_input[:, :, :],  1), 1)\n",
    "Ba_CAA = np.nansum(Ba_input[:, rf_id_interp==2], 1)\n",
    "Ba_Barents  = np.nansum(Ba_input[:, rf_id_interp==4],  1)\n",
    "Ba_Beaufort = np.nansum(Ba_input[:, rf_id_interp==5],  1)\n",
    "Ba_Chukchi  = np.nansum(Ba_input[:, rf_id_interp==7],  1)\n",
    "Ba_ESib     = np.nansum(Ba_input[:, rf_id_interp==8],  1)\n",
    "Ba_Kara     = np.nansum(Ba_input[:, rf_id_interp==12], 1)\n",
    "Ba_Laptev   = np.nansum(Ba_input[:, rf_id_interp==13], 1)\n",
    "#rf_total    = np.nansum(np.nansum(rf_input[:, :, :],  1), 1)\n",
    "#rf_Beaufort = np.nansum(rf_input[:, rf_id_interp==5],  1)\n",
    "#rf_ESib     = np.nansum(rf_input[:, rf_id_interp==8],  1)\n",
    "#rf_Kara     = np.nansum(rf_input[:, rf_id_interp==12], 1)\n",
    "#rf_Laptev   = np.nansum(rf_input[:, rf_id_interp==13], 1)"
   ]
  },
  {
   "cell_type": "code",
   "execution_count": 21,
   "metadata": {
    "collapsed": true
   },
   "outputs": [],
   "source": [
    "save_var = {'Ba_total': Ba_total, 'Ba_CAA': Ba_CAA, 'Ba_Barents': Ba_Barents, 'Ba_Beaufort': Ba_Beaufort,\n",
    "           'Ba_Chukchi': Ba_Chukchi, 'Ba_ESib': Ba_ESib, 'Ba_Kara': Ba_Kara, 'Ba_Laptev': Ba_Laptev}\n",
    "scipy.io.savemat('../../_data/MAT files/Ba_river_input.mat', mdict=save_var)"
   ]
  },
  {
   "cell_type": "code",
   "execution_count": 12,
   "metadata": {
    "collapsed": false
   },
   "outputs": [
    {
     "data": {
      "text/plain": [
       "[<matplotlib.lines.Line2D at 0x7f6abc083290>]"
      ]
     },
     "execution_count": 12,
     "metadata": {},
     "output_type": "execute_result"
    },
    {
     "data": {
      "image/png": "[encoded data removed]",
      "text/plain": [
       "<matplotlib.figure.Figure at 0x7f6ac2115350>"
      ]
     },
     "metadata": {},
     "output_type": "display_data"
    }
   ],
   "source": [
    "plt.plot(Ba_total)"
   ]
  },
  {
   "cell_type": "code",
   "execution_count": 13,
   "metadata": {
    "collapsed": false
   },
   "outputs": [
    {
     "data": {
      "text/plain": [
       "array([  9.47447911,  11.01090681,  10.70238888,  12.46291512,\n",
       "        24.54477922,  45.27241911,  33.22768603,  27.16314233,\n",
       "        24.34489587,  17.77353673,   9.37520582,   8.74252496,\n",
       "         9.47447911,  11.01090681,  10.70238888,  12.46291512,\n",
       "        24.54477922,  45.27241911,  33.22768603,  27.16314233,\n",
       "        24.34489587,  17.77353673,   9.37520582,   8.74252496,\n",
       "         9.47447911,  11.01090681,  10.70238888,  12.46291512,\n",
       "        24.54477922,  45.27241911,  33.22768603,  27.16314233,\n",
       "        24.34489587,  17.77353673,   9.37520582,   8.74252496,\n",
       "         9.47447911,  11.01090681,  10.70238888,  12.46291512,\n",
       "        24.54477922,  45.27241911,  33.22768603,  27.16314233,\n",
       "        24.34489587,  17.77353673,   9.37520582,   8.74252496])"
      ]
     },
     "execution_count": 13,
     "metadata": {},
     "output_type": "execute_result"
    }
   ],
   "source": [
    "Ba_total[-48:]"
   ]
  },
  {
   "cell_type": "code",
   "execution_count": 14,
   "metadata": {
    "collapsed": false
   },
   "outputs": [
    {
     "data": {
      "text/plain": [
       "[<matplotlib.lines.Line2D at 0x7f6a77771dd0>]"
      ]
     },
     "execution_count": 14,
     "metadata": {},
     "output_type": "execute_result"
    },
    {
     "data": {
      "image/png": "[encoded data removed]",
      "text/plain": [
       "<matplotlib.figure.Figure at 0x7f6ac21159d0>"
      ]
     },
     "metadata": {},
     "output_type": "display_data"
    }
   ],
   "source": [
    "plt.plot(Ba_Beaufort)"
   ]
  },
  {
   "cell_type": "code",
   "execution_count": 15,
   "metadata": {
    "collapsed": false
   },
   "outputs": [
    {
     "data": {
      "text/plain": [
       "[<matplotlib.lines.Line2D at 0x7f6a776ac850>]"
      ]
     },
     "execution_count": 15,
     "metadata": {},
     "output_type": "execute_result"
    },
    {
     "data": {
      "image/png": "[encoded data removed]",
      "text/plain": [
       "<matplotlib.figure.Figure at 0x7f6a7778c710>"
      ]
     },
     "metadata": {},
     "output_type": "display_data"
    }
   ],
   "source": [
    "plt.plot(Ba_Laptev)"
   ]
  },
  {
   "cell_type": "code",
   "execution_count": 16,
   "metadata": {
    "collapsed": false
   },
   "outputs": [
    {
     "data": {
      "text/plain": [
       "[<matplotlib.lines.Line2D at 0x7f6a775e97d0>]"
      ]
     },
     "execution_count": 16,
     "metadata": {},
     "output_type": "execute_result"
    },
    {
     "data": {
      "image/png": "[encoded data removed]",
      "text/plain": [
       "<matplotlib.figure.Figure at 0x7f6a776ed190>"
      ]
     },
     "metadata": {},
     "output_type": "display_data"
    }
   ],
   "source": [
    "plt.plot(Ba_Kara)"
   ]
  },
  {
   "cell_type": "code",
   "execution_count": 16,
   "metadata": {
    "collapsed": true
   },
   "outputs": [],
   "source": [
    "MAT = scipy.io.loadmat('../../_data/Exchange/Ba_flux_param.mat')\n",
    "Ba_fluxFS_s = -1*MAT['Ba_fluxFS_s']\n",
    "Ba_fluxBB_s = -1*MAT['Ba_fluxBB_s']"
   ]
  },
  {
   "cell_type": "code",
   "execution_count": 17,
   "metadata": {
    "collapsed": false
   },
   "outputs": [
    {
     "name": "stderr",
     "output_type": "stream",
     "text": [
      "/home/yingkai/anaconda/lib/python2.7/site-packages/IPython/kernel/__main__.py:1: RuntimeWarning: invalid value encountered in less_equal\n",
      "  if __name__ == '__main__':\n",
      "/home/yingkai/anaconda/lib/python2.7/site-packages/IPython/kernel/__main__.py:2: RuntimeWarning: invalid value encountered in less_equal\n",
      "  from IPython.kernel.zmq import kernelapp as app\n"
     ]
    }
   ],
   "source": [
    "Ba_fluxFS_s[Ba_fluxFS_s<=0]=np.nan\n",
    "Ba_fluxBB_s[Ba_fluxBB_s<=0]=np.nan\n",
    "BFS = np.nansum(np.nansum(Ba_fluxFS_s, 1), 1)\n",
    "BBS = np.nansum(np.nansum(Ba_fluxBB_s, 1), 1)"
   ]
  },
  {
   "cell_type": "code",
   "execution_count": 18,
   "metadata": {
    "collapsed": true
   },
   "outputs": [],
   "source": [
    "Ba_Beaufort_year = np.mean(np.reshape(Ba_Beaufort, [12, 12]), 1)\n",
    "Ba_ESib_year = np.mean(np.reshape(Ba_ESib, [12, 12]), 1)\n",
    "Ba_Kara_year = np.mean(np.reshape(Ba_Kara, [12, 12]), 1)\n",
    "Ba_Laptev_year = np.mean(np.reshape(Ba_Laptev, [12, 12]), 1)\n",
    "\n",
    "BFS_year = np.mean(np.reshape(BFS, [12, 12]), 1)\n",
    "BBS_year = np.mean(np.reshape(BBS, [12, 12]), 1)"
   ]
  },
  {
   "cell_type": "code",
   "execution_count": 35,
   "metadata": {
    "collapsed": false
   },
   "outputs": [],
   "source": [
    "from scipy.stats.stats import pearsonr"
   ]
  },
  {
   "cell_type": "code",
   "execution_count": 121,
   "metadata": {
    "collapsed": false
   },
   "outputs": [
    {
     "data": {
      "text/plain": [
       "(0.59766989740797993, 1.2550854272305923e-14)"
      ]
     },
     "execution_count": 121,
     "metadata": {},
     "output_type": "execute_result"
    }
   ],
   "source": [
    "pearsonr(BFS[:-7], Ba_Laptev[7:])"
   ]
  },
  {
   "cell_type": "code",
   "execution_count": 88,
   "metadata": {
    "collapsed": false
   },
   "outputs": [
    {
     "data": {
      "text/plain": [
       "(0.62142504359121298, 5.3823096201498573e-16)"
      ]
     },
     "execution_count": 88,
     "metadata": {},
     "output_type": "execute_result"
    }
   ],
   "source": [
    "pearsonr(BFS[:-6], Ba_Beaufort[6:])"
   ]
  },
  {
   "cell_type": "code",
   "execution_count": 103,
   "metadata": {
    "collapsed": false
   },
   "outputs": [
    {
     "data": {
      "text/plain": [
       "(0.62401259927712127, 2.9257518410582423e-16)"
      ]
     },
     "execution_count": 103,
     "metadata": {},
     "output_type": "execute_result"
    }
   ],
   "source": [
    "pearsonr(BFS[:-6], Ba_Kara[6:])"
   ]
  },
  {
   "cell_type": "code",
   "execution_count": null,
   "metadata": {
    "collapsed": true
   },
   "outputs": [],
   "source": []
  },
  {
   "cell_type": "code",
   "execution_count": 98,
   "metadata": {
    "collapsed": false
   },
   "outputs": [
    {
     "data": {
      "text/plain": [
       "(0.24575165727480344, 0.0035447971917616141)"
      ]
     },
     "execution_count": 98,
     "metadata": {},
     "output_type": "execute_result"
    }
   ],
   "source": [
    "pearsonr(BBS[:-6], Ba_Beaufort[6:])"
   ]
  },
  {
   "cell_type": "code",
   "execution_count": 102,
   "metadata": {
    "collapsed": false
   },
   "outputs": [
    {
     "data": {
      "text/plain": [
       "(0.32538479282975408, 9.8542407595720961e-05)"
      ]
     },
     "execution_count": 102,
     "metadata": {},
     "output_type": "execute_result"
    }
   ],
   "source": [
    "pearsonr(BBS[:-6], Ba_Kara[6:])"
   ]
  },
  {
   "cell_type": "code",
   "execution_count": 106,
   "metadata": {
    "collapsed": false
   },
   "outputs": [
    {
     "data": {
      "text/plain": [
       "(0.28938153053045157, 0.00057636147271427967)"
      ]
     },
     "execution_count": 106,
     "metadata": {},
     "output_type": "execute_result"
    }
   ],
   "source": [
    "pearsonr(BBS[6:], Ba_Laptev[:-6])"
   ]
  },
  {
   "cell_type": "code",
   "execution_count": 109,
   "metadata": {
    "collapsed": false
   },
   "outputs": [
    {
     "data": {
      "text/plain": [
       "[<matplotlib.lines.Line2D at 0x7facc40b17d0>]"
      ]
     },
     "execution_count": 109,
     "metadata": {},
     "output_type": "execute_result"
    },
    {
     "data": {
      "image/png": "[encoded data removed]",
      "text/plain": [
       "<matplotlib.figure.Figure at 0x7facc41e8b10>"
      ]
     },
     "metadata": {},
     "output_type": "display_data"
    }
   ],
   "source": [
    "plt.plot()"
   ]
  },
  {
   "cell_type": "code",
   "execution_count": null,
   "metadata": {
    "collapsed": true
   },
   "outputs": [],
   "source": []
  },
  {
   "cell_type": "code",
   "execution_count": null,
   "metadata": {
    "collapsed": true
   },
   "outputs": [],
   "source": []
  },
  {
   "cell_type": "code",
   "execution_count": null,
   "metadata": {
    "collapsed": true
   },
   "outputs": [],
   "source": []
  },
  {
   "cell_type": "code",
   "execution_count": null,
   "metadata": {
    "collapsed": true
   },
   "outputs": [],
   "source": []
  },
  {
   "cell_type": "code",
   "execution_count": null,
   "metadata": {
    "collapsed": true
   },
   "outputs": [],
   "source": []
  }
 ],
 "metadata": {
  "kernelspec": {
   "display_name": "Python 2",
   "language": "python",
   "name": "python2"
  },
  "language_info": {
   "codemirror_mode": {
    "name": "ipython",
    "version": 2
   },
   "file_extension": ".py",
   "mimetype": "text/x-python",
   "name": "python",
   "nbconvert_exporter": "python",
   "pygments_lexer": "ipython2",
   "version": "2.7.12"
  }
 },
 "nbformat": 4,
 "nbformat_minor": 0
}
