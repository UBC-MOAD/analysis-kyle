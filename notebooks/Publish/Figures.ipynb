{
 "cells": [
  {
   "cell_type": "markdown",
   "metadata": {},
   "source": [
    "# Figures"
   ]
  },
  {
   "cell_type": "code",
   "execution_count": null,
   "metadata": {
    "collapsed": true
   },
   "outputs": [],
   "source": []
  },
  {
   "cell_type": "code",
   "execution_count": null,
   "metadata": {
    "collapsed": true
   },
   "outputs": [],
   "source": []
  },
  {
   "cell_type": "code",
   "execution_count": null,
   "metadata": {
    "collapsed": true
   },
   "outputs": [],
   "source": [
    "PARTNERS_name=glob.glob('_data/Samples/PARTNERS/*Barium.mat')\n",
    "print(\"found file: \\n{}\".format(PARTNERS_name))\n",
    "PARTNERS_obj=scipy.io.loadmat(PARTNERS_name[0])\n",
    "PARTNERS_Lena=PARTNERS_obj['Lena']\n",
    "PARTNERS_Kolyma=PARTNERS_obj['Kolyma']\n",
    "PARTNERS_Yenisey=PARTNERS_obj['Yenisey']\n",
    "PARTNERS_Mackenzie=PARTNERS_obj['Mackenzie']\n",
    "PARTNERS_Ob=PARTNERS_obj['Ob']\n",
    "PARTNERS_Yukon=PARTNERS_obj['Yukon']\n",
    "AGRO_name=glob.glob('_data/Samples/Arctic-GRO/*Barium.mat')\n",
    "print(\"found file: \\n{}\".format(AGRO_name))\n",
    "AGRO_obj=scipy.io.loadmat(AGRO_name[0])\n",
    "AGRO_Lena=AGRO_obj['Lena']\n",
    "AGRO_Kolyma=AGRO_obj['Kolyma']\n",
    "AGRO_Yenisey=AGRO_obj['Yenisey']\n",
    "AGRO_Mackenzie=AGRO_obj['Mackenzie']\n",
    "AGRO_Ob=AGRO_obj['Ob']\n",
    "AGRO_Yukon=AGRO_obj['Yukon']\n",
    "Lena_time=datenum2datetime(PARTNERS_Lena[:, 0]) + datenum2datetime(AGRO_Lena[:, 0])\n",
    "Kolyma_time=datenum2datetime(PARTNERS_Kolyma[:, 0]) + datenum2datetime(AGRO_Kolyma[:, 0])\n",
    "Yenisey_time=datenum2datetime(PARTNERS_Yenisey[:, 0]) + datenum2datetime(AGRO_Yenisey[:, 0])\n",
    "Mackenzie_time=datenum2datetime(PARTNERS_Mackenzie[:, 0]) + datenum2datetime(AGRO_Mackenzie[:, 0])\n",
    "Ob_time=datenum2datetime(PARTNERS_Ob[:, 0]) + datenum2datetime(AGRO_Ob[:, 0])\n",
    "Yukon_time=datenum2datetime(PARTNERS_Yukon[:, 0]) + datenum2datetime(AGRO_Yukon[:, 0])"
   ]
  },
  {
   "cell_type": "code",
   "execution_count": null,
   "metadata": {
    "collapsed": true
   },
   "outputs": [],
   "source": []
  },
  {
   "cell_type": "code",
   "execution_count": null,
   "metadata": {
    "collapsed": true
   },
   "outputs": [],
   "source": []
  },
  {
   "cell_type": "code",
   "execution_count": null,
   "metadata": {
    "collapsed": true
   },
   "outputs": [],
   "source": []
  },
  {
   "cell_type": "code",
   "execution_count": null,
   "metadata": {
    "collapsed": true
   },
   "outputs": [],
   "source": []
  }
 ],
 "metadata": {
  "kernelspec": {
   "display_name": "Python 2",
   "language": "python",
   "name": "python2"
  },
  "language_info": {
   "codemirror_mode": {
    "name": "ipython",
    "version": 2
   },
   "file_extension": ".py",
   "mimetype": "text/x-python",
   "name": "python",
   "nbconvert_exporter": "python",
   "pygments_lexer": "ipython2",
   "version": "2.7.7"
  }
 },
 "nbformat": 4,
 "nbformat_minor": 0
}
