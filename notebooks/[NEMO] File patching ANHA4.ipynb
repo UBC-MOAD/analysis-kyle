{
 "cells": [
  {
   "cell_type": "markdown",
   "metadata": {},
   "source": [
    "# File patching ANHA4"
   ]
  },
  {
   "cell_type": "code",
   "execution_count": 1,
   "metadata": {
    "collapsed": true
   },
   "outputs": [],
   "source": [
    "import datetime"
   ]
  },
  {
   "cell_type": "code",
   "execution_count": 3,
   "metadata": {
    "collapsed": true
   },
   "outputs": [],
   "source": [
    "numdays=5"
   ]
  },
  {
   "cell_type": "code",
   "execution_count": 49,
   "metadata": {
    "collapsed": false
   },
   "outputs": [],
   "source": [
    "base1 = datetime.datetime(2013, 12, 31)\n",
    "date_list1 = [base1 - datetime.timedelta(days=x) for x in range(0, 365, 5)]\n",
    "#\n",
    "base2 = datetime.datetime(2013, 12, 27)\n",
    "date_list2 = [base2 - datetime.timedelta(days=x) for x in range(0, 365, 5)]"
   ]
  },
  {
   "cell_type": "code",
   "execution_count": 50,
   "metadata": {
    "collapsed": false
   },
   "outputs": [
    {
     "data": {
      "text/plain": [
       "[datetime.datetime(2013, 12, 31, 0, 0),\n",
       " datetime.datetime(2013, 12, 26, 0, 0),\n",
       " datetime.datetime(2013, 12, 21, 0, 0),\n",
       " datetime.datetime(2013, 12, 16, 0, 0),\n",
       " datetime.datetime(2013, 12, 11, 0, 0),\n",
       " datetime.datetime(2013, 12, 6, 0, 0),\n",
       " datetime.datetime(2013, 12, 1, 0, 0),\n",
       " datetime.datetime(2013, 11, 26, 0, 0),\n",
       " datetime.datetime(2013, 11, 21, 0, 0),\n",
       " datetime.datetime(2013, 11, 16, 0, 0),\n",
       " datetime.datetime(2013, 11, 11, 0, 0),\n",
       " datetime.datetime(2013, 11, 6, 0, 0),\n",
       " datetime.datetime(2013, 11, 1, 0, 0),\n",
       " datetime.datetime(2013, 10, 27, 0, 0),\n",
       " datetime.datetime(2013, 10, 22, 0, 0),\n",
       " datetime.datetime(2013, 10, 17, 0, 0),\n",
       " datetime.datetime(2013, 10, 12, 0, 0),\n",
       " datetime.datetime(2013, 10, 7, 0, 0),\n",
       " datetime.datetime(2013, 10, 2, 0, 0),\n",
       " datetime.datetime(2013, 9, 27, 0, 0),\n",
       " datetime.datetime(2013, 9, 22, 0, 0),\n",
       " datetime.datetime(2013, 9, 17, 0, 0),\n",
       " datetime.datetime(2013, 9, 12, 0, 0),\n",
       " datetime.datetime(2013, 9, 7, 0, 0),\n",
       " datetime.datetime(2013, 9, 2, 0, 0),\n",
       " datetime.datetime(2013, 8, 28, 0, 0),\n",
       " datetime.datetime(2013, 8, 23, 0, 0),\n",
       " datetime.datetime(2013, 8, 18, 0, 0),\n",
       " datetime.datetime(2013, 8, 13, 0, 0),\n",
       " datetime.datetime(2013, 8, 8, 0, 0),\n",
       " datetime.datetime(2013, 8, 3, 0, 0),\n",
       " datetime.datetime(2013, 7, 29, 0, 0),\n",
       " datetime.datetime(2013, 7, 24, 0, 0),\n",
       " datetime.datetime(2013, 7, 19, 0, 0),\n",
       " datetime.datetime(2013, 7, 14, 0, 0),\n",
       " datetime.datetime(2013, 7, 9, 0, 0),\n",
       " datetime.datetime(2013, 7, 4, 0, 0),\n",
       " datetime.datetime(2013, 6, 29, 0, 0),\n",
       " datetime.datetime(2013, 6, 24, 0, 0),\n",
       " datetime.datetime(2013, 6, 19, 0, 0),\n",
       " datetime.datetime(2013, 6, 14, 0, 0),\n",
       " datetime.datetime(2013, 6, 9, 0, 0),\n",
       " datetime.datetime(2013, 6, 4, 0, 0),\n",
       " datetime.datetime(2013, 5, 30, 0, 0),\n",
       " datetime.datetime(2013, 5, 25, 0, 0),\n",
       " datetime.datetime(2013, 5, 20, 0, 0),\n",
       " datetime.datetime(2013, 5, 15, 0, 0),\n",
       " datetime.datetime(2013, 5, 10, 0, 0),\n",
       " datetime.datetime(2013, 5, 5, 0, 0),\n",
       " datetime.datetime(2013, 4, 30, 0, 0),\n",
       " datetime.datetime(2013, 4, 25, 0, 0),\n",
       " datetime.datetime(2013, 4, 20, 0, 0),\n",
       " datetime.datetime(2013, 4, 15, 0, 0),\n",
       " datetime.datetime(2013, 4, 10, 0, 0),\n",
       " datetime.datetime(2013, 4, 5, 0, 0),\n",
       " datetime.datetime(2013, 3, 31, 0, 0),\n",
       " datetime.datetime(2013, 3, 26, 0, 0),\n",
       " datetime.datetime(2013, 3, 21, 0, 0),\n",
       " datetime.datetime(2013, 3, 16, 0, 0),\n",
       " datetime.datetime(2013, 3, 11, 0, 0),\n",
       " datetime.datetime(2013, 3, 6, 0, 0),\n",
       " datetime.datetime(2013, 3, 1, 0, 0),\n",
       " datetime.datetime(2013, 2, 24, 0, 0),\n",
       " datetime.datetime(2013, 2, 19, 0, 0),\n",
       " datetime.datetime(2013, 2, 14, 0, 0),\n",
       " datetime.datetime(2013, 2, 9, 0, 0),\n",
       " datetime.datetime(2013, 2, 4, 0, 0),\n",
       " datetime.datetime(2013, 1, 30, 0, 0),\n",
       " datetime.datetime(2013, 1, 25, 0, 0),\n",
       " datetime.datetime(2013, 1, 20, 0, 0),\n",
       " datetime.datetime(2013, 1, 15, 0, 0),\n",
       " datetime.datetime(2013, 1, 10, 0, 0),\n",
       " datetime.datetime(2013, 1, 5, 0, 0)]"
      ]
     },
     "execution_count": 50,
     "metadata": {},
     "output_type": "execute_result"
    }
   ],
   "source": [
    "date_list1"
   ]
  },
  {
   "cell_type": "code",
   "execution_count": 51,
   "metadata": {
    "collapsed": false
   },
   "outputs": [
    {
     "data": {
      "text/plain": [
       "[datetime.datetime(2013, 12, 27, 0, 0),\n",
       " datetime.datetime(2013, 12, 22, 0, 0),\n",
       " datetime.datetime(2013, 12, 17, 0, 0),\n",
       " datetime.datetime(2013, 12, 12, 0, 0),\n",
       " datetime.datetime(2013, 12, 7, 0, 0),\n",
       " datetime.datetime(2013, 12, 2, 0, 0),\n",
       " datetime.datetime(2013, 11, 27, 0, 0),\n",
       " datetime.datetime(2013, 11, 22, 0, 0),\n",
       " datetime.datetime(2013, 11, 17, 0, 0),\n",
       " datetime.datetime(2013, 11, 12, 0, 0),\n",
       " datetime.datetime(2013, 11, 7, 0, 0),\n",
       " datetime.datetime(2013, 11, 2, 0, 0),\n",
       " datetime.datetime(2013, 10, 28, 0, 0),\n",
       " datetime.datetime(2013, 10, 23, 0, 0),\n",
       " datetime.datetime(2013, 10, 18, 0, 0),\n",
       " datetime.datetime(2013, 10, 13, 0, 0),\n",
       " datetime.datetime(2013, 10, 8, 0, 0),\n",
       " datetime.datetime(2013, 10, 3, 0, 0),\n",
       " datetime.datetime(2013, 9, 28, 0, 0),\n",
       " datetime.datetime(2013, 9, 23, 0, 0),\n",
       " datetime.datetime(2013, 9, 18, 0, 0),\n",
       " datetime.datetime(2013, 9, 13, 0, 0),\n",
       " datetime.datetime(2013, 9, 8, 0, 0),\n",
       " datetime.datetime(2013, 9, 3, 0, 0),\n",
       " datetime.datetime(2013, 8, 29, 0, 0),\n",
       " datetime.datetime(2013, 8, 24, 0, 0),\n",
       " datetime.datetime(2013, 8, 19, 0, 0),\n",
       " datetime.datetime(2013, 8, 14, 0, 0),\n",
       " datetime.datetime(2013, 8, 9, 0, 0),\n",
       " datetime.datetime(2013, 8, 4, 0, 0),\n",
       " datetime.datetime(2013, 7, 30, 0, 0),\n",
       " datetime.datetime(2013, 7, 25, 0, 0),\n",
       " datetime.datetime(2013, 7, 20, 0, 0),\n",
       " datetime.datetime(2013, 7, 15, 0, 0),\n",
       " datetime.datetime(2013, 7, 10, 0, 0),\n",
       " datetime.datetime(2013, 7, 5, 0, 0),\n",
       " datetime.datetime(2013, 6, 30, 0, 0),\n",
       " datetime.datetime(2013, 6, 25, 0, 0),\n",
       " datetime.datetime(2013, 6, 20, 0, 0),\n",
       " datetime.datetime(2013, 6, 15, 0, 0),\n",
       " datetime.datetime(2013, 6, 10, 0, 0),\n",
       " datetime.datetime(2013, 6, 5, 0, 0),\n",
       " datetime.datetime(2013, 5, 31, 0, 0),\n",
       " datetime.datetime(2013, 5, 26, 0, 0),\n",
       " datetime.datetime(2013, 5, 21, 0, 0),\n",
       " datetime.datetime(2013, 5, 16, 0, 0),\n",
       " datetime.datetime(2013, 5, 11, 0, 0),\n",
       " datetime.datetime(2013, 5, 6, 0, 0),\n",
       " datetime.datetime(2013, 5, 1, 0, 0),\n",
       " datetime.datetime(2013, 4, 26, 0, 0),\n",
       " datetime.datetime(2013, 4, 21, 0, 0),\n",
       " datetime.datetime(2013, 4, 16, 0, 0),\n",
       " datetime.datetime(2013, 4, 11, 0, 0),\n",
       " datetime.datetime(2013, 4, 6, 0, 0),\n",
       " datetime.datetime(2013, 4, 1, 0, 0),\n",
       " datetime.datetime(2013, 3, 27, 0, 0),\n",
       " datetime.datetime(2013, 3, 22, 0, 0),\n",
       " datetime.datetime(2013, 3, 17, 0, 0),\n",
       " datetime.datetime(2013, 3, 12, 0, 0),\n",
       " datetime.datetime(2013, 3, 7, 0, 0),\n",
       " datetime.datetime(2013, 3, 2, 0, 0),\n",
       " datetime.datetime(2013, 2, 25, 0, 0),\n",
       " datetime.datetime(2013, 2, 20, 0, 0),\n",
       " datetime.datetime(2013, 2, 15, 0, 0),\n",
       " datetime.datetime(2013, 2, 10, 0, 0),\n",
       " datetime.datetime(2013, 2, 5, 0, 0),\n",
       " datetime.datetime(2013, 1, 31, 0, 0),\n",
       " datetime.datetime(2013, 1, 26, 0, 0),\n",
       " datetime.datetime(2013, 1, 21, 0, 0),\n",
       " datetime.datetime(2013, 1, 16, 0, 0),\n",
       " datetime.datetime(2013, 1, 11, 0, 0),\n",
       " datetime.datetime(2013, 1, 6, 0, 0),\n",
       " datetime.datetime(2013, 1, 1, 0, 0)]"
      ]
     },
     "execution_count": 51,
     "metadata": {},
     "output_type": "execute_result"
    }
   ],
   "source": [
    "date_list2"
   ]
  },
  {
   "cell_type": "code",
   "execution_count": null,
   "metadata": {
    "collapsed": true
   },
   "outputs": [],
   "source": []
  },
  {
   "cell_type": "code",
   "execution_count": null,
   "metadata": {
    "collapsed": true
   },
   "outputs": [],
   "source": []
  },
  {
   "cell_type": "code",
   "execution_count": null,
   "metadata": {
    "collapsed": true
   },
   "outputs": [],
   "source": []
  },
  {
   "cell_type": "code",
   "execution_count": null,
   "metadata": {
    "collapsed": true
   },
   "outputs": [],
   "source": []
  },
  {
   "cell_type": "code",
   "execution_count": null,
   "metadata": {
    "collapsed": true
   },
   "outputs": [],
   "source": []
  },
  {
   "cell_type": "code",
   "execution_count": null,
   "metadata": {
    "collapsed": true
   },
   "outputs": [],
   "source": []
  },
  {
   "cell_type": "code",
   "execution_count": null,
   "metadata": {
    "collapsed": true
   },
   "outputs": [],
   "source": []
  },
  {
   "cell_type": "code",
   "execution_count": null,
   "metadata": {
    "collapsed": true
   },
   "outputs": [],
   "source": []
  },
  {
   "cell_type": "code",
   "execution_count": null,
   "metadata": {
    "collapsed": true
   },
   "outputs": [],
   "source": []
  }
 ],
 "metadata": {
  "kernelspec": {
   "display_name": "Python 2",
   "language": "python",
   "name": "python2"
  },
  "language_info": {
   "codemirror_mode": {
    "name": "ipython",
    "version": 2
   },
   "file_extension": ".py",
   "mimetype": "text/x-python",
   "name": "python",
   "nbconvert_exporter": "python",
   "pygments_lexer": "ipython2",
   "version": "2.7.7"
  }
 },
 "nbformat": 4,
 "nbformat_minor": 0
}
