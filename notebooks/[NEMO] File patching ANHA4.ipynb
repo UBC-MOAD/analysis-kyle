{
 "cells": [
  {
   "cell_type": "markdown",
   "metadata": {},
   "source": [
    "# File patching ANHA4"
   ]
  },
  {
   "cell_type": "code",
   "execution_count": 1,
   "metadata": {
    "collapsed": true
   },
   "outputs": [],
   "source": [
    "import datetime"
   ]
  },
  {
   "cell_type": "code",
   "execution_count": 3,
   "metadata": {
    "collapsed": true
   },
   "outputs": [],
   "source": [
    "numdays=5"
   ]
  },
  {
   "cell_type": "code",
   "execution_count": 61,
   "metadata": {
    "collapsed": false
   },
   "outputs": [
    {
     "name": "stdout",
     "output_type": "stream",
     "text": [
      "mv *y2013m12d31* *y2013m12d27*\n",
      "mv *y2013m12d26* *y2013m12d22*\n",
      "mv *y2013m12d21* *y2013m12d17*\n",
      "mv *y2013m12d16* *y2013m12d12*\n",
      "mv *y2013m12d11* *y2013m12d07*\n",
      "mv *y2013m12d06* *y2013m12d02*\n",
      "mv *y2013m12d01* *y2013m11d27*\n",
      "mv *y2013m11d26* *y2013m11d22*\n",
      "mv *y2013m11d21* *y2013m11d17*\n",
      "mv *y2013m11d16* *y2013m11d12*\n",
      "mv *y2013m11d11* *y2013m11d07*\n",
      "mv *y2013m11d06* *y2013m11d02*\n",
      "mv *y2013m11d01* *y2013m10d28*\n",
      "mv *y2013m10d27* *y2013m10d23*\n",
      "mv *y2013m10d22* *y2013m10d18*\n",
      "mv *y2013m10d17* *y2013m10d13*\n",
      "mv *y2013m10d12* *y2013m10d08*\n",
      "mv *y2013m10d07* *y2013m10d03*\n",
      "mv *y2013m10d02* *y2013m09d28*\n",
      "mv *y2013m09d27* *y2013m09d23*\n",
      "mv *y2013m09d22* *y2013m09d18*\n",
      "mv *y2013m09d17* *y2013m09d13*\n",
      "mv *y2013m09d12* *y2013m09d08*\n",
      "mv *y2013m09d07* *y2013m09d03*\n",
      "mv *y2013m09d02* *y2013m08d29*\n",
      "mv *y2013m08d28* *y2013m08d24*\n",
      "mv *y2013m08d23* *y2013m08d19*\n",
      "mv *y2013m08d18* *y2013m08d14*\n",
      "mv *y2013m08d13* *y2013m08d09*\n",
      "mv *y2013m08d08* *y2013m08d04*\n",
      "mv *y2013m08d03* *y2013m07d30*\n",
      "mv *y2013m07d29* *y2013m07d25*\n",
      "mv *y2013m07d24* *y2013m07d20*\n",
      "mv *y2013m07d19* *y2013m07d15*\n",
      "mv *y2013m07d14* *y2013m07d10*\n",
      "mv *y2013m07d09* *y2013m07d05*\n",
      "mv *y2013m07d04* *y2013m06d30*\n",
      "mv *y2013m06d29* *y2013m06d25*\n",
      "mv *y2013m06d24* *y2013m06d20*\n",
      "mv *y2013m06d19* *y2013m06d15*\n",
      "mv *y2013m06d14* *y2013m06d10*\n",
      "mv *y2013m06d09* *y2013m06d05*\n",
      "mv *y2013m06d04* *y2013m05d31*\n",
      "mv *y2013m05d30* *y2013m05d26*\n",
      "mv *y2013m05d25* *y2013m05d21*\n",
      "mv *y2013m05d20* *y2013m05d16*\n",
      "mv *y2013m05d15* *y2013m05d11*\n",
      "mv *y2013m05d10* *y2013m05d06*\n",
      "mv *y2013m05d05* *y2013m05d01*\n",
      "mv *y2013m04d30* *y2013m04d26*\n",
      "mv *y2013m04d25* *y2013m04d21*\n",
      "mv *y2013m04d20* *y2013m04d16*\n",
      "mv *y2013m04d15* *y2013m04d11*\n",
      "mv *y2013m04d10* *y2013m04d06*\n",
      "mv *y2013m04d05* *y2013m04d01*\n",
      "mv *y2013m03d31* *y2013m03d27*\n",
      "mv *y2013m03d26* *y2013m03d22*\n",
      "mv *y2013m03d21* *y2013m03d17*\n",
      "mv *y2013m03d16* *y2013m03d12*\n",
      "mv *y2013m03d11* *y2013m03d07*\n",
      "mv *y2013m03d06* *y2013m03d02*\n",
      "mv *y2013m03d01* *y2013m02d25*\n",
      "mv *y2013m02d24* *y2013m02d20*\n",
      "mv *y2013m02d19* *y2013m02d15*\n",
      "mv *y2013m02d14* *y2013m02d10*\n",
      "mv *y2013m02d09* *y2013m02d05*\n",
      "mv *y2013m02d04* *y2013m01d31*\n",
      "mv *y2013m01d30* *y2013m01d26*\n",
      "mv *y2013m01d25* *y2013m01d21*\n",
      "mv *y2013m01d20* *y2013m01d16*\n",
      "mv *y2013m01d15* *y2013m01d11*\n",
      "mv *y2013m01d10* *y2013m01d06*\n",
      "mv *y2013m01d05* *y2013m01d01*\n"
     ]
    }
   ],
   "source": [
    "base1 = datetime.datetime(2013, 12, 31)\n",
    "date_list1 = [base1 - datetime.timedelta(days=x) for x in range(0, 365, 5)]\n",
    "#\n",
    "base2 = datetime.datetime(2013, 12, 27)\n",
    "date_list2 = [base2 - datetime.timedelta(days=x) for x in range(0, 365, 5)]\n",
    "for i in range(len(date_list1)):\n",
    "    str1=date_list1[i].strftime('*y%Ym%md%d*')\n",
    "    str2=date_list2[i].strftime('*y%Ym%md%d*')\n",
    "    print('mv'+' '+str1+' '+str2)"
   ]
  },
  {
   "cell_type": "code",
   "execution_count": null,
   "metadata": {
    "collapsed": true
   },
   "outputs": [],
   "source": []
  },
  {
   "cell_type": "code",
   "execution_count": null,
   "metadata": {
    "collapsed": true
   },
   "outputs": [],
   "source": []
  },
  {
   "cell_type": "code",
   "execution_count": null,
   "metadata": {
    "collapsed": true
   },
   "outputs": [],
   "source": []
  },
  {
   "cell_type": "code",
   "execution_count": null,
   "metadata": {
    "collapsed": true
   },
   "outputs": [],
   "source": []
  },
  {
   "cell_type": "code",
   "execution_count": null,
   "metadata": {
    "collapsed": true
   },
   "outputs": [],
   "source": []
  },
  {
   "cell_type": "code",
   "execution_count": null,
   "metadata": {
    "collapsed": true
   },
   "outputs": [],
   "source": []
  },
  {
   "cell_type": "code",
   "execution_count": null,
   "metadata": {
    "collapsed": true
   },
   "outputs": [],
   "source": []
  },
  {
   "cell_type": "code",
   "execution_count": null,
   "metadata": {
    "collapsed": true
   },
   "outputs": [],
   "source": []
  },
  {
   "cell_type": "code",
   "execution_count": null,
   "metadata": {
    "collapsed": true
   },
   "outputs": [],
   "source": []
  }
 ],
 "metadata": {
  "kernelspec": {
   "display_name": "Python 2",
   "language": "python",
   "name": "python2"
  },
  "language_info": {
   "codemirror_mode": {
    "name": "ipython",
    "version": 2
   },
   "file_extension": ".py",
   "mimetype": "text/x-python",
   "name": "python",
   "nbconvert_exporter": "python",
   "pygments_lexer": "ipython2",
   "version": "2.7.7"
  }
 },
 "nbformat": 4,
 "nbformat_minor": 0
}
