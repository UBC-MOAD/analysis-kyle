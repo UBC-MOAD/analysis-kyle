{
 "cells": [
  {
   "cell_type": "markdown",
   "metadata": {},
   "source": [
    "# Update IPython notebook "
   ]
  },
  {
   "cell_type": "markdown",
   "metadata": {},
   "source": [
    "```bash\n",
    "conda update conda\n",
    "conda update ipython ipython-notebook ipython-qtconsole\n",
    "```\n",
    "If you want things back:\n",
    "```bash\n",
    "ipython nbconvert --to=notebook --nbformat=3 *.ipynb\n",
    "```"
   ]
  },
  {
   "cell_type": "markdown",
   "metadata": {},
   "source": [
    "#Create Python 3.4 environment"
   ]
  },
  {
   "cell_type": "markdown",
   "metadata": {},
   "source": [
    "```bash\n",
    "conda create -n py34 python=3.4 anaconda\n",
    "```\n",
    "Then type `activate py34`, Anaconda will switch to Python 3.4.\n",
    "\n",
    "For installing new modules in Python 3.4, type:\n",
    "```bash\n",
    "conda install\n",
    "```\n",
    "Anaconda will fetch 3.4 packages."
   ]
  },
  {
   "cell_type": "markdown",
   "metadata": {},
   "source": [
    "#Python Extension Packages"
   ]
  },
  {
   "cell_type": "markdown",
   "metadata": {},
   "source": [
    "For packages not included in conda's file channel, Windows people have:\n",
    "\n",
    "http://www.lfd.uci.edu/~gohlke/pythonlibs/"
   ]
  },
  {
   "cell_type": "markdown",
   "metadata": {},
   "source": [
    "# Install \\*.whl Packages\n",
    "```bash\n",
    "pip install wheel\n",
    "pip install name_package.whl\n",
    "```"
   ]
  },
  {
   "cell_type": "code",
   "execution_count": null,
   "metadata": {
    "collapsed": true
   },
   "outputs": [],
   "source": []
  }
 ],
 "metadata": {
  "kernelspec": {
   "display_name": "Python 2",
   "language": "python",
   "name": "python2"
  },
  "language_info": {
   "codemirror_mode": {
    "name": "ipython",
    "version": 2
   },
   "file_extension": ".py",
   "mimetype": "text/x-python",
   "name": "python",
   "nbconvert_exporter": "python",
   "pygments_lexer": "ipython2",
   "version": "2.7.7"
  }
 },
 "nbformat": 4,
 "nbformat_minor": 0
}
